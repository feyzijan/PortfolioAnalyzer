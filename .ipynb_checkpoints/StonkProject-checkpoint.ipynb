{
 "cells": [
  {
   "cell_type": "markdown",
   "metadata": {},
   "source": [
    "### Purpose\n",
    "My aim here is to analyze my investment's performance and compare it with alternative investments.\n"
   ]
  },
  {
   "cell_type": "markdown",
   "metadata": {},
   "source": [
    "# Overall plan"
   ]
  },
  {
   "cell_type": "markdown",
   "metadata": {},
   "source": [
    "1- Import investment deposit information from excel: a list of datesam + amount invested on those dates\n",
    "\n",
    "2- Get historical prices of alternative investment products (eg. SPY) at those given dates\n",
    "\n",
    "\n",
    "3- Calculate how many units of the alternative investment you would own if you purchased at those dates with the amount invested, using adjusted prices\n",
    "\n",
    "\n",
    "4- Chart historical patterns of alternative portfolio and compare with current return\n"
   ]
  },
  {
   "cell_type": "markdown",
   "metadata": {},
   "source": [
    "# 1- Setup "
   ]
  },
  {
   "cell_type": "markdown",
   "metadata": {},
   "source": [
    "### Imports"
   ]
  },
  {
   "cell_type": "code",
   "execution_count": 1,
   "metadata": {
    "ExecuteTime": {
     "end_time": "2022-08-22T16:12:54.902870Z",
     "start_time": "2022-08-22T16:12:52.415439Z"
    }
   },
   "outputs": [],
   "source": [
    "import numpy as np \n",
    "import pandas as pd \n",
    "import requests \n",
    "import yfinance as yf\n",
    "import xlsxwriter # Forxcel\n",
    "import math \n",
    "import matplotlib.pyplot as plt\n",
    "import json\n",
    "import datetime\n",
    "import openpyxl\n",
    "import csv\n",
    "from datetime import date\n",
    "import seaborn as sns"
   ]
  },
  {
   "cell_type": "markdown",
   "metadata": {},
   "source": [
    "## Get data from excel"
   ]
  },
  {
   "cell_type": "markdown",
   "metadata": {},
   "source": [
    "- Convert nutmeg deposits to USD at current rates"
   ]
  },
  {
   "cell_type": "code",
   "execution_count": 2,
   "metadata": {
    "ExecuteTime": {
     "end_time": "2022-08-22T16:13:00.913153Z",
     "start_time": "2022-08-22T16:12:55.393727Z"
    }
   },
   "outputs": [
    {
     "name": "stdout",
     "output_type": "stream",
     "text": [
      "['Etoro', 'Nutmeg', 'Robinhood', 'Returns', 'Spy historical data']\n"
     ]
    }
   ],
   "source": [
    "from openpyxl import load_workbook\n",
    "\n",
    "wb = load_workbook(\"Deposits_Returns.xlsx\")\n",
    "print(wb.sheetnames)\n",
    "\n",
    "ws = wb['Etoro']\n",
    "\n",
    "\n",
    "gbp = yf.Ticker(\"GBPUSD=X\").info['previousClose']\n",
    "\n",
    "data_etoro = {\"Dates\":[cell.value for cell in ws[\"A\"] if type(cell.value) == datetime.datetime],\n",
    "       \"Deposits\": [cell.value for cell in ws[\"B\"] if type(cell.value) != str ]}\n",
    "\n",
    "ws = wb['Nutmeg']\n",
    "data_nutmeg = {\"Dates\":[cell.value for cell in ws[\"A\"] if type(cell.value) == datetime.datetime],\n",
    "       \"Deposits\": [int(cell.value * gbp) for cell in ws[\"B\"] if type(cell.value) == int  ]}\n",
    "\n",
    "# Filter out non numerical data\n",
    "#filtered = filter(lambda x: x!= None and type(x) != str , data[\"Deposits\"])\n",
    "#data[\"Deposits\"] = list(filtered)\n"
   ]
  },
  {
   "cell_type": "markdown",
   "metadata": {},
   "source": [
    "##### Store data in df"
   ]
  },
  {
   "cell_type": "code",
   "execution_count": 3,
   "metadata": {
    "ExecuteTime": {
     "end_time": "2022-08-22T16:13:00.943230Z",
     "start_time": "2022-08-22T16:13:00.914230Z"
    }
   },
   "outputs": [
    {
     "data": {
      "text/html": [
       "<div>\n",
       "<style scoped>\n",
       "    .dataframe tbody tr th:only-of-type {\n",
       "        vertical-align: middle;\n",
       "    }\n",
       "\n",
       "    .dataframe tbody tr th {\n",
       "        vertical-align: top;\n",
       "    }\n",
       "\n",
       "    .dataframe thead th {\n",
       "        text-align: right;\n",
       "    }\n",
       "</style>\n",
       "<table border=\"1\" class=\"dataframe\">\n",
       "  <thead>\n",
       "    <tr style=\"text-align: right;\">\n",
       "      <th></th>\n",
       "      <th>Dates</th>\n",
       "      <th>Deposits</th>\n",
       "    </tr>\n",
       "  </thead>\n",
       "  <tbody>\n",
       "    <tr>\n",
       "      <th>0</th>\n",
       "      <td>2020-06-09</td>\n",
       "      <td>200.0</td>\n",
       "    </tr>\n",
       "    <tr>\n",
       "      <th>1</th>\n",
       "      <td>2020-06-09</td>\n",
       "      <td>200.0</td>\n",
       "    </tr>\n",
       "    <tr>\n",
       "      <th>2</th>\n",
       "      <td>2020-06-10</td>\n",
       "      <td>100.0</td>\n",
       "    </tr>\n",
       "    <tr>\n",
       "      <th>3</th>\n",
       "      <td>2020-06-29</td>\n",
       "      <td>250.0</td>\n",
       "    </tr>\n",
       "    <tr>\n",
       "      <th>4</th>\n",
       "      <td>2020-07-20</td>\n",
       "      <td>250.0</td>\n",
       "    </tr>\n",
       "  </tbody>\n",
       "</table>\n",
       "</div>"
      ],
      "text/plain": [
       "       Dates  Deposits\n",
       "0 2020-06-09     200.0\n",
       "1 2020-06-09     200.0\n",
       "2 2020-06-10     100.0\n",
       "3 2020-06-29     250.0\n",
       "4 2020-07-20     250.0"
      ]
     },
     "execution_count": 3,
     "metadata": {},
     "output_type": "execute_result"
    }
   ],
   "source": [
    "df1 = pd.DataFrame(data=data_etoro, columns=['Dates', 'Deposits'])\n",
    "df2 = pd.DataFrame(data=data_nutmeg, columns=['Dates', 'Deposits'])\n",
    "df = pd.concat(objs=[df1,df2])\n",
    "df.sort_values(by=\"Dates\")\n",
    "df.head()"
   ]
  },
  {
   "cell_type": "code",
   "execution_count": 4,
   "metadata": {
    "ExecuteTime": {
     "end_time": "2022-08-22T16:13:00.958232Z",
     "start_time": "2022-08-22T16:13:00.944235Z"
    }
   },
   "outputs": [
    {
     "data": {
      "text/plain": [
       "(112, 2)"
      ]
     },
     "execution_count": 4,
     "metadata": {},
     "output_type": "execute_result"
    }
   ],
   "source": [
    "df.shape"
   ]
  },
  {
   "cell_type": "markdown",
   "metadata": {},
   "source": [
    "Sum up columns with duplicate dates"
   ]
  },
  {
   "cell_type": "code",
   "execution_count": 5,
   "metadata": {
    "ExecuteTime": {
     "end_time": "2022-08-22T16:13:00.974286Z",
     "start_time": "2022-08-22T16:13:00.959231Z"
    }
   },
   "outputs": [
    {
     "data": {
      "text/plain": [
       "(105, 2)"
      ]
     },
     "execution_count": 5,
     "metadata": {},
     "output_type": "execute_result"
    }
   ],
   "source": [
    "aggregations = {'Deposits': 'sum', 'Dates': 'first'}\n",
    "df = df.groupby(by=df['Dates']).aggregate(aggregations)\n",
    "df.shape"
   ]
  },
  {
   "cell_type": "code",
   "execution_count": 6,
   "metadata": {
    "ExecuteTime": {
     "end_time": "2022-08-22T16:13:00.989230Z",
     "start_time": "2022-08-22T16:13:00.975230Z"
    }
   },
   "outputs": [],
   "source": [
    "df.reset_index(drop=True, inplace=True)"
   ]
  },
  {
   "cell_type": "code",
   "execution_count": 7,
   "metadata": {
    "ExecuteTime": {
     "end_time": "2022-08-22T16:13:01.004232Z",
     "start_time": "2022-08-22T16:13:00.990352Z"
    }
   },
   "outputs": [],
   "source": [
    "df.columns = ['Deposit', 'Date']"
   ]
  },
  {
   "cell_type": "markdown",
   "metadata": {
    "heading_collapsed": true
   },
   "source": [
    "## 2- Use IEX API to get historical price - Dont use"
   ]
  },
  {
   "cell_type": "markdown",
   "metadata": {
    "hidden": true
   },
   "source": [
    " TODO Later:\n",
    " - Figure out how to do batch API calls\n",
    " - Use Yfinance instead if free credits run out"
   ]
  },
  {
   "cell_type": "code",
   "execution_count": 308,
   "metadata": {
    "ExecuteTime": {
     "end_time": "2022-08-13T21:52:41.297308Z",
     "start_time": "2022-08-13T21:52:41.251231Z"
    },
    "hidden": true
   },
   "outputs": [
    {
     "ename": "KeyError",
     "evalue": "'Dates'",
     "output_type": "error",
     "traceback": [
      "\u001b[1;31m---------------------------------------------------------------------------\u001b[0m",
      "\u001b[1;31mKeyError\u001b[0m                                  Traceback (most recent call last)",
      "File \u001b[1;32mC:\\ProgramData\\Anaconda3\\lib\\site-packages\\pandas\\core\\indexes\\base.py:3621\u001b[0m, in \u001b[0;36mIndex.get_loc\u001b[1;34m(self, key, method, tolerance)\u001b[0m\n\u001b[0;32m   3620\u001b[0m \u001b[38;5;28;01mtry\u001b[39;00m:\n\u001b[1;32m-> 3621\u001b[0m     \u001b[38;5;28;01mreturn\u001b[39;00m \u001b[38;5;28;43mself\u001b[39;49m\u001b[38;5;241;43m.\u001b[39;49m\u001b[43m_engine\u001b[49m\u001b[38;5;241;43m.\u001b[39;49m\u001b[43mget_loc\u001b[49m\u001b[43m(\u001b[49m\u001b[43mcasted_key\u001b[49m\u001b[43m)\u001b[49m\n\u001b[0;32m   3622\u001b[0m \u001b[38;5;28;01mexcept\u001b[39;00m \u001b[38;5;167;01mKeyError\u001b[39;00m \u001b[38;5;28;01mas\u001b[39;00m err:\n",
      "File \u001b[1;32mC:\\ProgramData\\Anaconda3\\lib\\site-packages\\pandas\\_libs\\index.pyx:136\u001b[0m, in \u001b[0;36mpandas._libs.index.IndexEngine.get_loc\u001b[1;34m()\u001b[0m\n",
      "File \u001b[1;32mC:\\ProgramData\\Anaconda3\\lib\\site-packages\\pandas\\_libs\\index.pyx:163\u001b[0m, in \u001b[0;36mpandas._libs.index.IndexEngine.get_loc\u001b[1;34m()\u001b[0m\n",
      "File \u001b[1;32mpandas\\_libs\\hashtable_class_helper.pxi:5198\u001b[0m, in \u001b[0;36mpandas._libs.hashtable.PyObjectHashTable.get_item\u001b[1;34m()\u001b[0m\n",
      "File \u001b[1;32mpandas\\_libs\\hashtable_class_helper.pxi:5206\u001b[0m, in \u001b[0;36mpandas._libs.hashtable.PyObjectHashTable.get_item\u001b[1;34m()\u001b[0m\n",
      "\u001b[1;31mKeyError\u001b[0m: 'Dates'",
      "\nThe above exception was the direct cause of the following exception:\n",
      "\u001b[1;31mKeyError\u001b[0m                                  Traceback (most recent call last)",
      "Input \u001b[1;32mIn [308]\u001b[0m, in \u001b[0;36m<cell line: 1>\u001b[1;34m()\u001b[0m\n\u001b[1;32m----> 1\u001b[0m df[\u001b[38;5;124m\"\u001b[39m\u001b[38;5;124mDatesString\u001b[39m\u001b[38;5;124m\"\u001b[39m] \u001b[38;5;241m=\u001b[39m \u001b[43mdf\u001b[49m\u001b[43m[\u001b[49m\u001b[38;5;124;43m\"\u001b[39;49m\u001b[38;5;124;43mDates\u001b[39;49m\u001b[38;5;124;43m\"\u001b[39;49m\u001b[43m]\u001b[49m\u001b[38;5;241m.\u001b[39mdt\u001b[38;5;241m.\u001b[39mstrftime(\u001b[38;5;124m\"\u001b[39m\u001b[38;5;124m%\u001b[39m\u001b[38;5;124mY-\u001b[39m\u001b[38;5;124m%\u001b[39m\u001b[38;5;124mm-\u001b[39m\u001b[38;5;132;01m%d\u001b[39;00m\u001b[38;5;124m\"\u001b[39m)\n",
      "File \u001b[1;32mC:\\ProgramData\\Anaconda3\\lib\\site-packages\\pandas\\core\\frame.py:3505\u001b[0m, in \u001b[0;36mDataFrame.__getitem__\u001b[1;34m(self, key)\u001b[0m\n\u001b[0;32m   3503\u001b[0m \u001b[38;5;28;01mif\u001b[39;00m \u001b[38;5;28mself\u001b[39m\u001b[38;5;241m.\u001b[39mcolumns\u001b[38;5;241m.\u001b[39mnlevels \u001b[38;5;241m>\u001b[39m \u001b[38;5;241m1\u001b[39m:\n\u001b[0;32m   3504\u001b[0m     \u001b[38;5;28;01mreturn\u001b[39;00m \u001b[38;5;28mself\u001b[39m\u001b[38;5;241m.\u001b[39m_getitem_multilevel(key)\n\u001b[1;32m-> 3505\u001b[0m indexer \u001b[38;5;241m=\u001b[39m \u001b[38;5;28;43mself\u001b[39;49m\u001b[38;5;241;43m.\u001b[39;49m\u001b[43mcolumns\u001b[49m\u001b[38;5;241;43m.\u001b[39;49m\u001b[43mget_loc\u001b[49m\u001b[43m(\u001b[49m\u001b[43mkey\u001b[49m\u001b[43m)\u001b[49m\n\u001b[0;32m   3506\u001b[0m \u001b[38;5;28;01mif\u001b[39;00m is_integer(indexer):\n\u001b[0;32m   3507\u001b[0m     indexer \u001b[38;5;241m=\u001b[39m [indexer]\n",
      "File \u001b[1;32mC:\\ProgramData\\Anaconda3\\lib\\site-packages\\pandas\\core\\indexes\\base.py:3623\u001b[0m, in \u001b[0;36mIndex.get_loc\u001b[1;34m(self, key, method, tolerance)\u001b[0m\n\u001b[0;32m   3621\u001b[0m     \u001b[38;5;28;01mreturn\u001b[39;00m \u001b[38;5;28mself\u001b[39m\u001b[38;5;241m.\u001b[39m_engine\u001b[38;5;241m.\u001b[39mget_loc(casted_key)\n\u001b[0;32m   3622\u001b[0m \u001b[38;5;28;01mexcept\u001b[39;00m \u001b[38;5;167;01mKeyError\u001b[39;00m \u001b[38;5;28;01mas\u001b[39;00m err:\n\u001b[1;32m-> 3623\u001b[0m     \u001b[38;5;28;01mraise\u001b[39;00m \u001b[38;5;167;01mKeyError\u001b[39;00m(key) \u001b[38;5;28;01mfrom\u001b[39;00m \u001b[38;5;21;01merr\u001b[39;00m\n\u001b[0;32m   3624\u001b[0m \u001b[38;5;28;01mexcept\u001b[39;00m \u001b[38;5;167;01mTypeError\u001b[39;00m:\n\u001b[0;32m   3625\u001b[0m     \u001b[38;5;66;03m# If we have a listlike key, _check_indexing_error will raise\u001b[39;00m\n\u001b[0;32m   3626\u001b[0m     \u001b[38;5;66;03m#  InvalidIndexError. Otherwise we fall through and re-raise\u001b[39;00m\n\u001b[0;32m   3627\u001b[0m     \u001b[38;5;66;03m#  the TypeError.\u001b[39;00m\n\u001b[0;32m   3628\u001b[0m     \u001b[38;5;28mself\u001b[39m\u001b[38;5;241m.\u001b[39m_check_indexing_error(key)\n",
      "\u001b[1;31mKeyError\u001b[0m: 'Dates'"
     ]
    }
   ],
   "source": [
    "df[\"DatesString\"] = df[\"Dates\"].dt.strftime(\"%Y-%m-%d\")"
   ]
  },
  {
   "cell_type": "markdown",
   "metadata": {
    "ExecuteTime": {
     "end_time": "2022-05-20T11:54:43.779986Z",
     "start_time": "2022-05-20T11:54:43.770989Z"
    },
    "hidden": true
   },
   "source": [
    "##### Setup Parameters"
   ]
  },
  {
   "cell_type": "code",
   "execution_count": null,
   "metadata": {
    "ExecuteTime": {
     "end_time": "2022-08-13T21:52:41.298253Z",
     "start_time": "2022-08-13T21:52:41.298253Z"
    },
    "hidden": true
   },
   "outputs": [],
   "source": [
    "import ApiKey\n",
    "\n",
    "secret_key = ApiKey.secret_api_key\n",
    "test_key = \"Tpk_cbb93367d90f48b295ecf0f6dccd8b6c\"\n",
    "\n",
    "base_url = \"https://cloud.iexapis.com/stable/\"\n",
    "base_url_sandbox = \"https://sandbox.iexapis.com/stable/\"\n",
    "\n",
    "sandbox_token = f\"?token={test_key}\"\n",
    "token = f\"?token={secret_key}\""
   ]
  },
  {
   "cell_type": "markdown",
   "metadata": {
    "hidden": true
   },
   "source": [
    "### First test request with sandbox\n",
    "\n",
    "- Note that if you pass in a weekend date/market holiday you get no result\n",
    "- Take adjusted close prices only, hence assumption is I always buy the thing right before close"
   ]
  },
  {
   "cell_type": "markdown",
   "metadata": {
    "hidden": true
   },
   "source": [
    "##### Parameters"
   ]
  },
  {
   "cell_type": "code",
   "execution_count": null,
   "metadata": {
    "ExecuteTime": {
     "end_time": "2022-08-13T21:52:41.300254Z",
     "start_time": "2022-08-13T21:52:41.300254Z"
    },
    "hidden": true
   },
   "outputs": [],
   "source": [
    "symbol = \"spy\"\n",
    "date = df[\"DatesString\"][0]"
   ]
  },
  {
   "cell_type": "code",
   "execution_count": 77,
   "metadata": {
    "ExecuteTime": {
     "end_time": "2022-08-13T15:59:42.224035Z",
     "start_time": "2022-08-13T15:59:42.214977Z"
    },
    "hidden": true
   },
   "outputs": [
    {
     "data": {
      "text/plain": [
       "'20200609'"
      ]
     },
     "execution_count": 77,
     "metadata": {},
     "output_type": "execute_result"
    }
   ],
   "source": [
    "date"
   ]
  },
  {
   "cell_type": "markdown",
   "metadata": {
    "hidden": true
   },
   "source": [
    "##### Test Single Request in sandbox"
   ]
  },
  {
   "cell_type": "code",
   "execution_count": 78,
   "metadata": {
    "ExecuteTime": {
     "end_time": "2022-08-13T15:59:44.140770Z",
     "start_time": "2022-08-13T15:59:43.544465Z"
    },
    "hidden": true
   },
   "outputs": [
    {
     "name": "stdout",
     "output_type": "stream",
     "text": [
      "https://sandbox.iexapis.com/stable/stock/spy/chart/date/20200609?token=Tpk_cbb93367d90f48b295ecf0f6dccd8b6c&chartByDay=true&chartCloseOnly=true\n"
     ]
    },
    {
     "data": {
      "text/plain": [
       "[{'date': '2020-06-09',\n",
       "  'close': 332.33,\n",
       "  'volume': 80792113,\n",
       "  'change': 0,\n",
       "  'changePercent': 0,\n",
       "  'changeOverTime': 0}]"
      ]
     },
     "execution_count": 78,
     "metadata": {},
     "output_type": "execute_result"
    }
   ],
   "source": [
    "endpoint = f\"stock/{symbol}/chart/date/{date}\"\n",
    "query = \"&chartByDay=true&chartCloseOnly=true\"\n",
    "req_url = base_url_sandbox + endpoint + sandbox_token + query\n",
    "print(req_url)\n",
    "test = requests.get(req_url).json()\n",
    "test"
   ]
  },
  {
   "cell_type": "markdown",
   "metadata": {
    "hidden": true
   },
   "source": [
    "### Function to get all adjusted closing prices"
   ]
  },
  {
   "cell_type": "code",
   "execution_count": 79,
   "metadata": {
    "ExecuteTime": {
     "end_time": "2022-08-13T16:00:00.563988Z",
     "start_time": "2022-08-13T16:00:00.552917Z"
    },
    "hidden": true
   },
   "outputs": [],
   "source": [
    "def get_price_by_date(date_list, symbol, sandbox=True):\n",
    "    # initialize lists to return\n",
    "    hist_prices = []\n",
    "    \n",
    "    if sandbox:\n",
    "        key = sandbox_token\n",
    "        base = base_url_sandbox\n",
    "    else:\n",
    "        key = token\n",
    "        base = base_url\n",
    "        \n",
    "        \n",
    "    queryParameter = \"&chartByDay=true&chartCloseOnly=true\"\n",
    "    \n",
    "    for current_date in date_list:    \n",
    "        endpoint = f\"stock/{symbol}/chart/date/{current_date}\"        \n",
    "        req_url = base + endpoint + key + query\n",
    "        data = requests.get(req_url).json()\n",
    "        hist_prices += [data[0][\"close\"]]\n",
    "        \n",
    "        print(current_date, \"\\n\", data)\n",
    "        \n",
    "    \n",
    "    return hist_prices"
   ]
  },
  {
   "cell_type": "markdown",
   "metadata": {
    "heading_collapsed": true,
    "hidden": true
   },
   "source": [
    "##### Check with Sandbox=True to ensure all dates are valid"
   ]
  },
  {
   "cell_type": "code",
   "execution_count": 80,
   "metadata": {
    "ExecuteTime": {
     "end_time": "2022-08-13T16:01:09.773106Z",
     "start_time": "2022-08-13T16:00:12.028339Z"
    },
    "hidden": true,
    "scrolled": false
   },
   "outputs": [
    {
     "name": "stdout",
     "output_type": "stream",
     "text": [
      "20200609 \n",
      " [{'date': '2020-06-09', 'close': 323.05, 'volume': 80962695, 'change': 0, 'changePercent': 0, 'changeOverTime': 0}]\n",
      "20200609 \n",
      " [{'date': '2020-06-09', 'close': 321.04, 'volume': 80486624, 'change': 0, 'changePercent': 0, 'changeOverTime': 0}]\n",
      "20200610 \n",
      " [{'date': '2020-06-10', 'close': 332, 'volume': 95017029, 'change': 0, 'changePercent': 0, 'changeOverTime': 0}]\n",
      "20200629 \n",
      " [{'date': '2020-06-29', 'close': 317.01, 'volume': 81337395, 'change': 0, 'changePercent': 0, 'changeOverTime': 0}]\n",
      "20200720 \n",
      " [{'date': '2020-07-20', 'close': 334.04, 'volume': 58350016, 'change': 0, 'changePercent': 0, 'changeOverTime': 0}]\n",
      "20200804 \n",
      " [{'date': '2020-08-04', 'close': 341.72, 'volume': 42758232, 'change': 0, 'changePercent': 0, 'changeOverTime': 0}]\n",
      "20200810 \n",
      " [{'date': '2020-08-10', 'close': 341.8, 'volume': 44979240, 'change': 0, 'changePercent': 0, 'changeOverTime': 0}]\n",
      "20200903 \n",
      " [{'date': '2020-09-03', 'close': 359.26, 'volume': 154868908, 'change': 0, 'changePercent': 0, 'changeOverTime': 0}]\n",
      "20200903 \n",
      " [{'date': '2020-09-03', 'close': 360.33, 'volume': 150805493, 'change': 0, 'changePercent': 0, 'changeOverTime': 0}]\n",
      "20200908 \n",
      " [{'date': '2020-09-08', 'close': 334.19, 'volume': 120100446, 'change': 0, 'changePercent': 0, 'changeOverTime': 0}]\n",
      "20201016 \n",
      " [{'date': '2020-10-16', 'close': 347.71, 'volume': 90930632, 'change': 0, 'changePercent': 0, 'changeOverTime': 0}]\n",
      "20201029 \n",
      " [{'date': '2020-10-29', 'close': 339.46, 'volume': 92012208, 'change': 0, 'changePercent': 0, 'changeOverTime': 0}]\n",
      "20201029 \n",
      " [{'date': '2020-10-29', 'close': 346.06, 'volume': 93950161, 'change': 0, 'changePercent': 0, 'changeOverTime': 0}]\n",
      "20201109 \n",
      " [{'date': '2020-11-09', 'close': 359.67, 'volume': 175268561, 'change': 0, 'changePercent': 0, 'changeOverTime': 0}]\n",
      "20201116 \n",
      " [{'date': '2020-11-16', 'close': 379.49, 'volume': 75839257, 'change': 0, 'changePercent': 0, 'changeOverTime': 0}]\n",
      "20201130 \n",
      " [{'date': '2020-11-30', 'close': 376.72, 'volume': 86978366, 'change': 0, 'changePercent': 0, 'changeOverTime': 0}]\n",
      "20201130 \n",
      " [{'date': '2020-11-30', 'close': 363.85, 'volume': 85783248, 'change': 0, 'changePercent': 0, 'changeOverTime': 0}]\n",
      "20201208 \n",
      " [{'date': '2020-12-08', 'close': 386.74, 'volume': 43884483, 'change': 0, 'changePercent': 0, 'changeOverTime': 0}]\n",
      "20201210 \n",
      " [{'date': '2020-12-10', 'close': 376.73, 'volume': 59170155, 'change': 0, 'changePercent': 0, 'changeOverTime': 0}]\n",
      "20210104 \n",
      " [{'date': '2021-01-04', 'close': 370.02, 'volume': 111611705, 'change': 0, 'changePercent': 0, 'changeOverTime': 0}]\n",
      "20210111 \n",
      " [{'date': '2021-01-11', 'close': 395.14, 'volume': 53313749, 'change': 0, 'changePercent': 0, 'changeOverTime': 0}]\n",
      "20210115 \n",
      " [{'date': '2021-01-15', 'close': 381.3, 'volume': 110616556, 'change': 0, 'changePercent': 0, 'changeOverTime': 0}]\n",
      "20210125 \n",
      " [{'date': '2021-01-25', 'close': 401.17, 'volume': 71735142, 'change': 0, 'changePercent': 0, 'changeOverTime': 0}]\n",
      "20210201 \n",
      " [{'date': '2021-02-01', 'close': 376.55, 'volume': 79569825, 'change': 0, 'changePercent': 0, 'changeOverTime': 0}]\n",
      "20210223 \n",
      " [{'date': '2021-02-23', 'close': 397.4, 'volume': 109468645, 'change': 0, 'changePercent': 0, 'changeOverTime': 0}]\n",
      "20210301 \n",
      " [{'date': '2021-03-01', 'close': 395.46, 'volume': 108620916, 'change': 0, 'changePercent': 0, 'changeOverTime': 0}]\n",
      "20210309 \n",
      " [{'date': '2021-03-09', 'close': 402.57, 'volume': 116947448, 'change': 0, 'changePercent': 0, 'changeOverTime': 0}]\n",
      "20210309 \n",
      " [{'date': '2021-03-09', 'close': 390.35, 'volume': 118207001, 'change': 0, 'changePercent': 0, 'changeOverTime': 0}]\n",
      "20210322 \n",
      " [{'date': '2021-03-22', 'close': 403.96, 'volume': 74971703, 'change': 0, 'changePercent': 0, 'changeOverTime': 0}]\n",
      "20210330 \n",
      " [{'date': '2021-03-30', 'close': 399.87, 'volume': 76419517, 'change': 0, 'changePercent': 0, 'changeOverTime': 0}]\n",
      "20210406 \n",
      " [{'date': '2021-04-06', 'close': 412.42, 'volume': 63490126, 'change': 0, 'changePercent': 0, 'changeOverTime': 0}]\n",
      "20210413 \n",
      " [{'date': '2021-04-13', 'close': 413.24, 'volume': 56638523, 'change': 0, 'changePercent': 0, 'changeOverTime': 0}]\n",
      "20210419 \n",
      " [{'date': '2021-04-19', 'close': 432.89, 'volume': 78939412, 'change': 0, 'changePercent': 0, 'changeOverTime': 0}]\n",
      "20210420 \n",
      " [{'date': '2021-04-20', 'close': 430.19, 'volume': 82800892, 'change': 0, 'changePercent': 0, 'changeOverTime': 0}]\n",
      "20210423 \n",
      " [{'date': '2021-04-23', 'close': 425.16, 'volume': 73347455, 'change': 0, 'changePercent': 0, 'changeOverTime': 0}]\n",
      "20210503 \n",
      " [{'date': '2021-05-03', 'close': 434.7, 'volume': 69917176, 'change': 0, 'changePercent': 0, 'changeOverTime': 0}]\n",
      "20210510 \n",
      " [{'date': '2021-05-10', 'close': 437.1, 'volume': 83390011, 'change': 0, 'changePercent': 0, 'changeOverTime': 0}]\n",
      "20210517 \n",
      " [{'date': '2021-05-17', 'close': 435.27, 'volume': 65377752, 'change': 0, 'changePercent': 0, 'changeOverTime': 0}]\n",
      "20210525 \n",
      " [{'date': '2021-05-25', 'close': 423.69, 'volume': 59574192, 'change': 0, 'changePercent': 0, 'changeOverTime': 0}]\n",
      "20210602 \n",
      " [{'date': '2021-06-02', 'close': 430.63, 'volume': 50248500, 'change': 0, 'changePercent': 0, 'changeOverTime': 0}]\n",
      "20210608 \n",
      " [{'date': '2021-06-08', 'close': 433.84, 'volume': 48775468, 'change': 0, 'changePercent': 0, 'changeOverTime': 0}]\n",
      "20210615 \n",
      " [{'date': '2021-06-15', 'close': 426.48, 'volume': 52611800, 'change': 0, 'changePercent': 0, 'changeOverTime': 0}]\n",
      "20210621 \n",
      " [{'date': '2021-06-21', 'close': 430.81, 'volume': 75872088, 'change': 0, 'changePercent': 0, 'changeOverTime': 0}]\n",
      "20210628 \n",
      " [{'date': '2021-06-28', 'close': 447.36, 'volume': 53901834, 'change': 0, 'changePercent': 0, 'changeOverTime': 0}]\n",
      "20210707 \n",
      " [{'date': '2021-07-07', 'close': 453.14, 'volume': 64596926, 'change': 0, 'changePercent': 0, 'changeOverTime': 0}]\n",
      "20210712 \n",
      " [{'date': '2021-07-12', 'close': 444.12, 'volume': 55289951, 'change': 0, 'changePercent': 0, 'changeOverTime': 0}]\n",
      "20210719 \n",
      " [{'date': '2021-07-19', 'close': 436.63, 'volume': 152667388, 'change': 0, 'changePercent': 0, 'changeOverTime': 0}]\n",
      "20210726 \n",
      " [{'date': '2021-07-26', 'close': 442.14, 'volume': 43741618, 'change': 0, 'changePercent': 0, 'changeOverTime': 0}]\n",
      "20210726 \n",
      " [{'date': '2021-07-26', 'close': 458.2, 'volume': 44555238, 'change': 0, 'changePercent': 0, 'changeOverTime': 0}]\n",
      "20210802 \n",
      " [{'date': '2021-08-02', 'close': 454.96, 'volume': 60224766, 'change': 0, 'changePercent': 0, 'changeOverTime': 0}]\n",
      "20210803 \n",
      " [{'date': '2021-08-03', 'close': 455.77, 'volume': 60551876, 'change': 0, 'changePercent': 0, 'changeOverTime': 0}]\n",
      "20210810 \n",
      " [{'date': '2021-08-10', 'close': 446.28, 'volume': 44709846, 'change': 0, 'changePercent': 0, 'changeOverTime': 0}]\n",
      "20210816 \n",
      " [{'date': '2021-08-16', 'close': 450.87, 'volume': 74471683, 'change': 0, 'changePercent': 0, 'changeOverTime': 0}]\n",
      "20210820 \n",
      " [{'date': '2021-08-20', 'close': 444.36, 'volume': 75091273, 'change': 0, 'changePercent': 0, 'changeOverTime': 0}]\n",
      "20210827 \n",
      " [{'date': '2021-08-27', 'close': 457.05, 'volume': 80237027, 'change': 0, 'changePercent': 0, 'changeOverTime': 0}]\n",
      "20210909 \n",
      " [{'date': '2021-09-09', 'close': 461.02, 'volume': 58781417, 'change': 0, 'changePercent': 0, 'changeOverTime': 0}]\n",
      "20210913 \n",
      " [{'date': '2021-09-13', 'close': 459.59, 'volume': 86293112, 'change': 0, 'changePercent': 0, 'changeOverTime': 0}]\n",
      "20210923 \n",
      " [{'date': '2021-09-23', 'close': 459.55, 'volume': 76502297, 'change': 0, 'changePercent': 0, 'changeOverTime': 0}]\n",
      "20210927 \n",
      " [{'date': '2021-09-27', 'close': 464.59, 'volume': 62240904, 'change': 0, 'changePercent': 0, 'changeOverTime': 0}]\n",
      "20211004 \n",
      " [{'date': '2021-10-04', 'close': 437.05, 'volume': 128860398, 'change': 0, 'changePercent': 0, 'changeOverTime': 0}]\n",
      "20211011 \n",
      " [{'date': '2021-10-11', 'close': 450.23, 'volume': 65549207, 'change': 0, 'changePercent': 0, 'changeOverTime': 0}]\n",
      "20211018 \n",
      " [{'date': '2021-10-18', 'close': 462.28, 'volume': 64946538, 'change': 0, 'changePercent': 0, 'changeOverTime': 0}]\n",
      "20211025 \n",
      " [{'date': '2021-10-25', 'close': 470.99, 'volume': 47273080, 'change': 0, 'changePercent': 0, 'changeOverTime': 0}]\n",
      "20211101 \n",
      " [{'date': '2021-11-01', 'close': 480.21, 'volume': 49881006, 'change': 0, 'changePercent': 0, 'changeOverTime': 0}]\n",
      "20211101 \n",
      " [{'date': '2021-11-01', 'close': 470.09, 'volume': 50385049, 'change': 0, 'changePercent': 0, 'changeOverTime': 0}]\n"
     ]
    },
    {
     "name": "stdout",
     "output_type": "stream",
     "text": [
      "20211108 \n",
      " [{'date': '2021-11-08', 'close': 477.92, 'volume': 52450747, 'change': 0, 'changePercent': 0, 'changeOverTime': 0}]\n",
      "20211115 \n",
      " [{'date': '2021-11-15', 'close': 474.03, 'volume': 47468912, 'change': 0, 'changePercent': 0, 'changeOverTime': 0}]\n",
      "20211118 \n",
      " [{'date': '2021-11-18', 'close': 486.3, 'volume': 52922935, 'change': 0, 'changePercent': 0, 'changeOverTime': 0}]\n",
      "20211122 \n",
      " [{'date': '2021-11-22', 'close': 480.22, 'volume': 73385991, 'change': 0, 'changePercent': 0, 'changeOverTime': 0}]\n",
      "20211129 \n",
      " [{'date': '2021-11-29', 'close': 472.5, 'volume': 89923154, 'change': 0, 'changePercent': 0, 'changeOverTime': 0}]\n",
      "20211202 \n",
      " [{'date': '2021-12-02', 'close': 479.6, 'volume': 129258727, 'change': 0, 'changePercent': 0, 'changeOverTime': 0}]\n",
      "20211206 \n",
      " [{'date': '2021-12-06', 'close': 477, 'volume': 100995580, 'change': 0, 'changePercent': 0, 'changeOverTime': 0}]\n",
      "20211213 \n",
      " [{'date': '2021-12-13', 'close': 482.57, 'volume': 91494620, 'change': 0, 'changePercent': 0, 'changeOverTime': 0}]\n",
      "20211220 \n",
      " [{'date': '2021-12-20', 'close': 464.2, 'volume': 110514890, 'change': 0, 'changePercent': 0, 'changeOverTime': 0}]\n",
      "20211227 \n",
      " [{'date': '2021-12-27', 'close': 496.1, 'volume': 58070692, 'change': 0, 'changePercent': 0, 'changeOverTime': 0}]\n",
      "20220103 \n",
      " [{'date': '2022-01-03', 'close': 487.64, 'volume': 75678357, 'change': 0, 'changePercent': 0, 'changeOverTime': 0}]\n",
      "20220110 \n",
      " [{'date': '2022-01-10', 'close': 467.38, 'volume': 124382913, 'change': 0, 'changePercent': 0, 'changeOverTime': 0}]\n",
      "20220118 \n",
      " [{'date': '2022-01-18', 'close': 466.47, 'volume': 113721225, 'change': 0, 'changePercent': 0, 'changeOverTime': 0}]\n",
      "20220124 \n",
      " [{'date': '2022-01-24', 'close': 461.07, 'volume': 257017837, 'change': 0, 'changePercent': 0, 'changeOverTime': 0}]\n",
      "20220131 \n",
      " [{'date': '2022-01-31', 'close': 457.33, 'volume': 158696450, 'change': 0, 'changePercent': 0, 'changeOverTime': 0}]\n",
      "20220207 \n",
      " [{'date': '2022-02-07', 'close': 462.52, 'volume': 84505114, 'change': 0, 'changePercent': 0, 'changeOverTime': 0}]\n",
      "20220214 \n",
      " [{'date': '2022-02-14', 'close': 448.46, 'volume': 128998696, 'change': 0, 'changePercent': 0, 'changeOverTime': 0}]\n",
      "20220222 \n",
      " [{'date': '2022-02-22', 'close': 442.47, 'volume': 125256666, 'change': 0, 'changePercent': 0, 'changeOverTime': 0}]\n",
      "20220228 \n",
      " [{'date': '2022-02-28', 'close': 440.01, 'volume': 146123885, 'change': 0, 'changePercent': 0, 'changeOverTime': 0}]\n",
      "20220307 \n",
      " [{'date': '2022-03-07', 'close': 430.31, 'volume': 138471211, 'change': 0, 'changePercent': 0, 'changeOverTime': 0}]\n",
      "20220314 \n",
      " [{'date': '2022-03-14', 'close': 428, 'volume': 99956158, 'change': 0, 'changePercent': 0, 'changeOverTime': 0}]\n",
      "20220321 \n",
      " [{'date': '2022-03-21', 'close': 465.56, 'volume': 91617512, 'change': 0, 'changePercent': 0, 'changeOverTime': 0}]\n",
      "20220328 \n",
      " [{'date': '2022-03-28', 'close': 478.2, 'volume': 69150532, 'change': 0, 'changePercent': 0, 'changeOverTime': 0}]\n",
      "20220404 \n",
      " [{'date': '2022-04-04', 'close': 469.5, 'volume': 60645860, 'change': 0, 'changePercent': 0, 'changeOverTime': 0}]\n",
      "20220411 \n",
      " [{'date': '2022-04-11', 'close': 443.32, 'volume': 93373608, 'change': 0, 'changePercent': 0, 'changeOverTime': 0}]\n",
      "20220418 \n",
      " [{'date': '2022-04-18', 'close': 447.96, 'volume': 66596184, 'change': 0, 'changePercent': 0, 'changeOverTime': 0}]\n",
      "20220425 \n",
      " [{'date': '2022-04-25', 'close': 441.79, 'volume': 125612481, 'change': 0, 'changePercent': 0, 'changeOverTime': 0}]\n",
      "20220502 \n",
      " [{'date': '2022-05-02', 'close': 420.55, 'volume': 159147662, 'change': 0, 'changePercent': 0, 'changeOverTime': 0}]\n",
      "20220505 \n",
      " [{'date': '2022-05-05', 'close': 418.46, 'volume': 180799627, 'change': 0, 'changePercent': 0, 'changeOverTime': 0}]\n",
      "20220509 \n",
      " [{'date': '2022-05-09', 'close': 411.58, 'volume': 162597693, 'change': 0, 'changePercent': 0, 'changeOverTime': 0}]\n",
      "20220516 \n",
      " [{'date': '2022-05-16', 'close': 415.84, 'volume': 78642521, 'change': 0, 'changePercent': 0, 'changeOverTime': 0}]\n",
      "20220523 \n",
      " [{'date': '2022-05-23', 'close': 403.72, 'volume': 76751255, 'change': 0, 'changePercent': 0, 'changeOverTime': 0}]\n"
     ]
    },
    {
     "ename": "IndexError",
     "evalue": "list index out of range",
     "output_type": "error",
     "traceback": [
      "\u001b[1;31m---------------------------------------------------------------------------\u001b[0m",
      "\u001b[1;31mIndexError\u001b[0m                                Traceback (most recent call last)",
      "Input \u001b[1;32mIn [80]\u001b[0m, in \u001b[0;36m<cell line: 1>\u001b[1;34m()\u001b[0m\n\u001b[1;32m----> 1\u001b[0m hist_prices_mock \u001b[38;5;241m=\u001b[39m \u001b[43mget_price_by_date\u001b[49m\u001b[43m(\u001b[49m\u001b[43mdf\u001b[49m\u001b[43m[\u001b[49m\u001b[38;5;124;43m\"\u001b[39;49m\u001b[38;5;124;43mDatesString\u001b[39;49m\u001b[38;5;124;43m\"\u001b[39;49m\u001b[43m]\u001b[49m\u001b[43m,\u001b[49m\u001b[43m \u001b[49m\u001b[43msymbol\u001b[49m\u001b[43m,\u001b[49m\u001b[43msandbox\u001b[49m\u001b[38;5;241;43m=\u001b[39;49m\u001b[38;5;28;43;01mTrue\u001b[39;49;00m\u001b[43m)\u001b[49m\n",
      "Input \u001b[1;32mIn [79]\u001b[0m, in \u001b[0;36mget_price_by_date\u001b[1;34m(date_list, symbol, sandbox)\u001b[0m\n\u001b[0;32m     17\u001b[0m     req_url \u001b[38;5;241m=\u001b[39m base \u001b[38;5;241m+\u001b[39m endpoint \u001b[38;5;241m+\u001b[39m key \u001b[38;5;241m+\u001b[39m query\n\u001b[0;32m     18\u001b[0m     data \u001b[38;5;241m=\u001b[39m requests\u001b[38;5;241m.\u001b[39mget(req_url)\u001b[38;5;241m.\u001b[39mjson()\n\u001b[1;32m---> 19\u001b[0m     hist_prices \u001b[38;5;241m+\u001b[39m\u001b[38;5;241m=\u001b[39m [\u001b[43mdata\u001b[49m\u001b[43m[\u001b[49m\u001b[38;5;241;43m0\u001b[39;49m\u001b[43m]\u001b[49m[\u001b[38;5;124m\"\u001b[39m\u001b[38;5;124mclose\u001b[39m\u001b[38;5;124m\"\u001b[39m]]\n\u001b[0;32m     21\u001b[0m     \u001b[38;5;28mprint\u001b[39m(current_date, \u001b[38;5;124m\"\u001b[39m\u001b[38;5;130;01m\\n\u001b[39;00m\u001b[38;5;124m\"\u001b[39m, data)\n\u001b[0;32m     24\u001b[0m \u001b[38;5;28;01mreturn\u001b[39;00m hist_prices\n",
      "\u001b[1;31mIndexError\u001b[0m: list index out of range"
     ]
    }
   ],
   "source": [
    "hist_prices_mock = get_price_by_date(df[\"DatesString\"], symbol,sandbox=True)"
   ]
  },
  {
   "cell_type": "markdown",
   "metadata": {
    "hidden": true
   },
   "source": [
    "### ACTUAL CALL - Execute Rarely  "
   ]
  },
  {
   "cell_type": "code",
   "execution_count": 81,
   "metadata": {
    "ExecuteTime": {
     "end_time": "2022-08-13T16:03:59.379688Z",
     "start_time": "2022-08-13T16:03:01.232294Z"
    },
    "hidden": true
   },
   "outputs": [
    {
     "name": "stdout",
     "output_type": "stream",
     "text": [
      "20200609 \n",
      " [{'date': '2020-06-09', 'close': 320.79, 'volume': 77479228, 'change': 0, 'changePercent': 0, 'changeOverTime': 0}]\n",
      "20200609 \n",
      " [{'date': '2020-06-09', 'close': 320.79, 'volume': 77479228, 'change': 0, 'changePercent': 0, 'changeOverTime': 0}]\n",
      "20200610 \n",
      " [{'date': '2020-06-10', 'close': 319, 'volume': 95000766, 'change': 0, 'changePercent': 0, 'changeOverTime': 0}]\n",
      "20200629 \n",
      " [{'date': '2020-06-29', 'close': 304.46, 'volume': 79773260, 'change': 0, 'changePercent': 0, 'changeOverTime': 0}]\n",
      "20200720 \n",
      " [{'date': '2020-07-20', 'close': 324.32, 'volume': 56308849, 'change': 0, 'changePercent': 0, 'changeOverTime': 0}]\n",
      "20200804 \n",
      " [{'date': '2020-08-04', 'close': 330.06, 'volume': 41917893, 'change': 0, 'changePercent': 0, 'changeOverTime': 0}]\n",
      "20200810 \n",
      " [{'date': '2020-08-10', 'close': 335.57, 'volume': 44282089, 'change': 0, 'changePercent': 0, 'changeOverTime': 0}]\n",
      "20200903 \n",
      " [{'date': '2020-09-03', 'close': 345.39, 'volume': 148011129, 'change': 0, 'changePercent': 0, 'changeOverTime': 0}]\n",
      "20200903 \n",
      " [{'date': '2020-09-03', 'close': 345.39, 'volume': 148011129, 'change': 0, 'changePercent': 0, 'changeOverTime': 0}]\n",
      "20200908 \n",
      " [{'date': '2020-09-08', 'close': 333.21, 'volume': 114465322, 'change': 0, 'changePercent': 0, 'changeOverTime': 0}]\n",
      "20201016 \n",
      " [{'date': '2020-10-16', 'close': 347.29, 'volume': 89501868, 'change': 0, 'changePercent': 0, 'changeOverTime': 0}]\n",
      "20201029 \n",
      " [{'date': '2020-10-29', 'close': 329.98, 'volume': 90597689, 'change': 0, 'changePercent': 0, 'changeOverTime': 0}]\n",
      "20201029 \n",
      " [{'date': '2020-10-29', 'close': 329.98, 'volume': 90597689, 'change': 0, 'changePercent': 0, 'changeOverTime': 0}]\n",
      "20201109 \n",
      " [{'date': '2020-11-09', 'close': 354.56, 'volume': 172304203, 'change': 0, 'changePercent': 0, 'changeOverTime': 0}]\n",
      "20201116 \n",
      " [{'date': '2020-11-16', 'close': 362.57, 'volume': 74541138, 'change': 0, 'changePercent': 0, 'changeOverTime': 0}]\n",
      "20201130 \n",
      " [{'date': '2020-11-30', 'close': 362.06, 'volume': 83872709, 'change': 0, 'changePercent': 0, 'changeOverTime': 0}]\n",
      "20201130 \n",
      " [{'date': '2020-11-30', 'close': 362.06, 'volume': 83872709, 'change': 0, 'changePercent': 0, 'changeOverTime': 0}]\n",
      "20201208 \n",
      " [{'date': '2020-12-08', 'close': 370.17, 'volume': 42458859, 'change': 0, 'changePercent': 0, 'changeOverTime': 0}]\n",
      "20201210 \n",
      " [{'date': '2020-12-10', 'close': 366.73, 'volume': 57735353, 'change': 0, 'changePercent': 0, 'changeOverTime': 0}]\n",
      "20210104 \n",
      " [{'date': '2021-01-04', 'close': 368.79, 'volume': 110210810, 'change': 0, 'changePercent': 0, 'changeOverTime': 0}]\n",
      "20210111 \n",
      " [{'date': '2021-01-11', 'close': 378.69, 'volume': 51176719, 'change': 0, 'changePercent': 0, 'changeOverTime': 0}]\n",
      "20210115 \n",
      " [{'date': '2021-01-15', 'close': 375.7, 'volume': 107159962, 'change': 0, 'changePercent': 0, 'changeOverTime': 0}]\n",
      "20210125 \n",
      " [{'date': '2021-01-25', 'close': 384.39, 'volume': 70401971, 'change': 0, 'changePercent': 0, 'changeOverTime': 0}]\n",
      "20210201 \n",
      " [{'date': '2021-02-01', 'close': 376.23, 'volume': 75817597, 'change': 0, 'changePercent': 0, 'changeOverTime': 0}]\n",
      "20210223 \n",
      " [{'date': '2021-02-23', 'close': 387.5, 'volume': 107284127, 'change': 0, 'changePercent': 0, 'changeOverTime': 0}]\n",
      "20210301 \n",
      " [{'date': '2021-03-01', 'close': 389.58, 'volume': 105348798, 'change': 0, 'changePercent': 0, 'changeOverTime': 0}]\n",
      "20210309 \n",
      " [{'date': '2021-03-09', 'close': 387.17, 'volume': 113633556, 'change': 0, 'changePercent': 0, 'changeOverTime': 0}]\n",
      "20210309 \n",
      " [{'date': '2021-03-09', 'close': 387.17, 'volume': 113633556, 'change': 0, 'changePercent': 0, 'changeOverTime': 0}]\n",
      "20210322 \n",
      " [{'date': '2021-03-22', 'close': 392.59, 'volume': 73778646, 'change': 0, 'changePercent': 0, 'changeOverTime': 0}]\n",
      "20210330 \n",
      " [{'date': '2021-03-30', 'close': 394.73, 'volume': 76262249, 'change': 0, 'changePercent': 0, 'changeOverTime': 0}]\n",
      "20210406 \n",
      " [{'date': '2021-04-06', 'close': 406.12, 'volume': 62020953, 'change': 0, 'changePercent': 0, 'changeOverTime': 0}]\n",
      "20210413 \n",
      " [{'date': '2021-04-13', 'close': 412.86, 'volume': 56550988, 'change': 0, 'changePercent': 0, 'changeOverTime': 0}]\n",
      "20210419 \n",
      " [{'date': '2021-04-19', 'close': 415.21, 'volume': 78498496, 'change': 0, 'changePercent': 0, 'changeOverTime': 0}]\n",
      "20210420 \n",
      " [{'date': '2021-04-20', 'close': 412.17, 'volume': 81851828, 'change': 0, 'changePercent': 0, 'changeOverTime': 0}]\n",
      "20210423 \n",
      " [{'date': '2021-04-23', 'close': 416.74, 'volume': 73276195, 'change': 0, 'changePercent': 0, 'changeOverTime': 0}]\n",
      "20210503 \n",
      " [{'date': '2021-05-03', 'close': 418.2, 'volume': 68128289, 'change': 0, 'changePercent': 0, 'changeOverTime': 0}]\n",
      "20210510 \n",
      " [{'date': '2021-05-10', 'close': 417.94, 'volume': 81852446, 'change': 0, 'changePercent': 0, 'changeOverTime': 0}]\n",
      "20210517 \n",
      " [{'date': '2021-05-17', 'close': 415.52, 'volume': 65129221, 'change': 0, 'changePercent': 0, 'changeOverTime': 0}]\n",
      "20210525 \n",
      " [{'date': '2021-05-25', 'close': 418.24, 'volume': 57451396, 'change': 0, 'changePercent': 0, 'changeOverTime': 0}]\n",
      "20210602 \n",
      " [{'date': '2021-06-02', 'close': 420.33, 'volume': 49097061, 'change': 0, 'changePercent': 0, 'changeOverTime': 0}]\n",
      "20210608 \n",
      " [{'date': '2021-06-08', 'close': 422.28, 'volume': 47134279, 'change': 0, 'changePercent': 0, 'changeOverTime': 0}]\n",
      "20210615 \n",
      " [{'date': '2021-06-15', 'close': 424.48, 'volume': 51508508, 'change': 0, 'changePercent': 0, 'changeOverTime': 0}]\n",
      "20210621 \n",
      " [{'date': '2021-06-21', 'close': 420.86, 'volume': 72822028, 'change': 0, 'changePercent': 0, 'changeOverTime': 0}]\n",
      "20210628 \n",
      " [{'date': '2021-06-28', 'close': 427.47, 'volume': 53159581, 'change': 0, 'changePercent': 0, 'changeOverTime': 0}]\n",
      "20210707 \n",
      " [{'date': '2021-07-07', 'close': 434.46, 'volume': 63549456, 'change': 0, 'changePercent': 0, 'changeOverTime': 0}]\n",
      "20210712 \n",
      " [{'date': '2021-07-12', 'close': 437.08, 'volume': 52889585, 'change': 0, 'changePercent': 0, 'changeOverTime': 0}]\n",
      "20210719 \n",
      " [{'date': '2021-07-19', 'close': 424.97, 'volume': 147987000, 'change': 0, 'changePercent': 0, 'changeOverTime': 0}]\n",
      "20210726 \n",
      " [{'date': '2021-07-26', 'close': 441.02, 'volume': 43719187, 'change': 0, 'changePercent': 0, 'changeOverTime': 0}]\n",
      "20210726 \n",
      " [{'date': '2021-07-26', 'close': 441.02, 'volume': 43719187, 'change': 0, 'changePercent': 0, 'changeOverTime': 0}]\n",
      "20210802 \n",
      " [{'date': '2021-08-02', 'close': 437.59, 'volume': 58783297, 'change': 0, 'changePercent': 0, 'changeOverTime': 0}]\n",
      "20210803 \n",
      " [{'date': '2021-08-03', 'close': 441.15, 'volume': 58053896, 'change': 0, 'changePercent': 0, 'changeOverTime': 0}]\n",
      "20210810 \n",
      " [{'date': '2021-08-10', 'close': 442.68, 'volume': 43339275, 'change': 0, 'changePercent': 0, 'changeOverTime': 0}]\n",
      "20210816 \n",
      " [{'date': '2021-08-16', 'close': 446.97, 'volume': 73930864, 'change': 0, 'changePercent': 0, 'changeOverTime': 0}]\n",
      "20210820 \n",
      " [{'date': '2021-08-20', 'close': 443.36, 'volume': 72008712, 'change': 0, 'changePercent': 0, 'changeOverTime': 0}]\n",
      "20210827 \n",
      " [{'date': '2021-08-27', 'close': 450.25, 'volume': 77235113, 'change': 0, 'changePercent': 0, 'changeOverTime': 0}]\n",
      "20210909 \n",
      " [{'date': '2021-09-09', 'close': 448.98, 'volume': 57970407, 'change': 0, 'changePercent': 0, 'changeOverTime': 0}]\n",
      "20210913 \n",
      " [{'date': '2021-09-13', 'close': 446.58, 'volume': 83738649, 'change': 0, 'changePercent': 0, 'changeOverTime': 0}]\n",
      "20210923 \n",
      " [{'date': '2021-09-23', 'close': 443.18, 'volume': 76395981, 'change': 0, 'changePercent': 0, 'changeOverTime': 0}]\n",
      "20210927 \n",
      " [{'date': '2021-09-27', 'close': 442.64, 'volume': 61371108, 'change': 0, 'changePercent': 0, 'changeOverTime': 0}]\n",
      "20211004 \n",
      " [{'date': '2021-10-04', 'close': 428.64, 'volume': 128569957, 'change': 0, 'changePercent': 0, 'changeOverTime': 0}]\n",
      "20211011 \n",
      " [{'date': '2021-10-11', 'close': 434.69, 'volume': 65233285, 'change': 0, 'changePercent': 0, 'changeOverTime': 0}]\n",
      "20211018 \n",
      " [{'date': '2021-10-18', 'close': 447.19, 'volume': 62213228, 'change': 0, 'changePercent': 0, 'changeOverTime': 0}]\n",
      "20211025 \n",
      " [{'date': '2021-10-25', 'close': 455.55, 'volume': 45214507, 'change': 0, 'changePercent': 0, 'changeOverTime': 0}]\n",
      "20211101 \n",
      " [{'date': '2021-11-01', 'close': 460.04, 'volume': 48433642, 'change': 0, 'changePercent': 0, 'changeOverTime': 0}]\n",
      "20211101 \n",
      " [{'date': '2021-11-01', 'close': 460.04, 'volume': 48433642, 'change': 0, 'changePercent': 0, 'changeOverTime': 0}]\n"
     ]
    },
    {
     "name": "stdout",
     "output_type": "stream",
     "text": [
      "20211108 \n",
      " [{'date': '2021-11-08', 'close': 468.93, 'volume': 50405194, 'change': 0, 'changePercent': 0, 'changeOverTime': 0}]\n",
      "20211115 \n",
      " [{'date': '2021-11-15', 'close': 467.43, 'volume': 46980500, 'change': 0, 'changePercent': 0, 'changeOverTime': 0}]\n",
      "20211118 \n",
      " [{'date': '2021-11-18', 'close': 469.73, 'volume': 50625607, 'change': 0, 'changePercent': 0, 'changeOverTime': 0}]\n",
      "20211122 \n",
      " [{'date': '2021-11-22', 'close': 467.57, 'volume': 72761954, 'change': 0, 'changePercent': 0, 'changeOverTime': 0}]\n",
      "20211129 \n",
      " [{'date': '2021-11-29', 'close': 464.6, 'volume': 86268818, 'change': 0, 'changePercent': 0, 'changeOverTime': 0}]\n",
      "20211202 \n",
      " [{'date': '2021-12-02', 'close': 457.4, 'volume': 127637758, 'change': 0, 'changePercent': 0, 'changeOverTime': 0}]\n",
      "20211206 \n",
      " [{'date': '2021-12-06', 'close': 458.79, 'volume': 98977532, 'change': 0, 'changePercent': 0, 'changeOverTime': 0}]\n",
      "20211213 \n",
      " [{'date': '2021-12-13', 'close': 466.57, 'volume': 87724680, 'change': 0, 'changePercent': 0, 'changeOverTime': 0}]\n",
      "20211220 \n",
      " [{'date': '2021-12-20', 'close': 454.98, 'volume': 107134822, 'change': 0, 'changePercent': 0, 'changeOverTime': 0}]\n",
      "20211227 \n",
      " [{'date': '2021-12-27', 'close': 477.26, 'volume': 56808619, 'change': 0, 'changePercent': 0, 'changeOverTime': 0}]\n",
      "20220103 \n",
      " [{'date': '2022-01-03', 'close': 477.71, 'volume': 72668233, 'change': 0, 'changePercent': 0, 'changeOverTime': 0}]\n",
      "20220110 \n",
      " [{'date': '2022-01-10', 'close': 465.51, 'volume': 119361989, 'change': 0, 'changePercent': 0, 'changeOverTime': 0}]\n",
      "20220118 \n",
      " [{'date': '2022-01-18', 'close': 456.49, 'volume': 109872376, 'change': 0, 'changePercent': 0, 'changeOverTime': 0}]\n",
      "20220124 \n",
      " [{'date': '2022-01-24', 'close': 439.84, 'volume': 252496719, 'change': 0, 'changePercent': 0, 'changeOverTime': 0}]\n",
      "20220131 \n",
      " [{'date': '2022-01-31', 'close': 449.91, 'volume': 152251425, 'change': 0, 'changePercent': 0, 'changeOverTime': 0}]\n",
      "20220207 \n",
      " [{'date': '2022-02-07', 'close': 447.26, 'volume': 84472859, 'change': 0, 'changePercent': 0, 'changeOverTime': 0}]\n",
      "20220214 \n",
      " [{'date': '2022-02-14', 'close': 439.02, 'volume': 123006262, 'change': 0, 'changePercent': 0, 'changeOverTime': 0}]\n",
      "20220222 \n",
      " [{'date': '2022-02-22', 'close': 429.57, 'volume': 124391830, 'change': 0, 'changePercent': 0, 'changeOverTime': 0}]\n",
      "20220228 \n",
      " [{'date': '2022-02-28', 'close': 436.63, 'volume': 145615029, 'change': 0, 'changePercent': 0, 'changeOverTime': 0}]\n",
      "20220307 \n",
      " [{'date': '2022-03-07', 'close': 419.43, 'volume': 137896560, 'change': 0, 'changePercent': 0, 'changeOverTime': 0}]\n",
      "20220314 \n",
      " [{'date': '2022-03-14', 'close': 417, 'volume': 95729188, 'change': 0, 'changePercent': 0, 'changeOverTime': 0}]\n",
      "20220321 \n",
      " [{'date': '2022-03-21', 'close': 444.39, 'volume': 88349763, 'change': 0, 'changePercent': 0, 'changeOverTime': 0}]\n",
      "20220328 \n",
      " [{'date': '2022-03-28', 'close': 455.91, 'volume': 68529767, 'change': 0, 'changePercent': 0, 'changeOverTime': 0}]\n",
      "20220404 \n",
      " [{'date': '2022-04-04', 'close': 456.8, 'volume': 59601000, 'change': 0, 'changePercent': 0, 'changeOverTime': 0}]\n",
      "20220411 \n",
      " [{'date': '2022-04-11', 'close': 439.92, 'volume': 89770538, 'change': 0, 'changePercent': 0, 'changeOverTime': 0}]\n",
      "20220418 \n",
      " [{'date': '2022-04-18', 'close': 437.97, 'volume': 66002498, 'change': 0, 'changePercent': 0, 'changeOverTime': 0}]\n",
      "20220425 \n",
      " [{'date': '2022-04-25', 'close': 428.51, 'volume': 119647748, 'change': 0, 'changePercent': 0, 'changeOverTime': 0}]\n",
      "20220502 \n",
      " [{'date': '2022-05-02', 'close': 414.48, 'volume': 158312526, 'change': 0, 'changePercent': 0, 'changeOverTime': 0}]\n",
      "20220505 \n",
      " [{'date': '2022-05-05', 'close': 413.81, 'volume': 172929106, 'change': 0, 'changePercent': 0, 'changeOverTime': 0}]\n",
      "20220509 \n",
      " [{'date': '2022-05-09', 'close': 398.17, 'volume': 155586067, 'change': 0, 'changePercent': 0, 'changeOverTime': 0}]\n",
      "20220516 \n",
      " [{'date': '2022-05-16', 'close': 400.09, 'volume': 78622444, 'change': 0, 'changePercent': 0, 'changeOverTime': 0}]\n",
      "20220523 \n",
      " [{'date': '2022-05-23', 'close': 396.92, 'volume': 76414878, 'change': 0, 'changePercent': 0, 'changeOverTime': 0}]\n"
     ]
    },
    {
     "ename": "IndexError",
     "evalue": "list index out of range",
     "output_type": "error",
     "traceback": [
      "\u001b[1;31m---------------------------------------------------------------------------\u001b[0m",
      "\u001b[1;31mIndexError\u001b[0m                                Traceback (most recent call last)",
      "Input \u001b[1;32mIn [81]\u001b[0m, in \u001b[0;36m<cell line: 1>\u001b[1;34m()\u001b[0m\n\u001b[1;32m----> 1\u001b[0m hist_prices \u001b[38;5;241m=\u001b[39m \u001b[43mget_price_by_date\u001b[49m\u001b[43m(\u001b[49m\u001b[43mdf\u001b[49m\u001b[43m[\u001b[49m\u001b[38;5;124;43m\"\u001b[39;49m\u001b[38;5;124;43mDatesString\u001b[39;49m\u001b[38;5;124;43m\"\u001b[39;49m\u001b[43m]\u001b[49m\u001b[43m,\u001b[49m\u001b[43m \u001b[49m\u001b[43msymbol\u001b[49m\u001b[43m,\u001b[49m\u001b[43msandbox\u001b[49m\u001b[38;5;241;43m=\u001b[39;49m\u001b[38;5;28;43;01mFalse\u001b[39;49;00m\u001b[43m)\u001b[49m\n",
      "Input \u001b[1;32mIn [79]\u001b[0m, in \u001b[0;36mget_price_by_date\u001b[1;34m(date_list, symbol, sandbox)\u001b[0m\n\u001b[0;32m     17\u001b[0m     req_url \u001b[38;5;241m=\u001b[39m base \u001b[38;5;241m+\u001b[39m endpoint \u001b[38;5;241m+\u001b[39m key \u001b[38;5;241m+\u001b[39m query\n\u001b[0;32m     18\u001b[0m     data \u001b[38;5;241m=\u001b[39m requests\u001b[38;5;241m.\u001b[39mget(req_url)\u001b[38;5;241m.\u001b[39mjson()\n\u001b[1;32m---> 19\u001b[0m     hist_prices \u001b[38;5;241m+\u001b[39m\u001b[38;5;241m=\u001b[39m [\u001b[43mdata\u001b[49m\u001b[43m[\u001b[49m\u001b[38;5;241;43m0\u001b[39;49m\u001b[43m]\u001b[49m[\u001b[38;5;124m\"\u001b[39m\u001b[38;5;124mclose\u001b[39m\u001b[38;5;124m\"\u001b[39m]]\n\u001b[0;32m     21\u001b[0m     \u001b[38;5;28mprint\u001b[39m(current_date, \u001b[38;5;124m\"\u001b[39m\u001b[38;5;130;01m\\n\u001b[39;00m\u001b[38;5;124m\"\u001b[39m, data)\n\u001b[0;32m     24\u001b[0m \u001b[38;5;28;01mreturn\u001b[39;00m hist_prices\n",
      "\u001b[1;31mIndexError\u001b[0m: list index out of range"
     ]
    }
   ],
   "source": [
    "hist_prices = get_price_by_date(df[\"DatesString\"], symbol,sandbox=False)"
   ]
  },
  {
   "cell_type": "code",
   "execution_count": 85,
   "metadata": {
    "ExecuteTime": {
     "end_time": "2022-08-13T16:04:45.329485Z",
     "start_time": "2022-08-13T16:04:45.300650Z"
    },
    "hidden": true
   },
   "outputs": [
    {
     "ename": "NameError",
     "evalue": "name 'hist_prices' is not defined",
     "output_type": "error",
     "traceback": [
      "\u001b[1;31m---------------------------------------------------------------------------\u001b[0m",
      "\u001b[1;31mNameError\u001b[0m                                 Traceback (most recent call last)",
      "Input \u001b[1;32mIn [85]\u001b[0m, in \u001b[0;36m<cell line: 1>\u001b[1;34m()\u001b[0m\n\u001b[1;32m----> 1\u001b[0m \u001b[43mhist_prices\u001b[49m\n",
      "\u001b[1;31mNameError\u001b[0m: name 'hist_prices' is not defined"
     ]
    }
   ],
   "source": [
    "hist_prices"
   ]
  },
  {
   "cell_type": "markdown",
   "metadata": {
    "hidden": true
   },
   "source": [
    "#### Function to get current spy price"
   ]
  },
  {
   "cell_type": "code",
   "execution_count": 293,
   "metadata": {
    "ExecuteTime": {
     "end_time": "2022-05-21T23:22:29.708750Z",
     "start_time": "2022-05-21T23:22:29.692751Z"
    },
    "hidden": true
   },
   "outputs": [],
   "source": [
    "def get_current_price(symbol):\n",
    "    endpoint = f\"/stock/{symbol}/previous\"\n",
    "    query = \"&chartByDay=true&chartCloseOnly=true\"\n",
    "\n",
    "    req_url = base_url + endpoint + token + query\n",
    "\n",
    "    return requests.get(req_url).json()[\"fClose\"]"
   ]
  },
  {
   "cell_type": "markdown",
   "metadata": {
    "hidden": true
   },
   "source": [
    "#### Get Current Up to Date value "
   ]
  },
  {
   "cell_type": "code",
   "execution_count": 300,
   "metadata": {
    "ExecuteTime": {
     "end_time": "2022-05-21T23:24:28.771895Z",
     "start_time": "2022-05-21T23:24:28.272375Z"
    },
    "hidden": true
   },
   "outputs": [],
   "source": [
    "current_value = get_current_price(\"spy\")*df.iloc[-1,5]\n",
    "current_value"
   ]
  },
  {
   "cell_type": "markdown",
   "metadata": {
    "hidden": true
   },
   "source": [
    "-Above figure does not take withdrawals and mete's portion into consideration\n",
    "\n",
    "Readjust above table for increased accuracy:\n",
    "\n",
    "Add 437.89$ selling on 29/03/22\n",
    "\n",
    "Need to take account of Mete's deposits:\n",
    "- Remove 150 of his deposits and add 45$ deposit for when I sold his shares\n",
    "\n",
    "\n",
    "\n",
    "\n"
   ]
  },
  {
   "cell_type": "markdown",
   "metadata": {
    "hidden": true
   },
   "source": [
    "### Compare with Portfolio with 50% SPY 50%QQQ"
   ]
  },
  {
   "cell_type": "markdown",
   "metadata": {
    "hidden": true
   },
   "source": [
    "Copy dataset and halve amount of spy bought, add columns for QQQ and get price"
   ]
  },
  {
   "cell_type": "code",
   "execution_count": 302,
   "metadata": {
    "ExecuteTime": {
     "end_time": "2022-05-21T23:35:25.809100Z",
     "start_time": "2022-05-21T23:35:25.791101Z"
    },
    "hidden": true
   },
   "outputs": [],
   "source": [
    "df_new = df.copy()\n",
    "df_new.SpyUnitsBought = df_new.SpyUnitsBought.div(2)\n",
    "df_new[\"SpyUnitsCumulative\"] = df_new[\"SpyUnitsBought\"].cumsum()"
   ]
  },
  {
   "cell_type": "code",
   "execution_count": 306,
   "metadata": {
    "ExecuteTime": {
     "end_time": "2022-05-21T23:40:05.058392Z",
     "start_time": "2022-05-21T23:39:18.874471Z"
    },
    "hidden": true
   },
   "outputs": [
    {
     "name": "stdout",
     "output_type": "stream",
     "text": [
      "20200609 \n",
      " [{'date': '2020-06-09', 'close': 243.3, 'volume': 35046254, 'change': 0, 'changePercent': 0, 'changeOverTime': 0}]\n",
      "20200609 \n",
      " [{'date': '2020-06-09', 'close': 243.3, 'volume': 35046254, 'change': 0, 'changePercent': 0, 'changeOverTime': 0}]\n",
      "20200610 \n",
      " [{'date': '2020-06-10', 'close': 246.22, 'volume': 58084410, 'change': 0, 'changePercent': 0, 'changeOverTime': 0}]\n",
      "20200629 \n",
      " [{'date': '2020-06-29', 'close': 242.84, 'volume': 34377800, 'change': 0, 'changePercent': 0, 'changeOverTime': 0}]\n",
      "20200720 \n",
      " [{'date': '2020-07-20', 'close': 266.78, 'volume': 40610128, 'change': 0, 'changePercent': 0, 'changeOverTime': 0}]\n",
      "20200804 \n",
      " [{'date': '2020-08-04', 'close': 270.38, 'volume': 24911286, 'change': 0, 'changePercent': 0, 'changeOverTime': 0}]\n",
      "20200810 \n",
      " [{'date': '2020-08-10', 'close': 270.31, 'volume': 35088373, 'change': 0, 'changePercent': 0, 'changeOverTime': 0}]\n",
      "20200903 \n",
      " [{'date': '2020-09-03', 'close': 287.41, 'volume': 110083282, 'change': 0, 'changePercent': 0, 'changeOverTime': 0}]\n",
      "20200903 \n",
      " [{'date': '2020-09-03', 'close': 287.41, 'volume': 110083282, 'change': 0, 'changePercent': 0, 'changeOverTime': 0}]\n",
      "20200908 \n",
      " [{'date': '2020-09-08', 'close': 269.95, 'volume': 99568645, 'change': 0, 'changePercent': 0, 'changeOverTime': 0}]\n",
      "20201016 \n",
      " [{'date': '2020-10-16', 'close': 288.51, 'volume': 40570702, 'change': 0, 'changePercent': 0, 'changeOverTime': 0}]\n",
      "20201029 \n",
      " [{'date': '2020-10-29', 'close': 276.39, 'volume': 43246302, 'change': 0, 'changePercent': 0, 'changeOverTime': 0}]\n",
      "20201029 \n",
      " [{'date': '2020-10-29', 'close': 276.39, 'volume': 43246302, 'change': 0, 'changePercent': 0, 'changeOverTime': 0}]\n",
      "20201109 \n",
      " [{'date': '2020-11-09', 'close': 288.59, 'volume': 86537071, 'change': 0, 'changePercent': 0, 'changeOverTime': 0}]\n",
      "20201116 \n",
      " [{'date': '2020-11-16', 'close': 293.2, 'volume': 30168361, 'change': 0, 'changePercent': 0, 'changeOverTime': 0}]\n",
      "20201130 \n",
      " [{'date': '2020-11-30', 'close': 299.62, 'volume': 27836232, 'change': 0, 'changePercent': 0, 'changeOverTime': 0}]\n",
      "20201130 \n",
      " [{'date': '2020-11-30', 'close': 299.62, 'volume': 27836232, 'change': 0, 'changePercent': 0, 'changeOverTime': 0}]\n",
      "20201208 \n",
      " [{'date': '2020-12-08', 'close': 308.29, 'volume': 18341464, 'change': 0, 'changePercent': 0, 'changeOverTime': 0}]\n",
      "20201210 \n",
      " [{'date': '2020-12-10', 'close': 302.52, 'volume': 27519544, 'change': 0, 'changePercent': 0, 'changeOverTime': 0}]\n",
      "20210104 \n",
      " [{'date': '2021-01-04', 'close': 309.31, 'volume': 45305898, 'change': 0, 'changePercent': 0, 'changeOverTime': 0}]\n",
      "20210111 \n",
      " [{'date': '2021-01-11', 'close': 314.42, 'volume': 32869095, 'change': 0, 'changePercent': 0, 'changeOverTime': 0}]\n",
      "20210115 \n",
      " [{'date': '2021-01-15', 'close': 311.86, 'volume': 35118718, 'change': 0, 'changePercent': 0, 'changeOverTime': 0}]\n",
      "20210125 \n",
      " [{'date': '2021-01-25', 'close': 328.11, 'volume': 39080644, 'change': 0, 'changePercent': 0, 'changeOverTime': 0}]\n",
      "20210201 \n",
      " [{'date': '2021-02-01', 'close': 322.42, 'volume': 35646008, 'change': 0, 'changePercent': 0, 'changeOverTime': 0}]\n",
      "20210223 \n",
      " [{'date': '2021-02-23', 'close': 321.48, 'volume': 97241936, 'change': 0, 'changePercent': 0, 'changeOverTime': 0}]\n",
      "20210301 \n",
      " [{'date': '2021-03-01', 'close': 323.59, 'volume': 49164518, 'change': 0, 'changePercent': 0, 'changeOverTime': 0}]\n",
      "20210303 \n",
      " [{'date': '2021-03-03', 'close': 309.16, 'volume': 86301073, 'change': 0, 'changePercent': 0, 'changeOverTime': 0}]\n",
      "20210309 \n",
      " [{'date': '2021-03-09', 'close': 311.77, 'volume': 80391114, 'change': 0, 'changePercent': 0, 'changeOverTime': 0}]\n",
      "20210309 \n",
      " [{'date': '2021-03-09', 'close': 311.77, 'volume': 80391114, 'change': 0, 'changePercent': 0, 'changeOverTime': 0}]\n",
      "20210322 \n",
      " [{'date': '2021-03-22', 'close': 318.61, 'volume': 56194755, 'change': 0, 'changePercent': 0, 'changeOverTime': 0}]\n",
      "20210330 \n",
      " [{'date': '2021-03-30', 'close': 314.32, 'volume': 44635676, 'change': 0, 'changePercent': 0, 'changeOverTime': 0}]\n",
      "20210406 \n",
      " [{'date': '2021-04-06', 'close': 330.82, 'volume': 33537210, 'change': 0, 'changePercent': 0, 'changeOverTime': 0}]\n",
      "20210413 \n",
      " [{'date': '2021-04-13', 'close': 340.6, 'volume': 30374033, 'change': 0, 'changePercent': 0, 'changeOverTime': 0}]\n",
      "20210419 \n",
      " [{'date': '2021-04-19', 'close': 338.88, 'volume': 34533129, 'change': 0, 'changePercent': 0, 'changeOverTime': 0}]\n",
      "20210420 \n",
      " [{'date': '2021-04-20', 'close': 336.41, 'volume': 38081818, 'change': 0, 'changePercent': 0, 'changeOverTime': 0}]\n",
      "20210423 \n",
      " [{'date': '2021-04-23', 'close': 339.42, 'volume': 36414916, 'change': 0, 'changePercent': 0, 'changeOverTime': 0}]\n",
      "20210503 \n",
      " [{'date': '2021-05-03', 'close': 336.19, 'volume': 29729730, 'change': 0, 'changePercent': 0, 'changeOverTime': 0}]\n",
      "20210510 \n",
      " [{'date': '2021-05-10', 'close': 325.76, 'volume': 60700462, 'change': 0, 'changePercent': 0, 'changeOverTime': 0}]\n",
      "20210517 \n",
      " [{'date': '2021-05-17', 'close': 324.41, 'volume': 39394997, 'change': 0, 'changePercent': 0, 'changeOverTime': 0}]\n",
      "20210525 \n",
      " [{'date': '2021-05-25', 'close': 332.97, 'volume': 31280314, 'change': 0, 'changePercent': 0, 'changeOverTime': 0}]\n",
      "20210602 \n",
      " [{'date': '2021-06-02', 'close': 333.47, 'volume': 22047940, 'change': 0, 'changePercent': 0, 'changeOverTime': 0}]\n",
      "20210608 \n",
      " [{'date': '2021-06-08', 'close': 336.76, 'volume': 27282819, 'change': 0, 'changePercent': 0, 'changeOverTime': 0}]\n",
      "20210615 \n",
      " [{'date': '2021-06-15', 'close': 342.26, 'volume': 35963780, 'change': 0, 'changePercent': 0, 'changeOverTime': 0}]\n",
      "20210621 \n",
      " [{'date': '2021-06-21', 'close': 344.36, 'volume': 32992649, 'change': 0, 'changePercent': 0, 'changeOverTime': 0}]\n",
      "20210628 \n",
      " [{'date': '2021-06-28', 'close': 353.71, 'volume': 39130305, 'change': 0, 'changePercent': 0, 'changeOverTime': 0}]\n",
      "20210707 \n",
      " [{'date': '2021-07-07', 'close': 360.95, 'volume': 35265242, 'change': 0, 'changePercent': 0, 'changeOverTime': 0}]\n",
      "20210712 \n",
      " [{'date': '2021-07-12', 'close': 362.42, 'volume': 25717677, 'change': 0, 'changePercent': 0, 'changeOverTime': 0}]\n",
      "20210719 \n",
      " [{'date': '2021-07-19', 'close': 354.67, 'volume': 64404625, 'change': 0, 'changePercent': 0, 'changeOverTime': 0}]\n",
      "20210726 \n",
      " [{'date': '2021-07-26', 'close': 368.49, 'volume': 28438126, 'change': 0, 'changePercent': 0, 'changeOverTime': 0}]\n",
      "20210726 \n",
      " [{'date': '2021-07-26', 'close': 368.49, 'volume': 28438126, 'change': 0, 'changePercent': 0, 'changeOverTime': 0}]\n",
      "20210802 \n",
      " [{'date': '2021-08-02', 'close': 364.6, 'volume': 27334097, 'change': 0, 'changePercent': 0, 'changeOverTime': 0}]\n",
      "20210803 \n",
      " [{'date': '2021-08-03', 'close': 366.81, 'volume': 35558511, 'change': 0, 'changePercent': 0, 'changeOverTime': 0}]\n",
      "20210810 \n",
      " [{'date': '2021-08-10', 'close': 366.84, 'volume': 35130796, 'change': 0, 'changePercent': 0, 'changeOverTime': 0}]\n",
      "20210816 \n",
      " [{'date': '2021-08-16', 'close': 368.98, 'volume': 35044107, 'change': 0, 'changePercent': 0, 'changeOverTime': 0}]\n",
      "20210820 \n",
      " [{'date': '2021-08-20', 'close': 367.73, 'volume': 39486034, 'change': 0, 'changePercent': 0, 'changeOverTime': 0}]\n",
      "20210827 \n",
      " [{'date': '2021-08-27', 'close': 376.04, 'volume': 27104749, 'change': 0, 'changePercent': 0, 'changeOverTime': 0}]\n",
      "20210909 \n",
      " [{'date': '2021-09-09', 'close': 379.47, 'volume': 29398978, 'change': 0, 'changePercent': 0, 'changeOverTime': 0}]\n",
      "20210913 \n",
      " [{'date': '2021-09-13', 'close': 376.33, 'volume': 48741781, 'change': 0, 'changePercent': 0, 'changeOverTime': 0}]\n",
      "20210923 \n",
      " [{'date': '2021-09-23', 'close': 372.98, 'volume': 44652002, 'change': 0, 'changePercent': 0, 'changeOverTime': 0}]\n",
      "20210927 \n",
      " [{'date': '2021-09-27', 'close': 370.35, 'volume': 43338079, 'change': 0, 'changePercent': 0, 'changeOverTime': 0}]\n",
      "20211004 \n",
      " [{'date': '2021-10-04', 'close': 352.62, 'volume': 76766005, 'change': 0, 'changePercent': 0, 'changeOverTime': 0}]\n",
      "20211011 \n",
      " [{'date': '2021-10-11', 'close': 358.39, 'volume': 34847182, 'change': 0, 'changePercent': 0, 'changeOverTime': 0}]\n",
      "20211018 \n",
      " [{'date': '2021-10-18', 'close': 372.65, 'volume': 34513514, 'change': 0, 'changePercent': 0, 'changeOverTime': 0}]\n",
      "20211025 \n",
      " [{'date': '2021-10-25', 'close': 377.93, 'volume': 32597804, 'change': 0, 'changePercent': 0, 'changeOverTime': 0}]\n",
      "20211101 \n",
      " [{'date': '2021-11-01', 'close': 387.43, 'volume': 30765303, 'change': 0, 'changePercent': 0, 'changeOverTime': 0}]\n"
     ]
    },
    {
     "name": "stdout",
     "output_type": "stream",
     "text": [
      "20211101 \n",
      " [{'date': '2021-11-01', 'close': 387.43, 'volume': 30765303, 'change': 0, 'changePercent': 0, 'changeOverTime': 0}]\n",
      "20211108 \n",
      " [{'date': '2021-11-08', 'close': 398.06, 'volume': 29256270, 'change': 0, 'changePercent': 0, 'changeOverTime': 0}]\n",
      "20211115 \n",
      " [{'date': '2021-11-15', 'close': 394.61, 'volume': 33716861, 'change': 0, 'changePercent': 0, 'changeOverTime': 0}]\n",
      "20211118 \n",
      " [{'date': '2021-11-18', 'close': 401.75, 'volume': 45721515, 'change': 0, 'changePercent': 0, 'changeOverTime': 0}]\n",
      "20211122 \n",
      " [{'date': '2021-11-22', 'close': 399.3, 'volume': 61715370, 'change': 0, 'changePercent': 0, 'changeOverTime': 0}]\n",
      "20211129 \n",
      " [{'date': '2021-11-29', 'close': 399.69, 'volume': 54447106, 'change': 0, 'changePercent': 0, 'changeOverTime': 0}]\n",
      "20211202 \n",
      " [{'date': '2021-12-02', 'close': 389.91, 'volume': 84416623, 'change': 0, 'changePercent': 0, 'changeOverTime': 0}]\n",
      "20211206 \n",
      " [{'date': '2021-12-06', 'close': 386.2, 'volume': 67588801, 'change': 0, 'changePercent': 0, 'changeOverTime': 0}]\n",
      "20211213 \n",
      " [{'date': '2021-12-13', 'close': 392.26, 'volume': 50166410, 'change': 0, 'changePercent': 0, 'changeOverTime': 0}]\n",
      "20211220 \n",
      " [{'date': '2021-12-20', 'close': 380.69, 'volume': 65336827, 'change': 0, 'changePercent': 0, 'changeOverTime': 0}]\n",
      "20211227 \n",
      " [{'date': '2021-12-27', 'close': 403.48, 'volume': 32820705, 'change': 0, 'changePercent': 0, 'changeOverTime': 0}]\n",
      "20220103 \n",
      " [{'date': '2022-01-03', 'close': 401.68, 'volume': 40575854, 'change': 0, 'changePercent': 0, 'changeOverTime': 0}]\n",
      "20220110 \n",
      " [{'date': '2022-01-10', 'close': 380.11, 'volume': 91770497, 'change': 0, 'changePercent': 0, 'changeOverTime': 0}]\n",
      "20220118 \n",
      " [{'date': '2022-01-18', 'close': 370.55, 'volume': 75812296, 'change': 0, 'changePercent': 0, 'changeOverTime': 0}]\n",
      "20220124 \n",
      " [{'date': '2022-01-24', 'close': 353.3, 'volume': 199448109, 'change': 0, 'changePercent': 0, 'changeOverTime': 0}]\n",
      "20220131 \n",
      " [{'date': '2022-01-31', 'close': 363.05, 'volume': 94326389, 'change': 0, 'changePercent': 0, 'changeOverTime': 0}]\n",
      "20220207 \n",
      " [{'date': '2022-02-07', 'close': 355.13, 'volume': 58198087, 'change': 0, 'changePercent': 0, 'changeOverTime': 0}]\n",
      "20220214 \n",
      " [{'date': '2022-02-14', 'close': 347.49, 'volume': 80254439, 'change': 0, 'changePercent': 0, 'changeOverTime': 0}]\n",
      "20220222 \n",
      " [{'date': '2022-02-22', 'close': 338.08, 'volume': 85967095, 'change': 0, 'changePercent': 0, 'changeOverTime': 0}]\n",
      "20220228 \n",
      " [{'date': '2022-02-28', 'close': 346.8, 'volume': 77515544, 'change': 0, 'changePercent': 0, 'changeOverTime': 0}]\n",
      "20220307 \n",
      " [{'date': '2022-03-07', 'close': 324.86, 'volume': 89933794, 'change': 0, 'changePercent': 0, 'changeOverTime': 0}]\n",
      "20220314 \n",
      " [{'date': '2022-03-14', 'close': 318.17, 'volume': 79802606, 'change': 0, 'changePercent': 0, 'changeOverTime': 0}]\n",
      "20220321 \n",
      " [{'date': '2022-03-21', 'close': 350.08, 'volume': 73799072, 'change': 0, 'changePercent': 0, 'changeOverTime': 0}]\n",
      "20220328 \n",
      " [{'date': '2022-03-28', 'close': 364.91, 'volume': 56833866, 'change': 0, 'changePercent': 0, 'changeOverTime': 0}]\n",
      "20220404 \n",
      " [{'date': '2022-04-04', 'close': 369.3, 'volume': 45950171, 'change': 0, 'changePercent': 0, 'changeOverTime': 0}]\n",
      "20220406 \n",
      " [{'date': '2022-04-06', 'close': 353.26, 'volume': 90077072, 'change': 0, 'changePercent': 0, 'changeOverTime': 0}]\n",
      "20220411 \n",
      " [{'date': '2022-04-11', 'close': 340.89, 'volume': 66107401, 'change': 0, 'changePercent': 0, 'changeOverTime': 0}]\n",
      "20220418 \n",
      " [{'date': '2022-04-18', 'close': 338.69, 'volume': 58560555, 'change': 0, 'changePercent': 0, 'changeOverTime': 0}]\n",
      "20220425 \n",
      " [{'date': '2022-04-25', 'close': 329.58, 'volume': 101755856, 'change': 0, 'changePercent': 0, 'changeOverTime': 0}]\n",
      "20220502 \n",
      " [{'date': '2022-05-02', 'close': 318.48, 'volume': 115511770, 'change': 0, 'changePercent': 0, 'changeOverTime': 0}]\n",
      "20220505 \n",
      " [{'date': '2022-05-05', 'close': 313, 'volume': 154607447, 'change': 0, 'changePercent': 0, 'changeOverTime': 0}]\n",
      "20220509 \n",
      " [{'date': '2022-05-09', 'close': 297.15, 'volume': 113387342, 'change': 0, 'changePercent': 0, 'changeOverTime': 0}]\n",
      "20220512 \n",
      " [{'date': '2022-05-12', 'close': 291.15, 'volume': 120910850, 'change': 0, 'changePercent': 0, 'changeOverTime': 0}]\n",
      "20220516 \n",
      " [{'date': '2022-05-16', 'close': 298.44, 'volume': 59190432, 'change': 0, 'changePercent': 0, 'changeOverTime': 0}]\n"
     ]
    }
   ],
   "source": [
    "hist_prices = get_price_by_date(df[\"DatesString\"], \"qqq\",sandbox=False)"
   ]
  },
  {
   "cell_type": "code",
   "execution_count": 307,
   "metadata": {
    "ExecuteTime": {
     "end_time": "2022-05-21T23:40:52.960391Z",
     "start_time": "2022-05-21T23:40:52.934392Z"
    },
    "hidden": true
   },
   "outputs": [
    {
     "data": {
      "text/html": [
       "<div>\n",
       "<style scoped>\n",
       "    .dataframe tbody tr th:only-of-type {\n",
       "        vertical-align: middle;\n",
       "    }\n",
       "\n",
       "    .dataframe tbody tr th {\n",
       "        vertical-align: top;\n",
       "    }\n",
       "\n",
       "    .dataframe thead th {\n",
       "        text-align: right;\n",
       "    }\n",
       "</style>\n",
       "<table border=\"1\" class=\"dataframe\">\n",
       "  <thead>\n",
       "    <tr style=\"text-align: right;\">\n",
       "      <th></th>\n",
       "      <th>Dates</th>\n",
       "      <th>Deposits</th>\n",
       "      <th>DatesString</th>\n",
       "      <th>SpyPrice</th>\n",
       "      <th>SpyUnitsBought</th>\n",
       "      <th>SpyUnitsCumulative</th>\n",
       "      <th>PortfolioValue</th>\n",
       "      <th>QQQPrice</th>\n",
       "      <th>QQQUnitsBought</th>\n",
       "      <th>QQQUnitsCumulative</th>\n",
       "    </tr>\n",
       "  </thead>\n",
       "  <tbody>\n",
       "    <tr>\n",
       "      <th>1</th>\n",
       "      <td>2020-06-09</td>\n",
       "      <td>200</td>\n",
       "      <td>20200609</td>\n",
       "      <td>320.79</td>\n",
       "      <td>0.311730</td>\n",
       "      <td>0.311730</td>\n",
       "      <td>200.000000</td>\n",
       "      <td>243.30</td>\n",
       "      <td>0.411015</td>\n",
       "      <td>0.411015</td>\n",
       "    </tr>\n",
       "    <tr>\n",
       "      <th>2</th>\n",
       "      <td>2020-06-09</td>\n",
       "      <td>200</td>\n",
       "      <td>20200609</td>\n",
       "      <td>320.79</td>\n",
       "      <td>0.311730</td>\n",
       "      <td>0.623461</td>\n",
       "      <td>400.000000</td>\n",
       "      <td>243.30</td>\n",
       "      <td>0.411015</td>\n",
       "      <td>0.822030</td>\n",
       "    </tr>\n",
       "    <tr>\n",
       "      <th>3</th>\n",
       "      <td>2020-06-10</td>\n",
       "      <td>100</td>\n",
       "      <td>20200610</td>\n",
       "      <td>319.00</td>\n",
       "      <td>0.156740</td>\n",
       "      <td>0.780201</td>\n",
       "      <td>497.768010</td>\n",
       "      <td>246.22</td>\n",
       "      <td>0.203070</td>\n",
       "      <td>1.025101</td>\n",
       "    </tr>\n",
       "    <tr>\n",
       "      <th>4</th>\n",
       "      <td>2020-06-29</td>\n",
       "      <td>250</td>\n",
       "      <td>20200629</td>\n",
       "      <td>304.46</td>\n",
       "      <td>0.410563</td>\n",
       "      <td>1.190764</td>\n",
       "      <td>725.079776</td>\n",
       "      <td>242.84</td>\n",
       "      <td>0.514742</td>\n",
       "      <td>1.539843</td>\n",
       "    </tr>\n",
       "    <tr>\n",
       "      <th>5</th>\n",
       "      <td>2020-07-20</td>\n",
       "      <td>250</td>\n",
       "      <td>20200720</td>\n",
       "      <td>324.32</td>\n",
       "      <td>0.385422</td>\n",
       "      <td>1.576185</td>\n",
       "      <td>1022.376906</td>\n",
       "      <td>266.78</td>\n",
       "      <td>0.468551</td>\n",
       "      <td>2.008394</td>\n",
       "    </tr>\n",
       "    <tr>\n",
       "      <th>...</th>\n",
       "      <td>...</td>\n",
       "      <td>...</td>\n",
       "      <td>...</td>\n",
       "      <td>...</td>\n",
       "      <td>...</td>\n",
       "      <td>...</td>\n",
       "      <td>...</td>\n",
       "      <td>...</td>\n",
       "      <td>...</td>\n",
       "      <td>...</td>\n",
       "    </tr>\n",
       "    <tr>\n",
       "      <th>93</th>\n",
       "      <td>2022-05-02</td>\n",
       "      <td>25</td>\n",
       "      <td>20220502</td>\n",
       "      <td>414.48</td>\n",
       "      <td>0.030158</td>\n",
       "      <td>12.324860</td>\n",
       "      <td>10216.815636</td>\n",
       "      <td>318.48</td>\n",
       "      <td>0.039249</td>\n",
       "      <td>15.173956</td>\n",
       "    </tr>\n",
       "    <tr>\n",
       "      <th>94</th>\n",
       "      <td>2022-05-05</td>\n",
       "      <td>92</td>\n",
       "      <td>20220505</td>\n",
       "      <td>413.81</td>\n",
       "      <td>0.111162</td>\n",
       "      <td>12.436022</td>\n",
       "      <td>10292.300324</td>\n",
       "      <td>313.00</td>\n",
       "      <td>0.146965</td>\n",
       "      <td>15.320921</td>\n",
       "    </tr>\n",
       "    <tr>\n",
       "      <th>95</th>\n",
       "      <td>2022-05-09</td>\n",
       "      <td>19</td>\n",
       "      <td>20220509</td>\n",
       "      <td>398.17</td>\n",
       "      <td>0.023859</td>\n",
       "      <td>12.459881</td>\n",
       "      <td>9922.301564</td>\n",
       "      <td>297.15</td>\n",
       "      <td>0.031970</td>\n",
       "      <td>15.352891</td>\n",
       "    </tr>\n",
       "    <tr>\n",
       "      <th>98</th>\n",
       "      <td>2022-05-12</td>\n",
       "      <td>122</td>\n",
       "      <td>20220512</td>\n",
       "      <td>392.34</td>\n",
       "      <td>0.155477</td>\n",
       "      <td>12.615358</td>\n",
       "      <td>9899.019352</td>\n",
       "      <td>291.15</td>\n",
       "      <td>0.209514</td>\n",
       "      <td>15.562405</td>\n",
       "    </tr>\n",
       "    <tr>\n",
       "      <th>96</th>\n",
       "      <td>2022-05-16</td>\n",
       "      <td>20</td>\n",
       "      <td>20220516</td>\n",
       "      <td>400.09</td>\n",
       "      <td>0.024994</td>\n",
       "      <td>12.640353</td>\n",
       "      <td>10114.557406</td>\n",
       "      <td>298.44</td>\n",
       "      <td>0.033508</td>\n",
       "      <td>15.595913</td>\n",
       "    </tr>\n",
       "  </tbody>\n",
       "</table>\n",
       "<p>99 rows × 10 columns</p>\n",
       "</div>"
      ],
      "text/plain": [
       "        Dates  Deposits DatesString  SpyPrice  SpyUnitsBought  \\\n",
       "1  2020-06-09       200    20200609    320.79        0.311730   \n",
       "2  2020-06-09       200    20200609    320.79        0.311730   \n",
       "3  2020-06-10       100    20200610    319.00        0.156740   \n",
       "4  2020-06-29       250    20200629    304.46        0.410563   \n",
       "5  2020-07-20       250    20200720    324.32        0.385422   \n",
       "..        ...       ...         ...       ...             ...   \n",
       "93 2022-05-02        25    20220502    414.48        0.030158   \n",
       "94 2022-05-05        92    20220505    413.81        0.111162   \n",
       "95 2022-05-09        19    20220509    398.17        0.023859   \n",
       "98 2022-05-12       122    20220512    392.34        0.155477   \n",
       "96 2022-05-16        20    20220516    400.09        0.024994   \n",
       "\n",
       "    SpyUnitsCumulative  PortfolioValue  QQQPrice  QQQUnitsBought  \\\n",
       "1             0.311730      200.000000    243.30        0.411015   \n",
       "2             0.623461      400.000000    243.30        0.411015   \n",
       "3             0.780201      497.768010    246.22        0.203070   \n",
       "4             1.190764      725.079776    242.84        0.514742   \n",
       "5             1.576185     1022.376906    266.78        0.468551   \n",
       "..                 ...             ...       ...             ...   \n",
       "93           12.324860    10216.815636    318.48        0.039249   \n",
       "94           12.436022    10292.300324    313.00        0.146965   \n",
       "95           12.459881     9922.301564    297.15        0.031970   \n",
       "98           12.615358     9899.019352    291.15        0.209514   \n",
       "96           12.640353    10114.557406    298.44        0.033508   \n",
       "\n",
       "    QQQUnitsCumulative  \n",
       "1             0.411015  \n",
       "2             0.822030  \n",
       "3             1.025101  \n",
       "4             1.539843  \n",
       "5             2.008394  \n",
       "..                 ...  \n",
       "93           15.173956  \n",
       "94           15.320921  \n",
       "95           15.352891  \n",
       "98           15.562405  \n",
       "96           15.595913  \n",
       "\n",
       "[99 rows x 10 columns]"
      ]
     },
     "execution_count": 307,
     "metadata": {},
     "output_type": "execute_result"
    }
   ],
   "source": [
    "df_new[\"QQQPrice\"] = hist_prices\n",
    "df_new.sort_values(by=\"Dates\",inplace=True)\n",
    "df_new[\"QQQUnitsBought\"] = df_new[\"Deposits\"] / df_new[\"QQQPrice\"]/2\n",
    "df_new[\"QQQUnitsCumulative\"] = df_new[\"QQQUnitsBought\"].cumsum()\n",
    "df_new.head()"
   ]
  },
  {
   "cell_type": "code",
   "execution_count": 308,
   "metadata": {
    "ExecuteTime": {
     "end_time": "2022-05-21T23:42:24.822972Z",
     "start_time": "2022-05-21T23:42:24.805981Z"
    },
    "hidden": true
   },
   "outputs": [
    {
     "data": {
      "text/html": [
       "<div>\n",
       "<style scoped>\n",
       "    .dataframe tbody tr th:only-of-type {\n",
       "        vertical-align: middle;\n",
       "    }\n",
       "\n",
       "    .dataframe tbody tr th {\n",
       "        vertical-align: top;\n",
       "    }\n",
       "\n",
       "    .dataframe thead th {\n",
       "        text-align: right;\n",
       "    }\n",
       "</style>\n",
       "<table border=\"1\" class=\"dataframe\">\n",
       "  <thead>\n",
       "    <tr style=\"text-align: right;\">\n",
       "      <th></th>\n",
       "      <th>Dates</th>\n",
       "      <th>Deposits</th>\n",
       "      <th>DatesString</th>\n",
       "      <th>SpyPrice</th>\n",
       "      <th>SpyUnitsBought</th>\n",
       "      <th>SpyUnitsCumulative</th>\n",
       "      <th>PortfolioValue</th>\n",
       "      <th>QQQPrice</th>\n",
       "      <th>QQQUnitsBought</th>\n",
       "      <th>QQQUnitsCumulative</th>\n",
       "    </tr>\n",
       "  </thead>\n",
       "  <tbody>\n",
       "    <tr>\n",
       "      <th>1</th>\n",
       "      <td>2020-06-09</td>\n",
       "      <td>200</td>\n",
       "      <td>20200609</td>\n",
       "      <td>320.79</td>\n",
       "      <td>0.311730</td>\n",
       "      <td>0.311730</td>\n",
       "      <td>200.000000</td>\n",
       "      <td>243.30</td>\n",
       "      <td>0.411015</td>\n",
       "      <td>0.411015</td>\n",
       "    </tr>\n",
       "    <tr>\n",
       "      <th>2</th>\n",
       "      <td>2020-06-09</td>\n",
       "      <td>200</td>\n",
       "      <td>20200609</td>\n",
       "      <td>320.79</td>\n",
       "      <td>0.311730</td>\n",
       "      <td>0.623461</td>\n",
       "      <td>400.000000</td>\n",
       "      <td>243.30</td>\n",
       "      <td>0.411015</td>\n",
       "      <td>0.822030</td>\n",
       "    </tr>\n",
       "    <tr>\n",
       "      <th>3</th>\n",
       "      <td>2020-06-10</td>\n",
       "      <td>100</td>\n",
       "      <td>20200610</td>\n",
       "      <td>319.00</td>\n",
       "      <td>0.156740</td>\n",
       "      <td>0.780201</td>\n",
       "      <td>501.284334</td>\n",
       "      <td>246.22</td>\n",
       "      <td>0.203070</td>\n",
       "      <td>1.025101</td>\n",
       "    </tr>\n",
       "    <tr>\n",
       "      <th>4</th>\n",
       "      <td>2020-06-29</td>\n",
       "      <td>250</td>\n",
       "      <td>20200629</td>\n",
       "      <td>304.46</td>\n",
       "      <td>0.410563</td>\n",
       "      <td>1.190764</td>\n",
       "      <td>736.475376</td>\n",
       "      <td>242.84</td>\n",
       "      <td>0.514742</td>\n",
       "      <td>1.539843</td>\n",
       "    </tr>\n",
       "    <tr>\n",
       "      <th>5</th>\n",
       "      <td>2020-07-20</td>\n",
       "      <td>250</td>\n",
       "      <td>20200720</td>\n",
       "      <td>324.32</td>\n",
       "      <td>0.385422</td>\n",
       "      <td>1.576185</td>\n",
       "      <td>1046.987784</td>\n",
       "      <td>266.78</td>\n",
       "      <td>0.468551</td>\n",
       "      <td>2.008394</td>\n",
       "    </tr>\n",
       "    <tr>\n",
       "      <th>...</th>\n",
       "      <td>...</td>\n",
       "      <td>...</td>\n",
       "      <td>...</td>\n",
       "      <td>...</td>\n",
       "      <td>...</td>\n",
       "      <td>...</td>\n",
       "      <td>...</td>\n",
       "      <td>...</td>\n",
       "      <td>...</td>\n",
       "      <td>...</td>\n",
       "    </tr>\n",
       "    <tr>\n",
       "      <th>93</th>\n",
       "      <td>2022-05-02</td>\n",
       "      <td>25</td>\n",
       "      <td>20220502</td>\n",
       "      <td>414.48</td>\n",
       "      <td>0.030158</td>\n",
       "      <td>12.324860</td>\n",
       "      <td>9941.009230</td>\n",
       "      <td>318.48</td>\n",
       "      <td>0.039249</td>\n",
       "      <td>15.173956</td>\n",
       "    </tr>\n",
       "    <tr>\n",
       "      <th>94</th>\n",
       "      <td>2022-05-05</td>\n",
       "      <td>92</td>\n",
       "      <td>20220505</td>\n",
       "      <td>413.81</td>\n",
       "      <td>0.111162</td>\n",
       "      <td>12.436022</td>\n",
       "      <td>9941.598297</td>\n",
       "      <td>313.00</td>\n",
       "      <td>0.146965</td>\n",
       "      <td>15.320921</td>\n",
       "    </tr>\n",
       "    <tr>\n",
       "      <th>95</th>\n",
       "      <td>2022-05-09</td>\n",
       "      <td>19</td>\n",
       "      <td>20220509</td>\n",
       "      <td>398.17</td>\n",
       "      <td>0.023859</td>\n",
       "      <td>12.459881</td>\n",
       "      <td>9523.262326</td>\n",
       "      <td>297.15</td>\n",
       "      <td>0.031970</td>\n",
       "      <td>15.352891</td>\n",
       "    </tr>\n",
       "    <tr>\n",
       "      <th>98</th>\n",
       "      <td>2022-05-12</td>\n",
       "      <td>122</td>\n",
       "      <td>20220512</td>\n",
       "      <td>392.34</td>\n",
       "      <td>0.155477</td>\n",
       "      <td>12.615358</td>\n",
       "      <td>9480.503874</td>\n",
       "      <td>291.15</td>\n",
       "      <td>0.209514</td>\n",
       "      <td>15.562405</td>\n",
       "    </tr>\n",
       "    <tr>\n",
       "      <th>96</th>\n",
       "      <td>2022-05-16</td>\n",
       "      <td>20</td>\n",
       "      <td>20220516</td>\n",
       "      <td>400.09</td>\n",
       "      <td>0.024994</td>\n",
       "      <td>12.640353</td>\n",
       "      <td>9711.722833</td>\n",
       "      <td>298.44</td>\n",
       "      <td>0.033508</td>\n",
       "      <td>15.595913</td>\n",
       "    </tr>\n",
       "  </tbody>\n",
       "</table>\n",
       "<p>99 rows × 10 columns</p>\n",
       "</div>"
      ],
      "text/plain": [
       "        Dates  Deposits DatesString  SpyPrice  SpyUnitsBought  \\\n",
       "1  2020-06-09       200    20200609    320.79        0.311730   \n",
       "2  2020-06-09       200    20200609    320.79        0.311730   \n",
       "3  2020-06-10       100    20200610    319.00        0.156740   \n",
       "4  2020-06-29       250    20200629    304.46        0.410563   \n",
       "5  2020-07-20       250    20200720    324.32        0.385422   \n",
       "..        ...       ...         ...       ...             ...   \n",
       "93 2022-05-02        25    20220502    414.48        0.030158   \n",
       "94 2022-05-05        92    20220505    413.81        0.111162   \n",
       "95 2022-05-09        19    20220509    398.17        0.023859   \n",
       "98 2022-05-12       122    20220512    392.34        0.155477   \n",
       "96 2022-05-16        20    20220516    400.09        0.024994   \n",
       "\n",
       "    SpyUnitsCumulative  PortfolioValue  QQQPrice  QQQUnitsBought  \\\n",
       "1             0.311730      200.000000    243.30        0.411015   \n",
       "2             0.623461      400.000000    243.30        0.411015   \n",
       "3             0.780201      501.284334    246.22        0.203070   \n",
       "4             1.190764      736.475376    242.84        0.514742   \n",
       "5             1.576185     1046.987784    266.78        0.468551   \n",
       "..                 ...             ...       ...             ...   \n",
       "93           12.324860     9941.009230    318.48        0.039249   \n",
       "94           12.436022     9941.598297    313.00        0.146965   \n",
       "95           12.459881     9523.262326    297.15        0.031970   \n",
       "98           12.615358     9480.503874    291.15        0.209514   \n",
       "96           12.640353     9711.722833    298.44        0.033508   \n",
       "\n",
       "    QQQUnitsCumulative  \n",
       "1             0.411015  \n",
       "2             0.822030  \n",
       "3             1.025101  \n",
       "4             1.539843  \n",
       "5             2.008394  \n",
       "..                 ...  \n",
       "93           15.173956  \n",
       "94           15.320921  \n",
       "95           15.352891  \n",
       "98           15.562405  \n",
       "96           15.595913  \n",
       "\n",
       "[99 rows x 10 columns]"
      ]
     },
     "execution_count": 308,
     "metadata": {},
     "output_type": "execute_result"
    }
   ],
   "source": [
    "df_new[\"PortfolioValue\"] = df_new.SpyUnitsCumulative * df_new.SpyPrice + df_new.QQQUnitsCumulative * df_new.QQQPrice\n",
    "df_new.head()"
   ]
  },
  {
   "cell_type": "markdown",
   "metadata": {
    "hidden": true
   },
   "source": [
    "#### Calculate Current Value"
   ]
  },
  {
   "cell_type": "code",
   "execution_count": 310,
   "metadata": {
    "ExecuteTime": {
     "end_time": "2022-05-21T23:43:01.660502Z",
     "start_time": "2022-05-21T23:43:00.710915Z"
    },
    "hidden": true
   },
   "outputs": [
    {
     "data": {
      "text/plain": [
       "9427.288637934453"
      ]
     },
     "execution_count": 310,
     "metadata": {},
     "output_type": "execute_result"
    }
   ],
   "source": [
    "current_value = get_current_price(\"spy\")*df_new.iloc[-1,5] + get_current_price(\"qqq\")*df_new.iloc[-1,9]\n",
    "current_value"
   ]
  },
  {
   "cell_type": "markdown",
   "metadata": {
    "hidden": true
   },
   "source": [
    "### Add up to date date as final datapoint and plot"
   ]
  },
  {
   "cell_type": "code",
   "execution_count": null,
   "metadata": {
    "hidden": true
   },
   "outputs": [],
   "source": [
    "new_row = {\"Dates\": datetime.datetime(2022,05,20), 'Last Name': 'Aruchamy', 'Country': 'India'}\n",
    "\n",
    "df = df.append(df2, ignore_index = True)"
   ]
  },
  {
   "cell_type": "code",
   "execution_count": 371,
   "metadata": {
    "ExecuteTime": {
     "end_time": "2022-05-22T15:50:35.875761Z",
     "start_time": "2022-05-22T15:50:35.856764Z"
    },
    "hidden": true
   },
   "outputs": [
    {
     "data": {
      "text/html": [
       "<div>\n",
       "<style scoped>\n",
       "    .dataframe tbody tr th:only-of-type {\n",
       "        vertical-align: middle;\n",
       "    }\n",
       "\n",
       "    .dataframe tbody tr th {\n",
       "        vertical-align: top;\n",
       "    }\n",
       "\n",
       "    .dataframe thead th {\n",
       "        text-align: right;\n",
       "    }\n",
       "</style>\n",
       "<table border=\"1\" class=\"dataframe\">\n",
       "  <thead>\n",
       "    <tr style=\"text-align: right;\">\n",
       "      <th></th>\n",
       "      <th>Dates</th>\n",
       "      <th>Deposits</th>\n",
       "      <th>DatesString</th>\n",
       "      <th>SpyPrice</th>\n",
       "      <th>SpyUnitsBought</th>\n",
       "      <th>SpyUnitsCumulative</th>\n",
       "      <th>PortfolioValue</th>\n",
       "      <th>QQQPrice</th>\n",
       "      <th>QQQUnitsBought</th>\n",
       "      <th>QQQUnitsCumulative</th>\n",
       "    </tr>\n",
       "  </thead>\n",
       "  <tbody>\n",
       "    <tr>\n",
       "      <th>0</th>\n",
       "      <td>2020-06-09</td>\n",
       "      <td>200.0</td>\n",
       "      <td>20200609</td>\n",
       "      <td>320.79</td>\n",
       "      <td>0.311730</td>\n",
       "      <td>0.311730</td>\n",
       "      <td>200.000000</td>\n",
       "      <td>243.30</td>\n",
       "      <td>0.411015</td>\n",
       "      <td>0.411015</td>\n",
       "    </tr>\n",
       "    <tr>\n",
       "      <th>1</th>\n",
       "      <td>2020-06-09</td>\n",
       "      <td>200.0</td>\n",
       "      <td>20200609</td>\n",
       "      <td>320.79</td>\n",
       "      <td>0.311730</td>\n",
       "      <td>0.623461</td>\n",
       "      <td>400.000000</td>\n",
       "      <td>243.30</td>\n",
       "      <td>0.411015</td>\n",
       "      <td>0.822030</td>\n",
       "    </tr>\n",
       "    <tr>\n",
       "      <th>2</th>\n",
       "      <td>2020-06-10</td>\n",
       "      <td>100.0</td>\n",
       "      <td>20200610</td>\n",
       "      <td>319.00</td>\n",
       "      <td>0.156740</td>\n",
       "      <td>0.780201</td>\n",
       "      <td>501.284334</td>\n",
       "      <td>246.22</td>\n",
       "      <td>0.203070</td>\n",
       "      <td>1.025101</td>\n",
       "    </tr>\n",
       "    <tr>\n",
       "      <th>3</th>\n",
       "      <td>2020-06-29</td>\n",
       "      <td>250.0</td>\n",
       "      <td>20200629</td>\n",
       "      <td>304.46</td>\n",
       "      <td>0.410563</td>\n",
       "      <td>1.190764</td>\n",
       "      <td>736.475376</td>\n",
       "      <td>242.84</td>\n",
       "      <td>0.514742</td>\n",
       "      <td>1.539843</td>\n",
       "    </tr>\n",
       "    <tr>\n",
       "      <th>4</th>\n",
       "      <td>2020-07-20</td>\n",
       "      <td>250.0</td>\n",
       "      <td>20200720</td>\n",
       "      <td>324.32</td>\n",
       "      <td>0.385422</td>\n",
       "      <td>1.576185</td>\n",
       "      <td>1046.987784</td>\n",
       "      <td>266.78</td>\n",
       "      <td>0.468551</td>\n",
       "      <td>2.008394</td>\n",
       "    </tr>\n",
       "    <tr>\n",
       "      <th>...</th>\n",
       "      <td>...</td>\n",
       "      <td>...</td>\n",
       "      <td>...</td>\n",
       "      <td>...</td>\n",
       "      <td>...</td>\n",
       "      <td>...</td>\n",
       "      <td>...</td>\n",
       "      <td>...</td>\n",
       "      <td>...</td>\n",
       "      <td>...</td>\n",
       "    </tr>\n",
       "    <tr>\n",
       "      <th>95</th>\n",
       "      <td>2022-05-05</td>\n",
       "      <td>92.0</td>\n",
       "      <td>20220505</td>\n",
       "      <td>413.81</td>\n",
       "      <td>0.111162</td>\n",
       "      <td>12.436022</td>\n",
       "      <td>9941.598297</td>\n",
       "      <td>313.00</td>\n",
       "      <td>0.146965</td>\n",
       "      <td>15.320921</td>\n",
       "    </tr>\n",
       "    <tr>\n",
       "      <th>96</th>\n",
       "      <td>2022-05-09</td>\n",
       "      <td>19.0</td>\n",
       "      <td>20220509</td>\n",
       "      <td>398.17</td>\n",
       "      <td>0.023859</td>\n",
       "      <td>12.459881</td>\n",
       "      <td>9523.262326</td>\n",
       "      <td>297.15</td>\n",
       "      <td>0.031970</td>\n",
       "      <td>15.352891</td>\n",
       "    </tr>\n",
       "    <tr>\n",
       "      <th>97</th>\n",
       "      <td>2022-05-12</td>\n",
       "      <td>122.0</td>\n",
       "      <td>20220512</td>\n",
       "      <td>392.34</td>\n",
       "      <td>0.155477</td>\n",
       "      <td>12.615358</td>\n",
       "      <td>9480.503874</td>\n",
       "      <td>291.15</td>\n",
       "      <td>0.209514</td>\n",
       "      <td>15.562405</td>\n",
       "    </tr>\n",
       "    <tr>\n",
       "      <th>98</th>\n",
       "      <td>2022-05-16</td>\n",
       "      <td>20.0</td>\n",
       "      <td>20220516</td>\n",
       "      <td>400.09</td>\n",
       "      <td>0.024994</td>\n",
       "      <td>12.640353</td>\n",
       "      <td>9711.722833</td>\n",
       "      <td>298.44</td>\n",
       "      <td>0.033508</td>\n",
       "      <td>15.595913</td>\n",
       "    </tr>\n",
       "    <tr>\n",
       "      <th>99</th>\n",
       "      <td>2022-05-20</td>\n",
       "      <td>NaN</td>\n",
       "      <td>NaN</td>\n",
       "      <td>NaN</td>\n",
       "      <td>NaN</td>\n",
       "      <td>NaN</td>\n",
       "      <td>9427.288638</td>\n",
       "      <td>NaN</td>\n",
       "      <td>NaN</td>\n",
       "      <td>NaN</td>\n",
       "    </tr>\n",
       "  </tbody>\n",
       "</table>\n",
       "<p>100 rows × 10 columns</p>\n",
       "</div>"
      ],
      "text/plain": [
       "        Dates  Deposits DatesString  SpyPrice  SpyUnitsBought  \\\n",
       "0  2020-06-09     200.0    20200609    320.79        0.311730   \n",
       "1  2020-06-09     200.0    20200609    320.79        0.311730   \n",
       "2  2020-06-10     100.0    20200610    319.00        0.156740   \n",
       "3  2020-06-29     250.0    20200629    304.46        0.410563   \n",
       "4  2020-07-20     250.0    20200720    324.32        0.385422   \n",
       "..        ...       ...         ...       ...             ...   \n",
       "95 2022-05-05      92.0    20220505    413.81        0.111162   \n",
       "96 2022-05-09      19.0    20220509    398.17        0.023859   \n",
       "97 2022-05-12     122.0    20220512    392.34        0.155477   \n",
       "98 2022-05-16      20.0    20220516    400.09        0.024994   \n",
       "99 2022-05-20       NaN         NaN       NaN             NaN   \n",
       "\n",
       "    SpyUnitsCumulative  PortfolioValue  QQQPrice  QQQUnitsBought  \\\n",
       "0             0.311730      200.000000    243.30        0.411015   \n",
       "1             0.623461      400.000000    243.30        0.411015   \n",
       "2             0.780201      501.284334    246.22        0.203070   \n",
       "3             1.190764      736.475376    242.84        0.514742   \n",
       "4             1.576185     1046.987784    266.78        0.468551   \n",
       "..                 ...             ...       ...             ...   \n",
       "95           12.436022     9941.598297    313.00        0.146965   \n",
       "96           12.459881     9523.262326    297.15        0.031970   \n",
       "97           12.615358     9480.503874    291.15        0.209514   \n",
       "98           12.640353     9711.722833    298.44        0.033508   \n",
       "99                 NaN     9427.288638       NaN             NaN   \n",
       "\n",
       "    QQQUnitsCumulative  \n",
       "0             0.411015  \n",
       "1             0.822030  \n",
       "2             1.025101  \n",
       "3             1.539843  \n",
       "4             2.008394  \n",
       "..                 ...  \n",
       "95           15.320921  \n",
       "96           15.352891  \n",
       "97           15.562405  \n",
       "98           15.595913  \n",
       "99                 NaN  \n",
       "\n",
       "[100 rows x 10 columns]"
      ]
     },
     "execution_count": 371,
     "metadata": {},
     "output_type": "execute_result"
    }
   ],
   "source": [
    "last_date = datetime.datetime(2022 , 5, 20)\n",
    "new_row = pd.DataFrame({\"Dates\": [last_date], \"PortfolioValue\" : [current_value]})\n",
    "\n",
    "df_temp = pd.concat([df_new,new_row,], axis=0, ignore_index=True)\n",
    "df_temp"
   ]
  },
  {
   "cell_type": "markdown",
   "metadata": {
    "heading_collapsed": true,
    "hidden": true
   },
   "source": [
    "###  Load Data from CSV - so as not to repeat API Calls"
   ]
  },
  {
   "cell_type": "markdown",
   "metadata": {},
   "source": [
    "## 2- Use Yfinance to get historical prices "
   ]
  },
  {
   "cell_type": "markdown",
   "metadata": {},
   "source": [
    "Define products and purchase weighings"
   ]
  },
  {
   "cell_type": "code",
   "execution_count": 18,
   "metadata": {
    "ExecuteTime": {
     "end_time": "2022-08-22T16:14:48.077045Z",
     "start_time": "2022-08-22T16:14:48.065603Z"
    }
   },
   "outputs": [],
   "source": [
    "products = {'SPY':0.99,\n",
    "           'QQQ':0,\n",
    "           'AGG' : 0.01,\n",
    "           'BIL':0} \n",
    "\n",
    "products_use = sorted([key for key,value in products.items() if value != 0])\n",
    "\n"
   ]
  },
  {
   "cell_type": "markdown",
   "metadata": {},
   "source": [
    "##### Download data and merge"
   ]
  },
  {
   "cell_type": "code",
   "execution_count": 19,
   "metadata": {
    "ExecuteTime": {
     "end_time": "2022-08-22T16:14:49.237941Z",
     "start_time": "2022-08-22T16:14:48.716694Z"
    }
   },
   "outputs": [
    {
     "name": "stdout",
     "output_type": "stream",
     "text": [
      "[*********************100%***********************]  2 of 2 completed\n"
     ]
    }
   ],
   "source": [
    "data = yf.download(' '.join(products_use), start=\"2020-06-01\", end=\"2022-08-12\")\n",
    "\n",
    "data = pd.DataFrame(data['Adj Close'])\n",
    "data.reset_index(inplace=True)"
   ]
  },
  {
   "cell_type": "code",
   "execution_count": 20,
   "metadata": {
    "ExecuteTime": {
     "end_time": "2022-08-22T16:14:49.253445Z",
     "start_time": "2022-08-22T16:14:49.239447Z"
    }
   },
   "outputs": [],
   "source": [
    "new_df = df.merge(how='left', right=data,left_on='Date', right_on = 'Date')"
   ]
  },
  {
   "cell_type": "markdown",
   "metadata": {
    "ExecuteTime": {
     "end_time": "2022-08-13T16:31:39.500002Z",
     "start_time": "2022-08-13T16:31:39.483847Z"
    }
   },
   "source": [
    "### Calculate amount of each instrument bought according to weighing"
   ]
  },
  {
   "cell_type": "markdown",
   "metadata": {},
   "source": [
    "TODO: Put this into function so it works with any number of assets, and Risk free asset as well"
   ]
  },
  {
   "cell_type": "code",
   "execution_count": 21,
   "metadata": {
    "ExecuteTime": {
     "end_time": "2022-08-22T16:14:50.482433Z",
     "start_time": "2022-08-22T16:14:50.469613Z"
    }
   },
   "outputs": [],
   "source": [
    "units_bought = [f'{i}_units_bought' for i in data.columns.tolist()[1:] ]\n",
    "units_cum = [f'{i}_units_cum' for i in data.columns.tolist()[1:] ]\n",
    "units_value = [f'{i}_value' for i in data.columns.tolist()[1:] ]\n",
    "\n",
    "for i in range(len(units_bought)):\n",
    "    p = products_use[i]\n",
    "    weight = products[p] \n",
    "    new_df[units_bought[i]] =  new_df.Deposit * weight / new_df[products_use[i]]\n",
    "    \n",
    "    "
   ]
  },
  {
   "cell_type": "markdown",
   "metadata": {},
   "source": [
    "##### Add cumulative sums"
   ]
  },
  {
   "cell_type": "code",
   "execution_count": 22,
   "metadata": {
    "ExecuteTime": {
     "end_time": "2022-08-22T16:14:51.203527Z",
     "start_time": "2022-08-22T16:14:51.186483Z"
    }
   },
   "outputs": [],
   "source": [
    "for i in range(len(units_cum)):\n",
    "    new_df[units_cum[i]] = new_df[units_bought[i]].cumsum()\n",
    "    \n",
    "for i in range(len(units_value)):\n",
    "    p = products_use[i]\n",
    "    weight = products[p] \n",
    "    new_df[units_value[i]] =  new_df[products_use[i]] * new_df[units_cum[i]]\n",
    "    \n"
   ]
  },
  {
   "cell_type": "code",
   "execution_count": 23,
   "metadata": {
    "ExecuteTime": {
     "end_time": "2022-08-22T16:14:51.557046Z",
     "start_time": "2022-08-22T16:14:51.542525Z"
    }
   },
   "outputs": [],
   "source": [
    "new_df['Portfolio_Value'] = new_df[units_value].sum(axis=1)\n",
    "new_df['Deposits_cum'] = new_df.Deposit.cumsum()"
   ]
  },
  {
   "cell_type": "code",
   "execution_count": 24,
   "metadata": {
    "ExecuteTime": {
     "end_time": "2022-08-22T16:14:52.012046Z",
     "start_time": "2022-08-22T16:14:51.992226Z"
    }
   },
   "outputs": [
    {
     "data": {
      "text/html": [
       "<div>\n",
       "<style scoped>\n",
       "    .dataframe tbody tr th:only-of-type {\n",
       "        vertical-align: middle;\n",
       "    }\n",
       "\n",
       "    .dataframe tbody tr th {\n",
       "        vertical-align: top;\n",
       "    }\n",
       "\n",
       "    .dataframe thead th {\n",
       "        text-align: right;\n",
       "    }\n",
       "</style>\n",
       "<table border=\"1\" class=\"dataframe\">\n",
       "  <thead>\n",
       "    <tr style=\"text-align: right;\">\n",
       "      <th></th>\n",
       "      <th>Deposit</th>\n",
       "      <th>Date</th>\n",
       "      <th>AGG</th>\n",
       "      <th>SPY</th>\n",
       "      <th>AGG_units_bought</th>\n",
       "      <th>SPY_units_bought</th>\n",
       "      <th>AGG_units_cum</th>\n",
       "      <th>SPY_units_cum</th>\n",
       "      <th>AGG_value</th>\n",
       "      <th>SPY_value</th>\n",
       "      <th>Portfolio_Value</th>\n",
       "      <th>Deposits_cum</th>\n",
       "    </tr>\n",
       "  </thead>\n",
       "  <tbody>\n",
       "    <tr>\n",
       "      <th>0</th>\n",
       "      <td>400.0</td>\n",
       "      <td>2020-06-09</td>\n",
       "      <td>112.505501</td>\n",
       "      <td>310.285614</td>\n",
       "      <td>0.035554</td>\n",
       "      <td>1.276244</td>\n",
       "      <td>0.035554</td>\n",
       "      <td>1.276244</td>\n",
       "      <td>4.0</td>\n",
       "      <td>396.0</td>\n",
       "      <td>400.0</td>\n",
       "      <td>400.0</td>\n",
       "    </tr>\n",
       "  </tbody>\n",
       "</table>\n",
       "</div>"
      ],
      "text/plain": [
       "   Deposit       Date         AGG         SPY  AGG_units_bought  \\\n",
       "0    400.0 2020-06-09  112.505501  310.285614          0.035554   \n",
       "\n",
       "   SPY_units_bought  AGG_units_cum  SPY_units_cum  AGG_value  SPY_value  \\\n",
       "0          1.276244       0.035554       1.276244        4.0      396.0   \n",
       "\n",
       "   Portfolio_Value  Deposits_cum  \n",
       "0            400.0         400.0  "
      ]
     },
     "execution_count": 24,
     "metadata": {},
     "output_type": "execute_result"
    }
   ],
   "source": [
    "new_df.head(1)"
   ]
  },
  {
   "cell_type": "markdown",
   "metadata": {},
   "source": [
    "####  Create dataframe for the risk free asset"
   ]
  },
  {
   "cell_type": "code",
   "execution_count": 13,
   "metadata": {
    "ExecuteTime": {
     "end_time": "2022-08-22T16:14:02.662913Z",
     "start_time": "2022-08-22T16:14:02.198810Z"
    }
   },
   "outputs": [
    {
     "name": "stdout",
     "output_type": "stream",
     "text": [
      "[*********************100%***********************]  1 of 1 completed\n"
     ]
    }
   ],
   "source": [
    "rf_ticker = 'BIL'\n",
    "data = yf.download(rf_ticker, start=\"2020-06-01\", end=\"2022-08-12\")\n",
    "\n",
    "data = pd.DataFrame(data['Adj Close'])\n",
    "data.reset_index(inplace=True)"
   ]
  },
  {
   "cell_type": "code",
   "execution_count": 14,
   "metadata": {
    "ExecuteTime": {
     "end_time": "2022-08-22T16:14:02.678505Z",
     "start_time": "2022-08-22T16:14:02.664683Z"
    }
   },
   "outputs": [],
   "source": [
    "data.columns = ['Date', rf_ticker]\n",
    "rf_df = df.merge(how='left', right=data,left_on='Date', right_on = 'Date')"
   ]
  },
  {
   "cell_type": "code",
   "execution_count": 15,
   "metadata": {
    "ExecuteTime": {
     "end_time": "2022-08-22T16:14:02.693722Z",
     "start_time": "2022-08-22T16:14:02.679438Z"
    },
    "scrolled": true
   },
   "outputs": [
    {
     "data": {
      "text/plain": [
       "Deposit                               90.58\n",
       "Date                    2022-08-08 00:00:00\n",
       "BIL                                   91.43\n",
       "BIL_Units_Bought                   0.990703\n",
       "BIL_Units_Bought_Cum             118.964649\n",
       "Portfolio_Value                10876.937902\n",
       "Deposits_cum                       10858.59\n",
       "Name: 104, dtype: object"
      ]
     },
     "execution_count": 15,
     "metadata": {},
     "output_type": "execute_result"
    }
   ],
   "source": [
    "rf_df[f'{rf_ticker}_Units_Bought'] = rf_df.Deposit / rf_df[rf_ticker]\n",
    "rf_df[f'{rf_ticker}_Units_Bought_Cum'] = rf_df[f'{rf_ticker}_Units_Bought'].cumsum()\n",
    "rf_df['Portfolio_Value'] = rf_df[f'{rf_ticker}_Units_Bought_Cum'] * rf_df[rf_ticker]\n",
    "rf_df['Deposits_cum'] = rf_df.Deposit.cumsum()\n",
    "rf_df.iloc[-1,:]"
   ]
  },
  {
   "cell_type": "markdown",
   "metadata": {},
   "source": [
    "#### Save data to csv "
   ]
  },
  {
   "cell_type": "code",
   "execution_count": 16,
   "metadata": {
    "ExecuteTime": {
     "end_time": "2022-08-22T16:14:04.973461Z",
     "start_time": "2022-08-22T16:14:04.941594Z"
    }
   },
   "outputs": [],
   "source": [
    "new_df.to_csv(\"Model_Portfolio_df.csv\",index=False)\n",
    "rf_df.to_csv('Risk_Free_Portfolio_df.csv',index=False)"
   ]
  },
  {
   "cell_type": "code",
   "execution_count": 17,
   "metadata": {
    "ExecuteTime": {
     "end_time": "2022-08-22T16:14:09.684264Z",
     "start_time": "2022-08-22T16:14:09.670681Z"
    }
   },
   "outputs": [
    {
     "data": {
      "text/html": [
       "<div>\n",
       "<style scoped>\n",
       "    .dataframe tbody tr th:only-of-type {\n",
       "        vertical-align: middle;\n",
       "    }\n",
       "\n",
       "    .dataframe tbody tr th {\n",
       "        vertical-align: top;\n",
       "    }\n",
       "\n",
       "    .dataframe thead th {\n",
       "        text-align: right;\n",
       "    }\n",
       "</style>\n",
       "<table border=\"1\" class=\"dataframe\">\n",
       "  <thead>\n",
       "    <tr style=\"text-align: right;\">\n",
       "      <th></th>\n",
       "      <th>Deposit</th>\n",
       "      <th>Date</th>\n",
       "      <th>Adj Close</th>\n",
       "    </tr>\n",
       "  </thead>\n",
       "  <tbody>\n",
       "    <tr>\n",
       "      <th>0</th>\n",
       "      <td>400.00</td>\n",
       "      <td>2020-06-09</td>\n",
       "      <td>310.285614</td>\n",
       "    </tr>\n",
       "    <tr>\n",
       "      <th>1</th>\n",
       "      <td>100.00</td>\n",
       "      <td>2020-06-10</td>\n",
       "      <td>308.554230</td>\n",
       "    </tr>\n",
       "    <tr>\n",
       "      <th>2</th>\n",
       "      <td>250.00</td>\n",
       "      <td>2020-06-29</td>\n",
       "      <td>295.786224</td>\n",
       "    </tr>\n",
       "    <tr>\n",
       "      <th>3</th>\n",
       "      <td>250.00</td>\n",
       "      <td>2020-07-20</td>\n",
       "      <td>315.080536</td>\n",
       "    </tr>\n",
       "    <tr>\n",
       "      <th>4</th>\n",
       "      <td>50.00</td>\n",
       "      <td>2020-08-04</td>\n",
       "      <td>320.656952</td>\n",
       "    </tr>\n",
       "    <tr>\n",
       "      <th>...</th>\n",
       "      <td>...</td>\n",
       "      <td>...</td>\n",
       "      <td>...</td>\n",
       "    </tr>\n",
       "    <tr>\n",
       "      <th>100</th>\n",
       "      <td>177.00</td>\n",
       "      <td>2022-07-15</td>\n",
       "      <td>385.130005</td>\n",
       "    </tr>\n",
       "    <tr>\n",
       "      <th>101</th>\n",
       "      <td>89.52</td>\n",
       "      <td>2022-07-18</td>\n",
       "      <td>381.950012</td>\n",
       "    </tr>\n",
       "    <tr>\n",
       "      <th>102</th>\n",
       "      <td>84.33</td>\n",
       "      <td>2022-07-25</td>\n",
       "      <td>395.570007</td>\n",
       "    </tr>\n",
       "    <tr>\n",
       "      <th>103</th>\n",
       "      <td>91.41</td>\n",
       "      <td>2022-08-01</td>\n",
       "      <td>410.769989</td>\n",
       "    </tr>\n",
       "    <tr>\n",
       "      <th>104</th>\n",
       "      <td>90.58</td>\n",
       "      <td>2022-08-08</td>\n",
       "      <td>412.989990</td>\n",
       "    </tr>\n",
       "  </tbody>\n",
       "</table>\n",
       "<p>105 rows × 3 columns</p>\n",
       "</div>"
      ],
      "text/plain": [
       "     Deposit       Date   Adj Close\n",
       "0     400.00 2020-06-09  310.285614\n",
       "1     100.00 2020-06-10  308.554230\n",
       "2     250.00 2020-06-29  295.786224\n",
       "3     250.00 2020-07-20  315.080536\n",
       "4      50.00 2020-08-04  320.656952\n",
       "..       ...        ...         ...\n",
       "100   177.00 2022-07-15  385.130005\n",
       "101    89.52 2022-07-18  381.950012\n",
       "102    84.33 2022-07-25  395.570007\n",
       "103    91.41 2022-08-01  410.769989\n",
       "104    90.58 2022-08-08  412.989990\n",
       "\n",
       "[105 rows x 3 columns]"
      ]
     },
     "execution_count": 17,
     "metadata": {},
     "output_type": "execute_result"
    }
   ],
   "source": [
    "new_df"
   ]
  },
  {
   "cell_type": "markdown",
   "metadata": {},
   "source": [
    "## Make Fancy Plots and Evaluate Performance"
   ]
  },
  {
   "cell_type": "code",
   "execution_count": 562,
   "metadata": {
    "ExecuteTime": {
     "end_time": "2022-08-14T13:36:39.531712Z",
     "start_time": "2022-08-14T13:36:39.299823Z"
    },
    "scrolled": true
   },
   "outputs": [
    {
     "data": {
      "image/png": "[encoded data removed]",
      "text/plain": [
       "<Figure size 1332x756 with 1 Axes>"
      ]
     },
     "metadata": {
      "needs_background": "light"
     },
     "output_type": "display_data"
    }
   ],
   "source": [
    "fig = plt.gcf()\n",
    "fig.set_size_inches(18.5, 10.5)\n",
    "\n",
    "label = str(products.items())[10:]\n",
    "\n",
    "ax = plt.axis()\n",
    "plt.plot(new_df.Date,new_df.Portfolio_Value, color='blue', label=f'Ideal Portfolio: {label}')\n",
    "plt.xlabel('Date')\n",
    "plt.ylabel('Portfolio($)')\n",
    "plt.plot(new_df.Date,rf_df.Portfolio_Value,'r', label='Risk Free Portfolio')\n",
    "\n",
    "plt.legend()\n",
    "plt.xticks(rotation = 45)\n",
    "plt.grid()\n",
    "plt.show()"
   ]
  },
  {
   "cell_type": "markdown",
   "metadata": {},
   "source": [
    "### Useful performance metrics\n",
    "- Max drawdown (as % of deposits)\n",
    "- Risk adjusted return\n",
    "- Create df of continuous day to day data and portfolio price evolution"
   ]
  },
  {
   "cell_type": "code",
   "execution_count": null,
   "metadata": {},
   "outputs": [],
   "source": []
  },
  {
   "cell_type": "markdown",
   "metadata": {},
   "source": [
    "### Imporvements to script "
   ]
  },
  {
   "cell_type": "code",
   "execution_count": null,
   "metadata": {},
   "outputs": [],
   "source": []
  },
  {
   "cell_type": "code",
   "execution_count": null,
   "metadata": {},
   "outputs": [],
   "source": []
  },
  {
   "cell_type": "code",
   "execution_count": null,
   "metadata": {},
   "outputs": [],
   "source": []
  },
  {
   "cell_type": "markdown",
   "metadata": {},
   "source": [
    "#  Extra parts to delete"
   ]
  },
  {
   "cell_type": "markdown",
   "metadata": {},
   "source": [
    "##### Convert weekends to mondays"
   ]
  },
  {
   "cell_type": "code",
   "execution_count": 12,
   "metadata": {
    "scrolled": true
   },
   "outputs": [],
   "source": [
    "import datetime\n",
    "\n",
    "# check if date is a saturday or sunday, if so update the dates list by rounding these to the next monday\n",
    "for i in range(0,len(dates)):\n",
    "    this_date = dates[i]\n",
    "    dayno = this_date.weekday()\n",
    "    \n",
    "    if (dayno == 5): \n",
    "        dates[i] = dates[i] + datetime.timedelta(days=2)\n",
    "    if (dayno == 6):\n",
    "        dates[i] = dates[i] + datetime.timedelta(days=1)\n",
    "    \n",
    "\n",
    "# market closed on may 31 2021, nov 26 2020 (index 39, 15)\n",
    "index1 = 39\n",
    "index2 = 15\n",
    "# manually adjust for this\n",
    "dates[index1] = dates[index1] + datetime.timedelta(days=1)\n",
    "dates[index2] = dates[index2] + datetime.timedelta(days=1)"
   ]
  },
  {
   "cell_type": "code",
   "execution_count": 13,
   "metadata": {},
   "outputs": [],
   "source": [
    "#convert datetime objects to strings\n",
    "dates_strings = [dates[i].strftime(\"%Y%m%d\") for i in range(0, len(dates))]\n"
   ]
  },
  {
   "cell_type": "code",
   "execution_count": null,
   "metadata": {},
   "outputs": [],
   "source": []
  }
 ],
 "metadata": {
  "kernelspec": {
   "display_name": "Python 3 (ipykernel)",
   "language": "python",
   "name": "python3"
  },
  "language_info": {
   "codemirror_mode": {
    "name": "ipython",
    "version": 3
   },
   "file_extension": ".py",
   "mimetype": "text/x-python",
   "name": "python",
   "nbconvert_exporter": "python",
   "pygments_lexer": "ipython3",
   "version": "3.8.13"
  }
 },
 "nbformat": 4,
 "nbformat_minor": 4
}
