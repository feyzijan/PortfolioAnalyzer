{
 "cells": [
  {
   "cell_type": "code",
   "execution_count": null,
   "metadata": {},
   "outputs": [],
   "source": [
    "import ApiKey\n",
    "\n",
    "secret_key = ApiKey.secret_api_key\n",
    "test_key = \"Tpk_cbb93367d90f48b295ecf0f6dccd8b6c\"\n",
    "\n",
    "base_url = \"https://cloud.iexapis.com/stable/\"\n",
    "base_url_sandbox = \"https://sandbox.iexapis.com/stable/\"\n",
    "\n",
    "sandbox_token = f\"?token={test_key}\"\n",
    "token = f\"?token={secret_key}\"\n",
    "### First test request with sandbox\n",
    "\n",
    "- Note that if you pass in a weekend date/market holiday you get no result\n",
    "- Take adjusted close prices only, hence assumption is I always buy the thing right before close\n",
    "##### Parameters\n",
    "symbol = \"spy\"\n",
    "date = df[\"DatesString\"][0]\n",
    "date\n",
    "##### Test Single Request in sandbox\n",
    "endpoint = f\"stock/{symbol}/chart/date/{date}\"\n",
    "query = \"&chartByDay=true&chartCloseOnly=true\"\n",
    "req_url = base_url_sandbox + endpoint + sandbox_token + query\n",
    "print(req_url)\n",
    "test = requests.get(req_url).json()\n",
    "test\n",
    "### Function to get all adjusted closing prices\n",
    "def get_price_by_date(date_list, symbol, sandbox=True):\n",
    "    # initialize lists to return\n",
    "    hist_prices = []\n",
    "    \n",
    "    if sandbox:\n",
    "        key = sandbox_token\n",
    "        base = base_url_sandbox\n",
    "    else:\n",
    "        key = token\n",
    "        base = base_url\n",
    "        \n",
    "        \n",
    "    queryParameter = \"&chartByDay=true&chartCloseOnly=true\"\n",
    "    \n",
    "    for current_date in date_list:    \n",
    "        endpoint = f\"stock/{symbol}/chart/date/{current_date}\"        \n",
    "        req_url = base + endpoint + key + query\n",
    "        data = requests.get(req_url).json()\n",
    "        hist_prices += [data[0][\"close\"]]\n",
    "        \n",
    "        print(current_date, \"\\n\", data)\n",
    "        \n",
    "    \n",
    "    return hist_prices\n",
    "##### Check with Sandbox=True to ensure all dates are valid\n",
    "hist_prices_mock = get_price_by_date(df[\"DatesString\"], symbol,sandbox=True)\n",
    "### ACTUAL CALL - Execute Rarely  \n",
    "hist_prices = get_price_by_date(df[\"DatesString\"], symbol,sandbox=False)\n",
    "hist_prices\n",
    "#### Function to get current spy price\n",
    "def get_current_price(symbol):\n",
    "    endpoint = f\"/stock/{symbol}/previous\"\n",
    "    query = \"&chartByDay=true&chartCloseOnly=true\"\n",
    "\n",
    "    req_url = base_url + endpoint + token + query\n",
    "\n",
    "    return requests.get(req_url).json()[\"fClose\"]"
   ]
  }
 ],
 "metadata": {
  "kernelspec": {
   "display_name": "Python 3.9.6 64-bit",
   "language": "python",
   "name": "python3"
  },
  "language_info": {
   "name": "python",
   "version": "3.9.6"
  },
  "orig_nbformat": 4,
  "vscode": {
   "interpreter": {
    "hash": "88253bda05a853a3e2e108eae53f17c1fe54d0ccc1565ef6af417baa30d1e2de"
   }
  }
 },
 "nbformat": 4,
 "nbformat_minor": 2
}
