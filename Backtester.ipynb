{
 "cells": [
  {
   "cell_type": "markdown",
   "metadata": {},
   "source": [
    "TODO:\n",
    "- Figure out how to properly implement rebalancing\n",
    "- Add user input reading to determine parameters"
   ]
  },
  {
   "cell_type": "markdown",
   "metadata": {},
   "source": [
    "## Imports"
   ]
  },
  {
   "cell_type": "code",
   "execution_count": 16,
   "metadata": {},
   "outputs": [],
   "source": [
    "import numpy as np\n",
    "import pandas as pd\n",
    "import matplotlib.pyplot as plt\n",
    "import yfinance as yf\n",
    "import datetime\n",
    "import seaborn as sns\n",
    "import math\n",
    "import pandas_market_calendars as mcal"
   ]
  },
  {
   "cell_type": "markdown",
   "metadata": {},
   "source": [
    "### Parameters"
   ]
  },
  {
   "attachments": {},
   "cell_type": "markdown",
   "metadata": {},
   "source": [
    "- All parameters below will be selected via user inputs, for now I'm setting them as constants"
   ]
  },
  {
   "cell_type": "code",
   "execution_count": 93,
   "metadata": {},
   "outputs": [],
   "source": [
    "# Tickers of ETFS and their portfolio weighings\n",
    "products = {\n",
    "          \"SPY\":0.4,    #SP500\n",
    "          \"QQQ\":0.2,   #NASDAQ100\n",
    "          \"IWM\":0.0,    #Russel2000\n",
    "           #Bonds\n",
    "          \"BIL\":0.0,     #0-3 month \n",
    "          \"SHY\":0.4,    #1-3 yr \n",
    "          \"IEF\":0.0,      #7-10yr\n",
    "          \"TLT\":0.0       #20+yr\n",
    "}\n",
    "\n",
    "# Start and end dates for the test \n",
    "start_date = '2010-01-01'\n",
    "end_date = '2023-01-01'\n",
    "\n",
    "# Deposit frequency and amount\n",
    "# [\"daily\",\"weekly\",\"monthly\",\"quarterly\",\"yearly\"] -> [1,7,30,120,365]\n",
    "frequency = 'BMS' # Deposit frequency\n",
    "# ['B':business day,'BM':business month end, 'BMS':business month start\n",
    "# 'BQ': business quarter end, 'BQS': Business quarter start\n",
    "# 'BA,BY': busines year end, 'BAS,BYS': buiness year start\n",
    "deposit = 100 # Deposit amount\n",
    "  \n",
    "# Rebalancing?\n",
    "rebalancing_frequency = 'BYS' # How many times a year"
   ]
  },
  {
   "cell_type": "code",
   "execution_count": 94,
   "metadata": {},
   "outputs": [],
   "source": [
    "def generate_deposits_dataframe(products, start_date, end_date, frequency, deposit, rebalancing_freq):\n",
    "    # Generate time series with given frequency between start and end date\n",
    "    dates = pd.date_range(start_date, end_date, freq=frequency)\n",
    "    df = pd.DataFrame({'date': dates})"
   ]
  },
  {
   "attachments": {},
   "cell_type": "markdown",
   "metadata": {},
   "source": [
    "Generate dates"
   ]
  },
  {
   "cell_type": "code",
   "execution_count": 108,
   "metadata": {},
   "outputs": [
    {
     "name": "stderr",
     "output_type": "stream",
     "text": [
      "C:\\Users\\feyzi\\AppData\\Local\\Temp\\ipykernel_6508\\1473478540.py:16: DeprecationWarning: In a future version, `df.iloc[:, i] = newvals` will attempt to set the values inplace instead of always setting a new array. To retain the old behavior, use either `df[df.columns[i]] = newvals` or, if columns are non-unique, `df.isetitem(i, newvals)`\n",
      "  if not nyse.schedule(start_date=date, end_date=date).empty:\n"
     ]
    },
    {
     "data": {
      "text/html": [
       "<div>\n",
       "<style scoped>\n",
       "    .dataframe tbody tr th:only-of-type {\n",
       "        vertical-align: middle;\n",
       "    }\n",
       "\n",
       "    .dataframe tbody tr th {\n",
       "        vertical-align: top;\n",
       "    }\n",
       "\n",
       "    .dataframe thead th {\n",
       "        text-align: right;\n",
       "    }\n",
       "</style>\n",
       "<table border=\"1\" class=\"dataframe\">\n",
       "  <thead>\n",
       "    <tr style=\"text-align: right;\">\n",
       "      <th></th>\n",
       "      <th>Dates</th>\n",
       "      <th>Deposit</th>\n",
       "      <th>Rebalancing</th>\n",
       "    </tr>\n",
       "  </thead>\n",
       "  <tbody>\n",
       "    <tr>\n",
       "      <th>0</th>\n",
       "      <td>2010-01-01</td>\n",
       "      <td>True</td>\n",
       "      <td>True</td>\n",
       "    </tr>\n",
       "    <tr>\n",
       "      <th>1</th>\n",
       "      <td>2010-02-02</td>\n",
       "      <td>True</td>\n",
       "      <td>False</td>\n",
       "    </tr>\n",
       "    <tr>\n",
       "      <th>2</th>\n",
       "      <td>2010-03-02</td>\n",
       "      <td>True</td>\n",
       "      <td>False</td>\n",
       "    </tr>\n",
       "    <tr>\n",
       "      <th>3</th>\n",
       "      <td>2010-04-02</td>\n",
       "      <td>True</td>\n",
       "      <td>False</td>\n",
       "    </tr>\n",
       "    <tr>\n",
       "      <th>4</th>\n",
       "      <td>2010-05-04</td>\n",
       "      <td>True</td>\n",
       "      <td>False</td>\n",
       "    </tr>\n",
       "    <tr>\n",
       "      <th>...</th>\n",
       "      <td>...</td>\n",
       "      <td>...</td>\n",
       "      <td>...</td>\n",
       "    </tr>\n",
       "    <tr>\n",
       "      <th>151</th>\n",
       "      <td>2022-08-02</td>\n",
       "      <td>True</td>\n",
       "      <td>False</td>\n",
       "    </tr>\n",
       "    <tr>\n",
       "      <th>152</th>\n",
       "      <td>2022-09-02</td>\n",
       "      <td>True</td>\n",
       "      <td>False</td>\n",
       "    </tr>\n",
       "    <tr>\n",
       "      <th>153</th>\n",
       "      <td>2022-10-04</td>\n",
       "      <td>True</td>\n",
       "      <td>False</td>\n",
       "    </tr>\n",
       "    <tr>\n",
       "      <th>154</th>\n",
       "      <td>2022-11-02</td>\n",
       "      <td>True</td>\n",
       "      <td>False</td>\n",
       "    </tr>\n",
       "    <tr>\n",
       "      <th>155</th>\n",
       "      <td>2022-12-02</td>\n",
       "      <td>True</td>\n",
       "      <td>False</td>\n",
       "    </tr>\n",
       "  </tbody>\n",
       "</table>\n",
       "<p>156 rows × 3 columns</p>\n",
       "</div>"
      ],
      "text/plain": [
       "         Dates  Deposit  Rebalancing\n",
       "0   2010-01-01     True         True\n",
       "1   2010-02-02     True        False\n",
       "2   2010-03-02     True        False\n",
       "3   2010-04-02     True        False\n",
       "4   2010-05-04     True        False\n",
       "..         ...      ...          ...\n",
       "151 2022-08-02     True        False\n",
       "152 2022-09-02     True        False\n",
       "153 2022-10-04     True        False\n",
       "154 2022-11-02     True        False\n",
       "155 2022-12-02     True        False\n",
       "\n",
       "[156 rows x 3 columns]"
      ]
     },
     "execution_count": 108,
     "metadata": {},
     "output_type": "execute_result"
    }
   ],
   "source": [
    "# Generate initial deposit dates\n",
    "deposit_dates = pd.date_range(start_date, end_date, freq=frequency)\n",
    "df = pd.DataFrame({'Dates': deposit_dates})\n",
    "df[\"Deposit\"] = True\n",
    "\n",
    "# Make sure none of them are market holidays\n",
    "\n",
    "# Create a calendar\n",
    "nyse = mcal.get_calendar('NYSE')\n",
    "\n",
    "# Get the US stock market calendar\n",
    "nyse = mcal.get_calendar('NYSE')\n",
    "\n",
    "# Move any market holidays to the nearest non-holiday day\n",
    "for date in df['Dates']:\n",
    "    if not nyse.schedule(start_date=date, end_date=date).empty:\n",
    "        # Find the next business day after the holiday\n",
    "        next_bday = date + pd.offsets.BDay(1)\n",
    "        new_date = next_bday\n",
    "        # Move the holiday date to the nearest non-holiday day\n",
    "        df.loc[df['Dates'] == date, 'Dates'] = new_date\n",
    "\n",
    "# Add rebalancing dates\n",
    "\n",
    "rebalance_dates = pd.date_range(start_date, end_date, freq=rebalancing_frequency).tolist()\n",
    "df_rebalancing = pd.DataFrame({'Dates': rebalance_dates})\n",
    "\n",
    "# Create a new column \"Rebalancing\" in df and initialize it to False\n",
    "df['Rebalancing'] = False\n",
    "\n",
    "# Loop through each date in df_rebalancing and mark the corresponding date in df as rebalancing\n",
    "for date in df_rebalancing['Dates']:\n",
    "    # Find the index of the matching date in df, or the index of the closest date if no match exists\n",
    "    idx = df['Dates'].sub(date).abs().idxmin()\n",
    "    # Set the corresponding row in df to be a rebalancing date\n",
    "    df.loc[idx, 'Rebalancing'] = True\n",
    "\n",
    "df"
   ]
  },
  {
   "attachments": {},
   "cell_type": "markdown",
   "metadata": {},
   "source": [
    "Add ticker info"
   ]
  },
  {
   "cell_type": "code",
   "execution_count": 101,
   "metadata": {},
   "outputs": [],
   "source": []
  },
  {
   "cell_type": "code",
   "execution_count": 103,
   "metadata": {},
   "outputs": [
    {
     "data": {
      "text/plain": [
       "False    143\n",
       "True      13\n",
       "Name: Rebalancing, dtype: int64"
      ]
     },
     "execution_count": 103,
     "metadata": {},
     "output_type": "execute_result"
    }
   ],
   "source": [
    "df.Rebalancing.value_counts()"
   ]
  },
  {
   "cell_type": "code",
   "execution_count": null,
   "metadata": {},
   "outputs": [],
   "source": []
  },
  {
   "cell_type": "code",
   "execution_count": null,
   "metadata": {},
   "outputs": [],
   "source": []
  },
  {
   "cell_type": "markdown",
   "metadata": {},
   "source": [
    "### Function to build dataframe with required parameters"
   ]
  },
  {
   "cell_type": "code",
   "execution_count": 4,
   "metadata": {},
   "outputs": [],
   "source": [
    "def create_df(products,start_date,end_date,frequency,deposit,rebalancing,rebalancing_frequency):\n",
    "    # Get data from yahoo finance\n",
    "    tickers_use = sorted([key for key,value in products.items() if value != 0])\n",
    "    #dates = pd.date_range(start_date, end_date,frequency='B')\n",
    "\n",
    "    data = yf.download(tickers_use, start=start_date, end=end_date)\n",
    "    df = pd.DataFrame(data['Adj Close'])\n",
    "    df.reset_index(inplace=True)\n",
    "\n",
    "    # Add Transact, Deposit, Rebalancing Flags\n",
    "    df['Deposit'] = 0\n",
    "    df['Transact'] = False\n",
    "    df['Rebalance'] = False\n",
    "\n",
    "\n",
    "    for i in range(0,len(df),frequency):\n",
    "        df.at[i,'Transact'] = True\n",
    "        df.at[i,'Deposit'] = deposit\n",
    "\n",
    "    for i in range(rebalancing_frequency,len(df),rebalancing_frequency):\n",
    "        df.at[i,'Rebalance'] = True\n",
    "\n",
    "\n",
    "    #Calculate amount of each instrument bought on given date\n",
    "    units_bought = [f'{ticker}_units_bought' for ticker in tickers_use ]\n",
    "    units_cum = [f'{ticker}_units_cum' for ticker in tickers_use ]\n",
    "    units_value = [f'{ticker}_value' for ticker in tickers_use ]\n",
    "\n",
    "    for i in range(len(units_bought)): # For each product\n",
    "        p = tickers_use[i]\n",
    "        weight = products[p] \n",
    "        df[units_bought[i]] =  df.Deposit * weight / df[tickers_use[i]]\n",
    "\n",
    "        df[units_cum[i]] = df[units_bought[i]].cumsum()\n",
    "\n",
    "        weight = products[tickers_use[i]] \n",
    "        df[units_value[i]] =  df[tickers_use[i]] * df[units_cum[i]]\n",
    "        \n",
    "        #if df['Rebalance'][i] == True: ## Commence rebalancing \n",
    "\n",
    "    #Portfolio value and cumulative deposits\n",
    "    df['Portfolio_Value'] = df[units_value].sum(axis=1)\n",
    "    df['Deposits_cum'] = df.Deposit.cumsum()\n",
    "    df['OverallPnL%'] = (df['Portfolio_Value'] - df['Deposits_cum'])/ df['Deposits_cum']\n",
    "    #Figure out smart way to do this\n",
    "    df['DoDPnL%'] = 0\n",
    "    df['DoDLogReturn'] = 0\n",
    "    for i in range(1,len(df)):\n",
    "        df.at[i,'DoDPnL%'] = (df.at[i,'Portfolio_Value'] - df.at[i-1,'Portfolio_Value']-df.at[i,'Deposit'])/df.at[i-1,'Portfolio_Value']\n",
    "        df['DoDLogReturn'] =  np.log((df.at[i,'Portfolio_Value'] -df.at[i,'Deposit']) / (df.at[i-1,'Portfolio_Value']-df.at[i,'Deposit']))\n",
    "    \n",
    "    return df\n",
    "    "
   ]
  },
  {
   "cell_type": "code",
   "execution_count": 5,
   "metadata": {},
   "outputs": [
    {
     "name": "stdout",
     "output_type": "stream",
     "text": [
      "[*********************100%***********************]  2 of 2 completed\n"
     ]
    }
   ],
   "source": [
    "df = create_df(products,start_date,end_date,frequency,deposit,rebalancing,rebalancing_frequency)"
   ]
  },
  {
   "cell_type": "code",
   "execution_count": 6,
   "metadata": {},
   "outputs": [
    {
     "data": {
      "text/html": [
       "<div>\n",
       "<style scoped>\n",
       "    .dataframe tbody tr th:only-of-type {\n",
       "        vertical-align: middle;\n",
       "    }\n",
       "\n",
       "    .dataframe tbody tr th {\n",
       "        vertical-align: top;\n",
       "    }\n",
       "\n",
       "    .dataframe thead th {\n",
       "        text-align: right;\n",
       "    }\n",
       "</style>\n",
       "<table border=\"1\" class=\"dataframe\">\n",
       "  <thead>\n",
       "    <tr style=\"text-align: right;\">\n",
       "      <th></th>\n",
       "      <th>Date</th>\n",
       "      <th>SHY</th>\n",
       "      <th>SPY</th>\n",
       "      <th>Deposit</th>\n",
       "      <th>Transact</th>\n",
       "      <th>Rebalance</th>\n",
       "      <th>SHY_units_bought</th>\n",
       "      <th>SHY_units_cum</th>\n",
       "      <th>SHY_value</th>\n",
       "      <th>SPY_units_bought</th>\n",
       "      <th>SPY_units_cum</th>\n",
       "      <th>SPY_value</th>\n",
       "      <th>Portfolio_Value</th>\n",
       "      <th>Deposits_cum</th>\n",
       "      <th>OverallPnL%</th>\n",
       "      <th>DoDPnL%</th>\n",
       "      <th>DoDLogReturn</th>\n",
       "    </tr>\n",
       "  </thead>\n",
       "  <tbody>\n",
       "    <tr>\n",
       "      <th>2511</th>\n",
       "      <td>2019-12-24</td>\n",
       "      <td>82.794525</td>\n",
       "      <td>307.631134</td>\n",
       "      <td>0</td>\n",
       "      <td>False</td>\n",
       "      <td>False</td>\n",
       "      <td>0.00000</td>\n",
       "      <td>183.802342</td>\n",
       "      <td>15217.827627</td>\n",
       "      <td>0.000000</td>\n",
       "      <td>142.526135</td>\n",
       "      <td>43845.476665</td>\n",
       "      <td>59063.304292</td>\n",
       "      <td>35900</td>\n",
       "      <td>0.645217</td>\n",
       "      <td>0.000054</td>\n",
       "      <td>0.00177</td>\n",
       "    </tr>\n",
       "    <tr>\n",
       "      <th>2512</th>\n",
       "      <td>2019-12-26</td>\n",
       "      <td>82.823921</td>\n",
       "      <td>309.268768</td>\n",
       "      <td>0</td>\n",
       "      <td>False</td>\n",
       "      <td>False</td>\n",
       "      <td>0.00000</td>\n",
       "      <td>183.802342</td>\n",
       "      <td>15223.230691</td>\n",
       "      <td>0.000000</td>\n",
       "      <td>142.526135</td>\n",
       "      <td>44078.882349</td>\n",
       "      <td>59302.113041</td>\n",
       "      <td>35900</td>\n",
       "      <td>0.651869</td>\n",
       "      <td>0.004043</td>\n",
       "      <td>0.00177</td>\n",
       "    </tr>\n",
       "    <tr>\n",
       "      <th>2513</th>\n",
       "      <td>2019-12-27</td>\n",
       "      <td>82.882713</td>\n",
       "      <td>309.192047</td>\n",
       "      <td>100</td>\n",
       "      <td>True</td>\n",
       "      <td>False</td>\n",
       "      <td>0.48261</td>\n",
       "      <td>184.284952</td>\n",
       "      <td>15274.036819</td>\n",
       "      <td>0.194054</td>\n",
       "      <td>142.720190</td>\n",
       "      <td>44127.947575</td>\n",
       "      <td>59401.984394</td>\n",
       "      <td>36000</td>\n",
       "      <td>0.650055</td>\n",
       "      <td>-0.000002</td>\n",
       "      <td>0.00177</td>\n",
       "    </tr>\n",
       "    <tr>\n",
       "      <th>2514</th>\n",
       "      <td>2019-12-30</td>\n",
       "      <td>82.912071</td>\n",
       "      <td>307.487457</td>\n",
       "      <td>0</td>\n",
       "      <td>False</td>\n",
       "      <td>False</td>\n",
       "      <td>0.00000</td>\n",
       "      <td>184.284952</td>\n",
       "      <td>15279.447040</td>\n",
       "      <td>0.000000</td>\n",
       "      <td>142.720190</td>\n",
       "      <td>43884.668189</td>\n",
       "      <td>59164.115229</td>\n",
       "      <td>36000</td>\n",
       "      <td>0.643448</td>\n",
       "      <td>-0.004004</td>\n",
       "      <td>0.00177</td>\n",
       "    </tr>\n",
       "    <tr>\n",
       "      <th>2515</th>\n",
       "      <td>2019-12-31</td>\n",
       "      <td>82.902283</td>\n",
       "      <td>308.234436</td>\n",
       "      <td>0</td>\n",
       "      <td>False</td>\n",
       "      <td>False</td>\n",
       "      <td>0.00000</td>\n",
       "      <td>184.284952</td>\n",
       "      <td>15277.643165</td>\n",
       "      <td>0.000000</td>\n",
       "      <td>142.720190</td>\n",
       "      <td>43991.277139</td>\n",
       "      <td>59268.920304</td>\n",
       "      <td>36000</td>\n",
       "      <td>0.646359</td>\n",
       "      <td>0.001771</td>\n",
       "      <td>0.00177</td>\n",
       "    </tr>\n",
       "  </tbody>\n",
       "</table>\n",
       "</div>"
      ],
      "text/plain": [
       "           Date        SHY         SPY  Deposit  Transact  Rebalance  \\\n",
       "2511 2019-12-24  82.794525  307.631134        0     False      False   \n",
       "2512 2019-12-26  82.823921  309.268768        0     False      False   \n",
       "2513 2019-12-27  82.882713  309.192047      100      True      False   \n",
       "2514 2019-12-30  82.912071  307.487457        0     False      False   \n",
       "2515 2019-12-31  82.902283  308.234436        0     False      False   \n",
       "\n",
       "      SHY_units_bought  SHY_units_cum     SHY_value  SPY_units_bought  \\\n",
       "2511           0.00000     183.802342  15217.827627          0.000000   \n",
       "2512           0.00000     183.802342  15223.230691          0.000000   \n",
       "2513           0.48261     184.284952  15274.036819          0.194054   \n",
       "2514           0.00000     184.284952  15279.447040          0.000000   \n",
       "2515           0.00000     184.284952  15277.643165          0.000000   \n",
       "\n",
       "      SPY_units_cum     SPY_value  Portfolio_Value  Deposits_cum  OverallPnL%  \\\n",
       "2511     142.526135  43845.476665     59063.304292         35900     0.645217   \n",
       "2512     142.526135  44078.882349     59302.113041         35900     0.651869   \n",
       "2513     142.720190  44127.947575     59401.984394         36000     0.650055   \n",
       "2514     142.720190  43884.668189     59164.115229         36000     0.643448   \n",
       "2515     142.720190  43991.277139     59268.920304         36000     0.646359   \n",
       "\n",
       "       DoDPnL%  DoDLogReturn  \n",
       "2511  0.000054       0.00177  \n",
       "2512  0.004043       0.00177  \n",
       "2513 -0.000002       0.00177  \n",
       "2514 -0.004004       0.00177  \n",
       "2515  0.001771       0.00177  "
      ]
     },
     "execution_count": 6,
     "metadata": {},
     "output_type": "execute_result"
    }
   ],
   "source": [
    "df.tail()"
   ]
  },
  {
   "cell_type": "markdown",
   "metadata": {},
   "source": [
    "### Calculate Performance Metrics"
   ]
  },
  {
   "cell_type": "markdown",
   "metadata": {},
   "source": [
    "Using Portfolio log returns"
   ]
  },
  {
   "cell_type": "code",
   "execution_count": 7,
   "metadata": {},
   "outputs": [
    {
     "data": {
      "text/plain": [
       "0.0056034824620875565"
      ]
     },
     "execution_count": 7,
     "metadata": {},
     "output_type": "execute_result"
    }
   ],
   "source": [
    "r = df.DoDLogReturn.to_numpy()\n",
    "std = np.sqrt(np.sum(np.square(r)))\n",
    "std /= np.sqrt(251)\n",
    "std"
   ]
  },
  {
   "cell_type": "code",
   "execution_count": null,
   "metadata": {},
   "outputs": [],
   "source": []
  },
  {
   "cell_type": "markdown",
   "metadata": {},
   "source": [
    "#### Portfolio Volatility as weighted sum of individual securities\n",
    "- This assumes the portfolio weights hold up"
   ]
  },
  {
   "cell_type": "code",
   "execution_count": null,
   "metadata": {},
   "outputs": [],
   "source": []
  },
  {
   "cell_type": "code",
   "execution_count": null,
   "metadata": {},
   "outputs": [],
   "source": []
  },
  {
   "cell_type": "markdown",
   "metadata": {},
   "source": [
    "Plotting and stuff"
   ]
  },
  {
   "cell_type": "markdown",
   "metadata": {},
   "source": []
  }
 ],
 "metadata": {
  "kernelspec": {
   "display_name": "Python 3.8.13 ('base')",
   "language": "python",
   "name": "python3"
  },
  "language_info": {
   "codemirror_mode": {
    "name": "ipython",
    "version": 3
   },
   "file_extension": ".py",
   "mimetype": "text/x-python",
   "name": "python",
   "nbconvert_exporter": "python",
   "pygments_lexer": "ipython3",
   "version": "3.8.16"
  },
  "orig_nbformat": 4,
  "vscode": {
   "interpreter": {
    "hash": "ad2bdc8ecc057115af97d19610ffacc2b4e99fae6737bb82f5d7fb13d2f2c186"
   }
  }
 },
 "nbformat": 4,
 "nbformat_minor": 2
}
