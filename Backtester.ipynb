{
 "cells": [
  {
   "cell_type": "markdown",
   "metadata": {},
   "source": [
    "TODO:\n",
    "- Figure out how to properly implement rebalancing\n",
    "- Add user input reading to determine parameters"
   ]
  },
  {
   "cell_type": "markdown",
   "metadata": {},
   "source": [
    "## Imports"
   ]
  },
  {
   "cell_type": "code",
   "execution_count": 3,
   "metadata": {},
   "outputs": [],
   "source": [
    "import numpy as np\n",
    "import pandas as pd\n",
    "import matplotlib.pyplot as plt\n",
    "import yfinance as yf\n",
    "import datetime\n",
    "import seaborn as sns\n",
    "import math"
   ]
  },
  {
   "cell_type": "markdown",
   "metadata": {},
   "source": [
    "### Parameters"
   ]
  },
  {
   "cell_type": "code",
   "execution_count": 4,
   "metadata": {},
   "outputs": [],
   "source": [
    "# Tickers of ETFS and their portfolio weighings\n",
    "products = {\n",
    "          \"SPY\":0.6,    #SP500\n",
    "          \"QQQ\":0.0,   #NASDAQ100\n",
    "          \"IWM\":0.0,    #Russel2000\n",
    "           #Bonds\n",
    "          \"BIL\":0.0,     #0-3 month \n",
    "          \"SHY\":0.4,    #1-3 yr \n",
    "          \"IEF\":0.0,      #7-10yr\n",
    "          \"TLT\":0.0       #20+yr\n",
    "}\n",
    "# Start and end dates for the test \n",
    "start_date = '2010-01-01'\n",
    "end_date = '2020-01-01'\n",
    "\n",
    "# Deposit frequency and amount\n",
    " # [\"daily\",\"weekly\",\"monthly\",\"quarterly\",\"yearly\"] -> [1,7,30,120,365]\n",
    "frequency = 7  # Deposit frequency \n",
    "deposit = 100 # Deposit amount\n",
    "  \n",
    "# Rebalancing?\n",
    "rebalancing = False\n",
    "rebalancing_frequency = 120"
   ]
  },
  {
   "cell_type": "markdown",
   "metadata": {},
   "source": [
    "### Function to build dataframe with required parameters"
   ]
  },
  {
   "cell_type": "code",
   "execution_count": 17,
   "metadata": {},
   "outputs": [],
   "source": [
    "def create_df(products,start_date,end_date,frequency,deposit,rebalancing,rebalancing_frequency):\n",
    "    # Get data from yahoo finance\n",
    "    tickers_use = sorted([key for key,value in products.items() if value != 0])\n",
    "    #dates = pd.date_range(start_date, end_date,frequency='B')\n",
    "\n",
    "    data = yf.download(tickers_use, start=start_date, end=end_date)\n",
    "    df = pd.DataFrame(data['Adj Close'])\n",
    "    df.reset_index(inplace=True)\n",
    "\n",
    "    # Add Transact, Deposit, Rebalancing Flags\n",
    "    df['Deposit'] = 0\n",
    "    df['Transact'] = False\n",
    "    df['Rebalance'] = False\n",
    "\n",
    "\n",
    "    for i in range(0,len(df),frequency):\n",
    "        df.at[i,'Transact'] = True\n",
    "        df.at[i,'Deposit'] = deposit\n",
    "\n",
    "    for i in range(rebalancing_frequency,len(df),rebalancing_frequency):\n",
    "        df.at[i,'Rebalance'] = True\n",
    "\n",
    "\n",
    "    #Calculate amount of each instrument bought on given date\n",
    "    units_bought = [f'{ticker}_units_bought' for ticker in tickers_use ]\n",
    "    units_cum = [f'{ticker}_units_cum' for ticker in tickers_use ]\n",
    "    units_value = [f'{ticker}_value' for ticker in tickers_use ]\n",
    "\n",
    "    for i in range(len(units_bought)): # For each product\n",
    "        p = tickers_use[i]\n",
    "        weight = products[p] \n",
    "        df[units_bought[i]] =  df.Deposit * weight / df[tickers_use[i]]\n",
    "\n",
    "        df[units_cum[i]] = df[units_bought[i]].cumsum()\n",
    "\n",
    "        weight = products[tickers_use[i]] \n",
    "        df[units_value[i]] =  df[tickers_use[i]] * df[units_cum[i]]\n",
    "        \n",
    "        #if df['Rebalance'][i] == True: ## Commence rebalancing \n",
    "\n",
    "    #Portfolio value and cumulative deposits\n",
    "    df['Portfolio_Value'] = df[units_value].sum(axis=1)\n",
    "    df['Deposits_cum'] = df.Deposit.cumsum()\n",
    "    df['OverallPnL%'] = (df['Portfolio_Value'] - df['Deposits_cum'])/ df['Deposits_cum']\n",
    "    #Figure out smart way to do this\n",
    "    df['DoDPnL%'] = 0\n",
    "    df['DoDLogReturn'] = 0\n",
    "    for i in range(1,len(df)):\n",
    "        df.at[i,'DoDPnL%'] = (df.at[i,'Portfolio_Value'] - df.at[i-1,'Portfolio_Value']-df.at[i,'Deposit'])/df.at[i-1,'Portfolio_Value']\n",
    "        df['DoDLogReturn'] =  np.log((df.at[i,'Portfolio_Value'] -df.at[i,'Deposit']) / (df.at[i-1,'Portfolio_Value']-df.at[i,'Deposit']))\n",
    "    \n",
    "    return df\n",
    "    "
   ]
  },
  {
   "cell_type": "code",
   "execution_count": 18,
   "metadata": {},
   "outputs": [
    {
     "name": "stdout",
     "output_type": "stream",
     "text": [
      "[*********************100%***********************]  2 of 2 completed\n"
     ]
    }
   ],
   "source": [
    "df = create_df(products,start_date,end_date,frequency,deposit,rebalancing,rebalancing_frequency)"
   ]
  },
  {
   "cell_type": "code",
   "execution_count": 19,
   "metadata": {},
   "outputs": [
    {
     "data": {
      "text/html": [
       "<div>\n",
       "<style scoped>\n",
       "    .dataframe tbody tr th:only-of-type {\n",
       "        vertical-align: middle;\n",
       "    }\n",
       "\n",
       "    .dataframe tbody tr th {\n",
       "        vertical-align: top;\n",
       "    }\n",
       "\n",
       "    .dataframe thead th {\n",
       "        text-align: right;\n",
       "    }\n",
       "</style>\n",
       "<table border=\"1\" class=\"dataframe\">\n",
       "  <thead>\n",
       "    <tr style=\"text-align: right;\">\n",
       "      <th></th>\n",
       "      <th>Date</th>\n",
       "      <th>SHY</th>\n",
       "      <th>SPY</th>\n",
       "      <th>Deposit</th>\n",
       "      <th>Transact</th>\n",
       "      <th>Rebalance</th>\n",
       "      <th>SHY_units_bought</th>\n",
       "      <th>SHY_units_cum</th>\n",
       "      <th>SHY_value</th>\n",
       "      <th>SPY_units_bought</th>\n",
       "      <th>SPY_units_cum</th>\n",
       "      <th>SPY_value</th>\n",
       "      <th>Portfolio_Value</th>\n",
       "      <th>Deposits_cum</th>\n",
       "      <th>OverallPnL%</th>\n",
       "      <th>DoDPnL%</th>\n",
       "      <th>DoDLogReturn</th>\n",
       "    </tr>\n",
       "  </thead>\n",
       "  <tbody>\n",
       "    <tr>\n",
       "      <th>2511</th>\n",
       "      <td>2019-12-24</td>\n",
       "      <td>82.938911</td>\n",
       "      <td>307.631165</td>\n",
       "      <td>0</td>\n",
       "      <td>False</td>\n",
       "      <td>False</td>\n",
       "      <td>0.00000</td>\n",
       "      <td>183.482385</td>\n",
       "      <td>15217.829277</td>\n",
       "      <td>0.000000</td>\n",
       "      <td>142.526133</td>\n",
       "      <td>43845.480200</td>\n",
       "      <td>59063.309477</td>\n",
       "      <td>35900</td>\n",
       "      <td>0.645218</td>\n",
       "      <td>0.000054</td>\n",
       "      <td>0.00177</td>\n",
       "    </tr>\n",
       "    <tr>\n",
       "      <th>2512</th>\n",
       "      <td>2019-12-26</td>\n",
       "      <td>82.968361</td>\n",
       "      <td>309.268738</td>\n",
       "      <td>0</td>\n",
       "      <td>False</td>\n",
       "      <td>False</td>\n",
       "      <td>0.00000</td>\n",
       "      <td>183.482385</td>\n",
       "      <td>15223.232735</td>\n",
       "      <td>0.000000</td>\n",
       "      <td>142.526133</td>\n",
       "      <td>44078.877181</td>\n",
       "      <td>59302.109916</td>\n",
       "      <td>35900</td>\n",
       "      <td>0.651869</td>\n",
       "      <td>0.004043</td>\n",
       "      <td>0.00177</td>\n",
       "    </tr>\n",
       "    <tr>\n",
       "      <th>2513</th>\n",
       "      <td>2019-12-27</td>\n",
       "      <td>83.027245</td>\n",
       "      <td>309.192047</td>\n",
       "      <td>100</td>\n",
       "      <td>True</td>\n",
       "      <td>False</td>\n",
       "      <td>0.48177</td>\n",
       "      <td>183.964155</td>\n",
       "      <td>15274.036850</td>\n",
       "      <td>0.194054</td>\n",
       "      <td>142.720187</td>\n",
       "      <td>44127.946756</td>\n",
       "      <td>59401.983606</td>\n",
       "      <td>36000</td>\n",
       "      <td>0.650055</td>\n",
       "      <td>-0.000002</td>\n",
       "      <td>0.00177</td>\n",
       "    </tr>\n",
       "    <tr>\n",
       "      <th>2514</th>\n",
       "      <td>2019-12-30</td>\n",
       "      <td>83.056702</td>\n",
       "      <td>307.487457</td>\n",
       "      <td>0</td>\n",
       "      <td>False</td>\n",
       "      <td>False</td>\n",
       "      <td>0.00000</td>\n",
       "      <td>183.964155</td>\n",
       "      <td>15279.455899</td>\n",
       "      <td>0.000000</td>\n",
       "      <td>142.720187</td>\n",
       "      <td>43884.667375</td>\n",
       "      <td>59164.123274</td>\n",
       "      <td>36000</td>\n",
       "      <td>0.643448</td>\n",
       "      <td>-0.004004</td>\n",
       "      <td>0.00177</td>\n",
       "    </tr>\n",
       "    <tr>\n",
       "      <th>2515</th>\n",
       "      <td>2019-12-31</td>\n",
       "      <td>83.046844</td>\n",
       "      <td>308.234467</td>\n",
       "      <td>0</td>\n",
       "      <td>False</td>\n",
       "      <td>False</td>\n",
       "      <td>0.00000</td>\n",
       "      <td>183.964155</td>\n",
       "      <td>15277.642532</td>\n",
       "      <td>0.000000</td>\n",
       "      <td>142.720187</td>\n",
       "      <td>43991.280678</td>\n",
       "      <td>59268.923210</td>\n",
       "      <td>36000</td>\n",
       "      <td>0.646359</td>\n",
       "      <td>0.001771</td>\n",
       "      <td>0.00177</td>\n",
       "    </tr>\n",
       "  </tbody>\n",
       "</table>\n",
       "</div>"
      ],
      "text/plain": [
       "           Date        SHY         SPY  Deposit  Transact  Rebalance  \\\n",
       "2511 2019-12-24  82.938911  307.631165        0     False      False   \n",
       "2512 2019-12-26  82.968361  309.268738        0     False      False   \n",
       "2513 2019-12-27  83.027245  309.192047      100      True      False   \n",
       "2514 2019-12-30  83.056702  307.487457        0     False      False   \n",
       "2515 2019-12-31  83.046844  308.234467        0     False      False   \n",
       "\n",
       "      SHY_units_bought  SHY_units_cum     SHY_value  SPY_units_bought  \\\n",
       "2511           0.00000     183.482385  15217.829277          0.000000   \n",
       "2512           0.00000     183.482385  15223.232735          0.000000   \n",
       "2513           0.48177     183.964155  15274.036850          0.194054   \n",
       "2514           0.00000     183.964155  15279.455899          0.000000   \n",
       "2515           0.00000     183.964155  15277.642532          0.000000   \n",
       "\n",
       "      SPY_units_cum     SPY_value  Portfolio_Value  Deposits_cum  OverallPnL%  \\\n",
       "2511     142.526133  43845.480200     59063.309477         35900     0.645218   \n",
       "2512     142.526133  44078.877181     59302.109916         35900     0.651869   \n",
       "2513     142.720187  44127.946756     59401.983606         36000     0.650055   \n",
       "2514     142.720187  43884.667375     59164.123274         36000     0.643448   \n",
       "2515     142.720187  43991.280678     59268.923210         36000     0.646359   \n",
       "\n",
       "       DoDPnL%  DoDLogReturn  \n",
       "2511  0.000054       0.00177  \n",
       "2512  0.004043       0.00177  \n",
       "2513 -0.000002       0.00177  \n",
       "2514 -0.004004       0.00177  \n",
       "2515  0.001771       0.00177  "
      ]
     },
     "execution_count": 19,
     "metadata": {},
     "output_type": "execute_result"
    }
   ],
   "source": [
    "df.tail()"
   ]
  },
  {
   "cell_type": "markdown",
   "metadata": {},
   "source": [
    "### Calculate Performance Metrics"
   ]
  },
  {
   "cell_type": "markdown",
   "metadata": {},
   "source": [
    "Using Portfolio log returns"
   ]
  },
  {
   "cell_type": "code",
   "execution_count": 26,
   "metadata": {},
   "outputs": [
    {
     "data": {
      "text/plain": [
       "0.005603207226487887"
      ]
     },
     "execution_count": 26,
     "metadata": {},
     "output_type": "execute_result"
    }
   ],
   "source": [
    "r = df.DoDLogReturn.to_numpy()\n",
    "std = np.sqrt(np.sum(np.square(r)))\n",
    "std /= np.sqrt(251)\n",
    "std"
   ]
  },
  {
   "cell_type": "code",
   "execution_count": null,
   "metadata": {},
   "outputs": [],
   "source": []
  },
  {
   "cell_type": "markdown",
   "metadata": {},
   "source": [
    "#### Portfolio Volatility as weighted sum of individual securities\n",
    "- This assumes the portfolio weights hold up"
   ]
  },
  {
   "cell_type": "code",
   "execution_count": 31,
   "metadata": {},
   "outputs": [
    {
     "ename": "SyntaxError",
     "evalue": "invalid syntax (1426392092.py, line 1)",
     "output_type": "error",
     "traceback": [
      "\u001b[1;36m  Input \u001b[1;32mIn [31]\u001b[1;36m\u001b[0m\n\u001b[1;33m    ${2022-10-24-22-58-20.png}\u001b[0m\n\u001b[1;37m    ^\u001b[0m\n\u001b[1;31mSyntaxError\u001b[0m\u001b[1;31m:\u001b[0m invalid syntax\n"
     ]
    }
   ],
   "source": []
  },
  {
   "cell_type": "code",
   "execution_count": null,
   "metadata": {},
   "outputs": [],
   "source": []
  },
  {
   "cell_type": "markdown",
   "metadata": {},
   "source": [
    "Plotting and stuff"
   ]
  },
  {
   "cell_type": "markdown",
   "metadata": {},
   "source": []
  }
 ],
 "metadata": {
  "kernelspec": {
   "display_name": "Python 3.8.13 ('base')",
   "language": "python",
   "name": "python3"
  },
  "language_info": {
   "codemirror_mode": {
    "name": "ipython",
    "version": 3
   },
   "file_extension": ".py",
   "mimetype": "text/x-python",
   "name": "python",
   "nbconvert_exporter": "python",
   "pygments_lexer": "ipython3",
   "version": "3.8.13"
  },
  "orig_nbformat": 4,
  "vscode": {
   "interpreter": {
    "hash": "ad2bdc8ecc057115af97d19610ffacc2b4e99fae6737bb82f5d7fb13d2f2c186"
   }
  }
 },
 "nbformat": 4,
 "nbformat_minor": 2
}
