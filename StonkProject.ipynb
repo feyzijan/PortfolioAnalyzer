{
 "cells": [
  {
   "cell_type": "markdown",
   "metadata": {},
   "source": [
    "### Purpose\n",
    "The scenario here is this: \n",
    "You have an investment account, and have been depositing money to it for quite some time, and wish to compare your current position to what you would have had you followed some other strategy. This is especially hard to figure out by yourself if, like me, your deposits were irregular in frequency and amount\n",
    "\n",
    "It is assumed you have a csv file containing the dates and amounts of your deposits, and you current portfolio value\n",
    "\n",
    "You select the products you would have bought with your deposits, and their respective weighings, and see where you'd have end up. Automatically the program will contrast that strategy with\n",
    "- 60-40 portfolio (SPX and 10yr Bonds)\n",
    "- All stock portfolio (Russel 2000) \n",
    "- Risk free portfolio (0-3 month Tbills)\n",
    "\n",
    "I did not have my historical portfolio values, but will add the functionality to use that for users who might have it. Because only then can you adjust risk weighted returns.\n"
   ]
  },
  {
   "cell_type": "markdown",
   "metadata": {},
   "source": [
    "# 1- Setup "
   ]
  },
  {
   "cell_type": "markdown",
   "metadata": {},
   "source": [
    "### Imports"
   ]
  },
  {
   "cell_type": "code",
   "execution_count": 1,
   "metadata": {
    "ExecuteTime": {
     "end_time": "2022-08-22T16:12:54.902870Z",
     "start_time": "2022-08-22T16:12:52.415439Z"
    }
   },
   "outputs": [],
   "source": [
    "import numpy as np \n",
    "import pandas as pd \n",
    "import requests \n",
    "import yfinance as yf\n",
    "import xlsxwriter # Forxcel\n",
    "import math \n",
    "import matplotlib.pyplot as plt\n",
    "import json\n",
    "import datetime\n",
    "import openpyxl\n",
    "import csv\n",
    "from datetime import date\n",
    "import seaborn as sns"
   ]
  },
  {
   "cell_type": "markdown",
   "metadata": {},
   "source": [
    "## Get data from excel"
   ]
  },
  {
   "cell_type": "markdown",
   "metadata": {},
   "source": [
    "- Convert nutmeg deposits to USD at current rates"
   ]
  },
  {
   "cell_type": "code",
   "execution_count": 2,
   "metadata": {
    "ExecuteTime": {
     "end_time": "2022-08-22T16:13:00.913153Z",
     "start_time": "2022-08-22T16:12:55.393727Z"
    }
   },
   "outputs": [
    {
     "name": "stdout",
     "output_type": "stream",
     "text": [
      "['Etoro', 'Nutmeg', 'Robinhood', 'Returns', 'Spy historical data']\n"
     ]
    }
   ],
   "source": [
    "from openpyxl import load_workbook\n",
    "\n",
    "wb = load_workbook(\"Deposits_Returns.xlsx\")\n",
    "print(wb.sheetnames)\n",
    "\n",
    "ws = wb['Etoro']\n",
    "\n",
    "\n",
    "gbp = yf.Ticker(\"GBPUSD=X\").info['previousClose']\n",
    "\n",
    "data_etoro = {\"Dates\":[cell.value for cell in ws[\"A\"] if type(cell.value) == datetime.datetime],\n",
    "       \"Deposits\": [cell.value for cell in ws[\"B\"] if type(cell.value) != str ]}\n",
    "\n",
    "ws = wb['Nutmeg']\n",
    "data_nutmeg = {\"Dates\":[cell.value for cell in ws[\"A\"] if type(cell.value) == datetime.datetime],\n",
    "       \"Deposits\": [int(cell.value * gbp) for cell in ws[\"B\"] if type(cell.value) == int  ]}\n",
    "\n",
    "# Filter out non numerical data\n",
    "#filtered = filter(lambda x: x!= None and type(x) != str , data[\"Deposits\"])\n",
    "#data[\"Deposits\"] = list(filtered)\n"
   ]
  },
  {
   "cell_type": "markdown",
   "metadata": {},
   "source": [
    "##### Store data in df"
   ]
  },
  {
   "cell_type": "code",
   "execution_count": 3,
   "metadata": {
    "ExecuteTime": {
     "end_time": "2022-08-22T16:13:00.943230Z",
     "start_time": "2022-08-22T16:13:00.914230Z"
    }
   },
   "outputs": [
    {
     "data": {
      "text/html": [
       "<div>\n",
       "<style scoped>\n",
       "    .dataframe tbody tr th:only-of-type {\n",
       "        vertical-align: middle;\n",
       "    }\n",
       "\n",
       "    .dataframe tbody tr th {\n",
       "        vertical-align: top;\n",
       "    }\n",
       "\n",
       "    .dataframe thead th {\n",
       "        text-align: right;\n",
       "    }\n",
       "</style>\n",
       "<table border=\"1\" class=\"dataframe\">\n",
       "  <thead>\n",
       "    <tr style=\"text-align: right;\">\n",
       "      <th></th>\n",
       "      <th>Dates</th>\n",
       "      <th>Deposits</th>\n",
       "    </tr>\n",
       "  </thead>\n",
       "  <tbody>\n",
       "    <tr>\n",
       "      <th>0</th>\n",
       "      <td>2020-06-09</td>\n",
       "      <td>200.0</td>\n",
       "    </tr>\n",
       "    <tr>\n",
       "      <th>1</th>\n",
       "      <td>2020-06-09</td>\n",
       "      <td>200.0</td>\n",
       "    </tr>\n",
       "    <tr>\n",
       "      <th>2</th>\n",
       "      <td>2020-06-10</td>\n",
       "      <td>100.0</td>\n",
       "    </tr>\n",
       "    <tr>\n",
       "      <th>3</th>\n",
       "      <td>2020-06-29</td>\n",
       "      <td>250.0</td>\n",
       "    </tr>\n",
       "    <tr>\n",
       "      <th>4</th>\n",
       "      <td>2020-07-20</td>\n",
       "      <td>250.0</td>\n",
       "    </tr>\n",
       "  </tbody>\n",
       "</table>\n",
       "</div>"
      ],
      "text/plain": [
       "       Dates  Deposits\n",
       "0 2020-06-09     200.0\n",
       "1 2020-06-09     200.0\n",
       "2 2020-06-10     100.0\n",
       "3 2020-06-29     250.0\n",
       "4 2020-07-20     250.0"
      ]
     },
     "execution_count": 3,
     "metadata": {},
     "output_type": "execute_result"
    }
   ],
   "source": [
    "df1 = pd.DataFrame(data=data_etoro, columns=['Dates', 'Deposits'])\n",
    "df2 = pd.DataFrame(data=data_nutmeg, columns=['Dates', 'Deposits'])\n",
    "df = pd.concat(objs=[df1,df2])\n",
    "df.sort_values(by=\"Dates\")\n",
    "df.head()"
   ]
  },
  {
   "cell_type": "code",
   "execution_count": 4,
   "metadata": {
    "ExecuteTime": {
     "end_time": "2022-08-22T16:13:00.958232Z",
     "start_time": "2022-08-22T16:13:00.944235Z"
    }
   },
   "outputs": [
    {
     "data": {
      "text/plain": [
       "(119, 2)"
      ]
     },
     "execution_count": 4,
     "metadata": {},
     "output_type": "execute_result"
    }
   ],
   "source": [
    "df.shape"
   ]
  },
  {
   "cell_type": "markdown",
   "metadata": {},
   "source": [
    "Sum up columns with duplicate dates"
   ]
  },
  {
   "cell_type": "code",
   "execution_count": 5,
   "metadata": {
    "ExecuteTime": {
     "end_time": "2022-08-22T16:13:00.974286Z",
     "start_time": "2022-08-22T16:13:00.959231Z"
    }
   },
   "outputs": [
    {
     "data": {
      "text/plain": [
       "(111, 2)"
      ]
     },
     "execution_count": 5,
     "metadata": {},
     "output_type": "execute_result"
    }
   ],
   "source": [
    "aggregations = {'Deposits': 'sum', 'Dates': 'first'}\n",
    "df = df.groupby(by=df['Dates']).aggregate(aggregations)\n",
    "df.shape"
   ]
  },
  {
   "cell_type": "code",
   "execution_count": 6,
   "metadata": {
    "ExecuteTime": {
     "end_time": "2022-08-22T16:13:00.989230Z",
     "start_time": "2022-08-22T16:13:00.975230Z"
    }
   },
   "outputs": [],
   "source": [
    "df.reset_index(drop=True, inplace=True)"
   ]
  },
  {
   "cell_type": "code",
   "execution_count": 7,
   "metadata": {
    "ExecuteTime": {
     "end_time": "2022-08-22T16:13:01.004232Z",
     "start_time": "2022-08-22T16:13:00.990352Z"
    }
   },
   "outputs": [],
   "source": [
    "df.columns = ['Deposit', 'Date']"
   ]
  },
  {
   "cell_type": "markdown",
   "metadata": {
    "hidden": true
   },
   "source": [
    "#### Get Current Up to Date value "
   ]
  },
  {
   "cell_type": "markdown",
   "metadata": {
    "hidden": true
   },
   "source": [
    "-Above figure does not take withdrawals and mete's portion into consideration\n",
    "\n",
    "Readjust above table for increased accuracy:\n",
    "\n",
    "Add 437.89$ selling on 29/03/22\n",
    "\n",
    "Need to take account of Mete's deposits:\n",
    "- Remove 150 of his deposits and add 45$ deposit for when I sold his shares\n",
    "\n",
    "\n",
    "\n",
    "\n"
   ]
  },
  {
   "cell_type": "markdown",
   "metadata": {
    "hidden": true
   },
   "source": [
    "### Compare with Portfolio with 50% SPY 50%QQQ"
   ]
  },
  {
   "cell_type": "markdown",
   "metadata": {
    "hidden": true
   },
   "source": [
    "Copy dataset and halve amount of spy bought, add columns for QQQ and get price"
   ]
  },
  {
   "cell_type": "code",
   "execution_count": 9,
   "metadata": {
    "ExecuteTime": {
     "end_time": "2022-05-21T23:35:25.809100Z",
     "start_time": "2022-05-21T23:35:25.791101Z"
    },
    "hidden": true
   },
   "outputs": [
    {
     "ename": "AttributeError",
     "evalue": "'DataFrame' object has no attribute 'SpyUnitsBought'",
     "output_type": "error",
     "traceback": [
      "\u001b[1;31m---------------------------------------------------------------------------\u001b[0m",
      "\u001b[1;31mAttributeError\u001b[0m                            Traceback (most recent call last)",
      "\u001b[1;32mc:\\Users\\feyzi\\OneDrive - Imperial College London\\Programming\\GithubRepos\\PortfolioAnalysis\\StonkProject.ipynb Cell 21\u001b[0m in \u001b[0;36m<cell line: 2>\u001b[1;34m()\u001b[0m\n\u001b[0;32m      <a href='vscode-notebook-cell:/c%3A/Users/feyzi/OneDrive%20-%20Imperial%20College%20London/Programming/GithubRepos/PortfolioAnalysis/StonkProject.ipynb#X30sZmlsZQ%3D%3D?line=0'>1</a>\u001b[0m df_new \u001b[39m=\u001b[39m df\u001b[39m.\u001b[39mcopy()\n\u001b[1;32m----> <a href='vscode-notebook-cell:/c%3A/Users/feyzi/OneDrive%20-%20Imperial%20College%20London/Programming/GithubRepos/PortfolioAnalysis/StonkProject.ipynb#X30sZmlsZQ%3D%3D?line=1'>2</a>\u001b[0m df_new\u001b[39m.\u001b[39mSpyUnitsBought \u001b[39m=\u001b[39m df_new\u001b[39m.\u001b[39;49mSpyUnitsBought\u001b[39m.\u001b[39mdiv(\u001b[39m2\u001b[39m)\n\u001b[0;32m      <a href='vscode-notebook-cell:/c%3A/Users/feyzi/OneDrive%20-%20Imperial%20College%20London/Programming/GithubRepos/PortfolioAnalysis/StonkProject.ipynb#X30sZmlsZQ%3D%3D?line=2'>3</a>\u001b[0m df_new[\u001b[39m\"\u001b[39m\u001b[39mSpyUnitsCumulative\u001b[39m\u001b[39m\"\u001b[39m] \u001b[39m=\u001b[39m df_new[\u001b[39m\"\u001b[39m\u001b[39mSpyUnitsBought\u001b[39m\u001b[39m\"\u001b[39m]\u001b[39m.\u001b[39mcumsum()\n",
      "File \u001b[1;32mc:\\ProgramData\\Anaconda3\\lib\\site-packages\\pandas\\core\\generic.py:5575\u001b[0m, in \u001b[0;36mNDFrame.__getattr__\u001b[1;34m(self, name)\u001b[0m\n\u001b[0;32m   5568\u001b[0m \u001b[39mif\u001b[39;00m (\n\u001b[0;32m   5569\u001b[0m     name \u001b[39mnot\u001b[39;00m \u001b[39min\u001b[39;00m \u001b[39mself\u001b[39m\u001b[39m.\u001b[39m_internal_names_set\n\u001b[0;32m   5570\u001b[0m     \u001b[39mand\u001b[39;00m name \u001b[39mnot\u001b[39;00m \u001b[39min\u001b[39;00m \u001b[39mself\u001b[39m\u001b[39m.\u001b[39m_metadata\n\u001b[0;32m   5571\u001b[0m     \u001b[39mand\u001b[39;00m name \u001b[39mnot\u001b[39;00m \u001b[39min\u001b[39;00m \u001b[39mself\u001b[39m\u001b[39m.\u001b[39m_accessors\n\u001b[0;32m   5572\u001b[0m     \u001b[39mand\u001b[39;00m \u001b[39mself\u001b[39m\u001b[39m.\u001b[39m_info_axis\u001b[39m.\u001b[39m_can_hold_identifiers_and_holds_name(name)\n\u001b[0;32m   5573\u001b[0m ):\n\u001b[0;32m   5574\u001b[0m     \u001b[39mreturn\u001b[39;00m \u001b[39mself\u001b[39m[name]\n\u001b[1;32m-> 5575\u001b[0m \u001b[39mreturn\u001b[39;00m \u001b[39mobject\u001b[39;49m\u001b[39m.\u001b[39;49m\u001b[39m__getattribute__\u001b[39;49m(\u001b[39mself\u001b[39;49m, name)\n",
      "\u001b[1;31mAttributeError\u001b[0m: 'DataFrame' object has no attribute 'SpyUnitsBought'"
     ]
    }
   ],
   "source": [
    "df_new = df.copy()\n",
    "df_new.SpyUnitsBought = df_new.SpyUnitsBought.div(2)\n",
    "df_new[\"SpyUnitsCumulative\"] = df_new[\"SpyUnitsBought\"].cumsum()"
   ]
  },
  {
   "cell_type": "code",
   "execution_count": null,
   "metadata": {
    "ExecuteTime": {
     "end_time": "2022-05-21T23:40:05.058392Z",
     "start_time": "2022-05-21T23:39:18.874471Z"
    },
    "hidden": true
   },
   "outputs": [
    {
     "name": "stdout",
     "output_type": "stream",
     "text": [
      "20200609 \n",
      " [{'date': '2020-06-09', 'close': 243.3, 'volume': 35046254, 'change': 0, 'changePercent': 0, 'changeOverTime': 0}]\n",
      "20200609 \n",
      " [{'date': '2020-06-09', 'close': 243.3, 'volume': 35046254, 'change': 0, 'changePercent': 0, 'changeOverTime': 0}]\n",
      "20200610 \n",
      " [{'date': '2020-06-10', 'close': 246.22, 'volume': 58084410, 'change': 0, 'changePercent': 0, 'changeOverTime': 0}]\n",
      "20200629 \n",
      " [{'date': '2020-06-29', 'close': 242.84, 'volume': 34377800, 'change': 0, 'changePercent': 0, 'changeOverTime': 0}]\n",
      "20200720 \n",
      " [{'date': '2020-07-20', 'close': 266.78, 'volume': 40610128, 'change': 0, 'changePercent': 0, 'changeOverTime': 0}]\n",
      "20200804 \n",
      " [{'date': '2020-08-04', 'close': 270.38, 'volume': 24911286, 'change': 0, 'changePercent': 0, 'changeOverTime': 0}]\n",
      "20200810 \n",
      " [{'date': '2020-08-10', 'close': 270.31, 'volume': 35088373, 'change': 0, 'changePercent': 0, 'changeOverTime': 0}]\n",
      "20200903 \n",
      " [{'date': '2020-09-03', 'close': 287.41, 'volume': 110083282, 'change': 0, 'changePercent': 0, 'changeOverTime': 0}]\n",
      "20200903 \n",
      " [{'date': '2020-09-03', 'close': 287.41, 'volume': 110083282, 'change': 0, 'changePercent': 0, 'changeOverTime': 0}]\n",
      "20200908 \n",
      " [{'date': '2020-09-08', 'close': 269.95, 'volume': 99568645, 'change': 0, 'changePercent': 0, 'changeOverTime': 0}]\n",
      "20201016 \n",
      " [{'date': '2020-10-16', 'close': 288.51, 'volume': 40570702, 'change': 0, 'changePercent': 0, 'changeOverTime': 0}]\n",
      "20201029 \n",
      " [{'date': '2020-10-29', 'close': 276.39, 'volume': 43246302, 'change': 0, 'changePercent': 0, 'changeOverTime': 0}]\n",
      "20201029 \n",
      " [{'date': '2020-10-29', 'close': 276.39, 'volume': 43246302, 'change': 0, 'changePercent': 0, 'changeOverTime': 0}]\n",
      "20201109 \n",
      " [{'date': '2020-11-09', 'close': 288.59, 'volume': 86537071, 'change': 0, 'changePercent': 0, 'changeOverTime': 0}]\n",
      "20201116 \n",
      " [{'date': '2020-11-16', 'close': 293.2, 'volume': 30168361, 'change': 0, 'changePercent': 0, 'changeOverTime': 0}]\n",
      "20201130 \n",
      " [{'date': '2020-11-30', 'close': 299.62, 'volume': 27836232, 'change': 0, 'changePercent': 0, 'changeOverTime': 0}]\n",
      "20201130 \n",
      " [{'date': '2020-11-30', 'close': 299.62, 'volume': 27836232, 'change': 0, 'changePercent': 0, 'changeOverTime': 0}]\n",
      "20201208 \n",
      " [{'date': '2020-12-08', 'close': 308.29, 'volume': 18341464, 'change': 0, 'changePercent': 0, 'changeOverTime': 0}]\n",
      "20201210 \n",
      " [{'date': '2020-12-10', 'close': 302.52, 'volume': 27519544, 'change': 0, 'changePercent': 0, 'changeOverTime': 0}]\n",
      "20210104 \n",
      " [{'date': '2021-01-04', 'close': 309.31, 'volume': 45305898, 'change': 0, 'changePercent': 0, 'changeOverTime': 0}]\n",
      "20210111 \n",
      " [{'date': '2021-01-11', 'close': 314.42, 'volume': 32869095, 'change': 0, 'changePercent': 0, 'changeOverTime': 0}]\n",
      "20210115 \n",
      " [{'date': '2021-01-15', 'close': 311.86, 'volume': 35118718, 'change': 0, 'changePercent': 0, 'changeOverTime': 0}]\n",
      "20210125 \n",
      " [{'date': '2021-01-25', 'close': 328.11, 'volume': 39080644, 'change': 0, 'changePercent': 0, 'changeOverTime': 0}]\n",
      "20210201 \n",
      " [{'date': '2021-02-01', 'close': 322.42, 'volume': 35646008, 'change': 0, 'changePercent': 0, 'changeOverTime': 0}]\n",
      "20210223 \n",
      " [{'date': '2021-02-23', 'close': 321.48, 'volume': 97241936, 'change': 0, 'changePercent': 0, 'changeOverTime': 0}]\n",
      "20210301 \n",
      " [{'date': '2021-03-01', 'close': 323.59, 'volume': 49164518, 'change': 0, 'changePercent': 0, 'changeOverTime': 0}]\n",
      "20210303 \n",
      " [{'date': '2021-03-03', 'close': 309.16, 'volume': 86301073, 'change': 0, 'changePercent': 0, 'changeOverTime': 0}]\n",
      "20210309 \n",
      " [{'date': '2021-03-09', 'close': 311.77, 'volume': 80391114, 'change': 0, 'changePercent': 0, 'changeOverTime': 0}]\n",
      "20210309 \n",
      " [{'date': '2021-03-09', 'close': 311.77, 'volume': 80391114, 'change': 0, 'changePercent': 0, 'changeOverTime': 0}]\n",
      "20210322 \n",
      " [{'date': '2021-03-22', 'close': 318.61, 'volume': 56194755, 'change': 0, 'changePercent': 0, 'changeOverTime': 0}]\n",
      "20210330 \n",
      " [{'date': '2021-03-30', 'close': 314.32, 'volume': 44635676, 'change': 0, 'changePercent': 0, 'changeOverTime': 0}]\n",
      "20210406 \n",
      " [{'date': '2021-04-06', 'close': 330.82, 'volume': 33537210, 'change': 0, 'changePercent': 0, 'changeOverTime': 0}]\n",
      "20210413 \n",
      " [{'date': '2021-04-13', 'close': 340.6, 'volume': 30374033, 'change': 0, 'changePercent': 0, 'changeOverTime': 0}]\n",
      "20210419 \n",
      " [{'date': '2021-04-19', 'close': 338.88, 'volume': 34533129, 'change': 0, 'changePercent': 0, 'changeOverTime': 0}]\n",
      "20210420 \n",
      " [{'date': '2021-04-20', 'close': 336.41, 'volume': 38081818, 'change': 0, 'changePercent': 0, 'changeOverTime': 0}]\n",
      "20210423 \n",
      " [{'date': '2021-04-23', 'close': 339.42, 'volume': 36414916, 'change': 0, 'changePercent': 0, 'changeOverTime': 0}]\n",
      "20210503 \n",
      " [{'date': '2021-05-03', 'close': 336.19, 'volume': 29729730, 'change': 0, 'changePercent': 0, 'changeOverTime': 0}]\n",
      "20210510 \n",
      " [{'date': '2021-05-10', 'close': 325.76, 'volume': 60700462, 'change': 0, 'changePercent': 0, 'changeOverTime': 0}]\n",
      "20210517 \n",
      " [{'date': '2021-05-17', 'close': 324.41, 'volume': 39394997, 'change': 0, 'changePercent': 0, 'changeOverTime': 0}]\n",
      "20210525 \n",
      " [{'date': '2021-05-25', 'close': 332.97, 'volume': 31280314, 'change': 0, 'changePercent': 0, 'changeOverTime': 0}]\n",
      "20210602 \n",
      " [{'date': '2021-06-02', 'close': 333.47, 'volume': 22047940, 'change': 0, 'changePercent': 0, 'changeOverTime': 0}]\n",
      "20210608 \n",
      " [{'date': '2021-06-08', 'close': 336.76, 'volume': 27282819, 'change': 0, 'changePercent': 0, 'changeOverTime': 0}]\n",
      "20210615 \n",
      " [{'date': '2021-06-15', 'close': 342.26, 'volume': 35963780, 'change': 0, 'changePercent': 0, 'changeOverTime': 0}]\n",
      "20210621 \n",
      " [{'date': '2021-06-21', 'close': 344.36, 'volume': 32992649, 'change': 0, 'changePercent': 0, 'changeOverTime': 0}]\n",
      "20210628 \n",
      " [{'date': '2021-06-28', 'close': 353.71, 'volume': 39130305, 'change': 0, 'changePercent': 0, 'changeOverTime': 0}]\n",
      "20210707 \n",
      " [{'date': '2021-07-07', 'close': 360.95, 'volume': 35265242, 'change': 0, 'changePercent': 0, 'changeOverTime': 0}]\n",
      "20210712 \n",
      " [{'date': '2021-07-12', 'close': 362.42, 'volume': 25717677, 'change': 0, 'changePercent': 0, 'changeOverTime': 0}]\n",
      "20210719 \n",
      " [{'date': '2021-07-19', 'close': 354.67, 'volume': 64404625, 'change': 0, 'changePercent': 0, 'changeOverTime': 0}]\n",
      "20210726 \n",
      " [{'date': '2021-07-26', 'close': 368.49, 'volume': 28438126, 'change': 0, 'changePercent': 0, 'changeOverTime': 0}]\n",
      "20210726 \n",
      " [{'date': '2021-07-26', 'close': 368.49, 'volume': 28438126, 'change': 0, 'changePercent': 0, 'changeOverTime': 0}]\n",
      "20210802 \n",
      " [{'date': '2021-08-02', 'close': 364.6, 'volume': 27334097, 'change': 0, 'changePercent': 0, 'changeOverTime': 0}]\n",
      "20210803 \n",
      " [{'date': '2021-08-03', 'close': 366.81, 'volume': 35558511, 'change': 0, 'changePercent': 0, 'changeOverTime': 0}]\n",
      "20210810 \n",
      " [{'date': '2021-08-10', 'close': 366.84, 'volume': 35130796, 'change': 0, 'changePercent': 0, 'changeOverTime': 0}]\n",
      "20210816 \n",
      " [{'date': '2021-08-16', 'close': 368.98, 'volume': 35044107, 'change': 0, 'changePercent': 0, 'changeOverTime': 0}]\n",
      "20210820 \n",
      " [{'date': '2021-08-20', 'close': 367.73, 'volume': 39486034, 'change': 0, 'changePercent': 0, 'changeOverTime': 0}]\n",
      "20210827 \n",
      " [{'date': '2021-08-27', 'close': 376.04, 'volume': 27104749, 'change': 0, 'changePercent': 0, 'changeOverTime': 0}]\n",
      "20210909 \n",
      " [{'date': '2021-09-09', 'close': 379.47, 'volume': 29398978, 'change': 0, 'changePercent': 0, 'changeOverTime': 0}]\n",
      "20210913 \n",
      " [{'date': '2021-09-13', 'close': 376.33, 'volume': 48741781, 'change': 0, 'changePercent': 0, 'changeOverTime': 0}]\n",
      "20210923 \n",
      " [{'date': '2021-09-23', 'close': 372.98, 'volume': 44652002, 'change': 0, 'changePercent': 0, 'changeOverTime': 0}]\n",
      "20210927 \n",
      " [{'date': '2021-09-27', 'close': 370.35, 'volume': 43338079, 'change': 0, 'changePercent': 0, 'changeOverTime': 0}]\n",
      "20211004 \n",
      " [{'date': '2021-10-04', 'close': 352.62, 'volume': 76766005, 'change': 0, 'changePercent': 0, 'changeOverTime': 0}]\n",
      "20211011 \n",
      " [{'date': '2021-10-11', 'close': 358.39, 'volume': 34847182, 'change': 0, 'changePercent': 0, 'changeOverTime': 0}]\n",
      "20211018 \n",
      " [{'date': '2021-10-18', 'close': 372.65, 'volume': 34513514, 'change': 0, 'changePercent': 0, 'changeOverTime': 0}]\n",
      "20211025 \n",
      " [{'date': '2021-10-25', 'close': 377.93, 'volume': 32597804, 'change': 0, 'changePercent': 0, 'changeOverTime': 0}]\n",
      "20211101 \n",
      " [{'date': '2021-11-01', 'close': 387.43, 'volume': 30765303, 'change': 0, 'changePercent': 0, 'changeOverTime': 0}]\n"
     ]
    },
    {
     "name": "stdout",
     "output_type": "stream",
     "text": [
      "20211101 \n",
      " [{'date': '2021-11-01', 'close': 387.43, 'volume': 30765303, 'change': 0, 'changePercent': 0, 'changeOverTime': 0}]\n",
      "20211108 \n",
      " [{'date': '2021-11-08', 'close': 398.06, 'volume': 29256270, 'change': 0, 'changePercent': 0, 'changeOverTime': 0}]\n",
      "20211115 \n",
      " [{'date': '2021-11-15', 'close': 394.61, 'volume': 33716861, 'change': 0, 'changePercent': 0, 'changeOverTime': 0}]\n",
      "20211118 \n",
      " [{'date': '2021-11-18', 'close': 401.75, 'volume': 45721515, 'change': 0, 'changePercent': 0, 'changeOverTime': 0}]\n",
      "20211122 \n",
      " [{'date': '2021-11-22', 'close': 399.3, 'volume': 61715370, 'change': 0, 'changePercent': 0, 'changeOverTime': 0}]\n",
      "20211129 \n",
      " [{'date': '2021-11-29', 'close': 399.69, 'volume': 54447106, 'change': 0, 'changePercent': 0, 'changeOverTime': 0}]\n",
      "20211202 \n",
      " [{'date': '2021-12-02', 'close': 389.91, 'volume': 84416623, 'change': 0, 'changePercent': 0, 'changeOverTime': 0}]\n",
      "20211206 \n",
      " [{'date': '2021-12-06', 'close': 386.2, 'volume': 67588801, 'change': 0, 'changePercent': 0, 'changeOverTime': 0}]\n",
      "20211213 \n",
      " [{'date': '2021-12-13', 'close': 392.26, 'volume': 50166410, 'change': 0, 'changePercent': 0, 'changeOverTime': 0}]\n",
      "20211220 \n",
      " [{'date': '2021-12-20', 'close': 380.69, 'volume': 65336827, 'change': 0, 'changePercent': 0, 'changeOverTime': 0}]\n",
      "20211227 \n",
      " [{'date': '2021-12-27', 'close': 403.48, 'volume': 32820705, 'change': 0, 'changePercent': 0, 'changeOverTime': 0}]\n",
      "20220103 \n",
      " [{'date': '2022-01-03', 'close': 401.68, 'volume': 40575854, 'change': 0, 'changePercent': 0, 'changeOverTime': 0}]\n",
      "20220110 \n",
      " [{'date': '2022-01-10', 'close': 380.11, 'volume': 91770497, 'change': 0, 'changePercent': 0, 'changeOverTime': 0}]\n",
      "20220118 \n",
      " [{'date': '2022-01-18', 'close': 370.55, 'volume': 75812296, 'change': 0, 'changePercent': 0, 'changeOverTime': 0}]\n",
      "20220124 \n",
      " [{'date': '2022-01-24', 'close': 353.3, 'volume': 199448109, 'change': 0, 'changePercent': 0, 'changeOverTime': 0}]\n",
      "20220131 \n",
      " [{'date': '2022-01-31', 'close': 363.05, 'volume': 94326389, 'change': 0, 'changePercent': 0, 'changeOverTime': 0}]\n",
      "20220207 \n",
      " [{'date': '2022-02-07', 'close': 355.13, 'volume': 58198087, 'change': 0, 'changePercent': 0, 'changeOverTime': 0}]\n",
      "20220214 \n",
      " [{'date': '2022-02-14', 'close': 347.49, 'volume': 80254439, 'change': 0, 'changePercent': 0, 'changeOverTime': 0}]\n",
      "20220222 \n",
      " [{'date': '2022-02-22', 'close': 338.08, 'volume': 85967095, 'change': 0, 'changePercent': 0, 'changeOverTime': 0}]\n",
      "20220228 \n",
      " [{'date': '2022-02-28', 'close': 346.8, 'volume': 77515544, 'change': 0, 'changePercent': 0, 'changeOverTime': 0}]\n",
      "20220307 \n",
      " [{'date': '2022-03-07', 'close': 324.86, 'volume': 89933794, 'change': 0, 'changePercent': 0, 'changeOverTime': 0}]\n",
      "20220314 \n",
      " [{'date': '2022-03-14', 'close': 318.17, 'volume': 79802606, 'change': 0, 'changePercent': 0, 'changeOverTime': 0}]\n",
      "20220321 \n",
      " [{'date': '2022-03-21', 'close': 350.08, 'volume': 73799072, 'change': 0, 'changePercent': 0, 'changeOverTime': 0}]\n",
      "20220328 \n",
      " [{'date': '2022-03-28', 'close': 364.91, 'volume': 56833866, 'change': 0, 'changePercent': 0, 'changeOverTime': 0}]\n",
      "20220404 \n",
      " [{'date': '2022-04-04', 'close': 369.3, 'volume': 45950171, 'change': 0, 'changePercent': 0, 'changeOverTime': 0}]\n",
      "20220406 \n",
      " [{'date': '2022-04-06', 'close': 353.26, 'volume': 90077072, 'change': 0, 'changePercent': 0, 'changeOverTime': 0}]\n",
      "20220411 \n",
      " [{'date': '2022-04-11', 'close': 340.89, 'volume': 66107401, 'change': 0, 'changePercent': 0, 'changeOverTime': 0}]\n",
      "20220418 \n",
      " [{'date': '2022-04-18', 'close': 338.69, 'volume': 58560555, 'change': 0, 'changePercent': 0, 'changeOverTime': 0}]\n",
      "20220425 \n",
      " [{'date': '2022-04-25', 'close': 329.58, 'volume': 101755856, 'change': 0, 'changePercent': 0, 'changeOverTime': 0}]\n",
      "20220502 \n",
      " [{'date': '2022-05-02', 'close': 318.48, 'volume': 115511770, 'change': 0, 'changePercent': 0, 'changeOverTime': 0}]\n",
      "20220505 \n",
      " [{'date': '2022-05-05', 'close': 313, 'volume': 154607447, 'change': 0, 'changePercent': 0, 'changeOverTime': 0}]\n",
      "20220509 \n",
      " [{'date': '2022-05-09', 'close': 297.15, 'volume': 113387342, 'change': 0, 'changePercent': 0, 'changeOverTime': 0}]\n",
      "20220512 \n",
      " [{'date': '2022-05-12', 'close': 291.15, 'volume': 120910850, 'change': 0, 'changePercent': 0, 'changeOverTime': 0}]\n",
      "20220516 \n",
      " [{'date': '2022-05-16', 'close': 298.44, 'volume': 59190432, 'change': 0, 'changePercent': 0, 'changeOverTime': 0}]\n"
     ]
    }
   ],
   "source": [
    "hist_prices = get_price_by_date(df[\"DatesString\"], \"qqq\",sandbox=False)"
   ]
  },
  {
   "cell_type": "code",
   "execution_count": null,
   "metadata": {
    "ExecuteTime": {
     "end_time": "2022-05-21T23:40:52.960391Z",
     "start_time": "2022-05-21T23:40:52.934392Z"
    },
    "hidden": true
   },
   "outputs": [
    {
     "data": {
      "text/html": [
       "<div>\n",
       "<style scoped>\n",
       "    .dataframe tbody tr th:only-of-type {\n",
       "        vertical-align: middle;\n",
       "    }\n",
       "\n",
       "    .dataframe tbody tr th {\n",
       "        vertical-align: top;\n",
       "    }\n",
       "\n",
       "    .dataframe thead th {\n",
       "        text-align: right;\n",
       "    }\n",
       "</style>\n",
       "<table border=\"1\" class=\"dataframe\">\n",
       "  <thead>\n",
       "    <tr style=\"text-align: right;\">\n",
       "      <th></th>\n",
       "      <th>Dates</th>\n",
       "      <th>Deposits</th>\n",
       "      <th>DatesString</th>\n",
       "      <th>SpyPrice</th>\n",
       "      <th>SpyUnitsBought</th>\n",
       "      <th>SpyUnitsCumulative</th>\n",
       "      <th>PortfolioValue</th>\n",
       "      <th>QQQPrice</th>\n",
       "      <th>QQQUnitsBought</th>\n",
       "      <th>QQQUnitsCumulative</th>\n",
       "    </tr>\n",
       "  </thead>\n",
       "  <tbody>\n",
       "    <tr>\n",
       "      <th>1</th>\n",
       "      <td>2020-06-09</td>\n",
       "      <td>200</td>\n",
       "      <td>20200609</td>\n",
       "      <td>320.79</td>\n",
       "      <td>0.311730</td>\n",
       "      <td>0.311730</td>\n",
       "      <td>200.000000</td>\n",
       "      <td>243.30</td>\n",
       "      <td>0.411015</td>\n",
       "      <td>0.411015</td>\n",
       "    </tr>\n",
       "    <tr>\n",
       "      <th>2</th>\n",
       "      <td>2020-06-09</td>\n",
       "      <td>200</td>\n",
       "      <td>20200609</td>\n",
       "      <td>320.79</td>\n",
       "      <td>0.311730</td>\n",
       "      <td>0.623461</td>\n",
       "      <td>400.000000</td>\n",
       "      <td>243.30</td>\n",
       "      <td>0.411015</td>\n",
       "      <td>0.822030</td>\n",
       "    </tr>\n",
       "    <tr>\n",
       "      <th>3</th>\n",
       "      <td>2020-06-10</td>\n",
       "      <td>100</td>\n",
       "      <td>20200610</td>\n",
       "      <td>319.00</td>\n",
       "      <td>0.156740</td>\n",
       "      <td>0.780201</td>\n",
       "      <td>497.768010</td>\n",
       "      <td>246.22</td>\n",
       "      <td>0.203070</td>\n",
       "      <td>1.025101</td>\n",
       "    </tr>\n",
       "    <tr>\n",
       "      <th>4</th>\n",
       "      <td>2020-06-29</td>\n",
       "      <td>250</td>\n",
       "      <td>20200629</td>\n",
       "      <td>304.46</td>\n",
       "      <td>0.410563</td>\n",
       "      <td>1.190764</td>\n",
       "      <td>725.079776</td>\n",
       "      <td>242.84</td>\n",
       "      <td>0.514742</td>\n",
       "      <td>1.539843</td>\n",
       "    </tr>\n",
       "    <tr>\n",
       "      <th>5</th>\n",
       "      <td>2020-07-20</td>\n",
       "      <td>250</td>\n",
       "      <td>20200720</td>\n",
       "      <td>324.32</td>\n",
       "      <td>0.385422</td>\n",
       "      <td>1.576185</td>\n",
       "      <td>1022.376906</td>\n",
       "      <td>266.78</td>\n",
       "      <td>0.468551</td>\n",
       "      <td>2.008394</td>\n",
       "    </tr>\n",
       "    <tr>\n",
       "      <th>...</th>\n",
       "      <td>...</td>\n",
       "      <td>...</td>\n",
       "      <td>...</td>\n",
       "      <td>...</td>\n",
       "      <td>...</td>\n",
       "      <td>...</td>\n",
       "      <td>...</td>\n",
       "      <td>...</td>\n",
       "      <td>...</td>\n",
       "      <td>...</td>\n",
       "    </tr>\n",
       "    <tr>\n",
       "      <th>93</th>\n",
       "      <td>2022-05-02</td>\n",
       "      <td>25</td>\n",
       "      <td>20220502</td>\n",
       "      <td>414.48</td>\n",
       "      <td>0.030158</td>\n",
       "      <td>12.324860</td>\n",
       "      <td>10216.815636</td>\n",
       "      <td>318.48</td>\n",
       "      <td>0.039249</td>\n",
       "      <td>15.173956</td>\n",
       "    </tr>\n",
       "    <tr>\n",
       "      <th>94</th>\n",
       "      <td>2022-05-05</td>\n",
       "      <td>92</td>\n",
       "      <td>20220505</td>\n",
       "      <td>413.81</td>\n",
       "      <td>0.111162</td>\n",
       "      <td>12.436022</td>\n",
       "      <td>10292.300324</td>\n",
       "      <td>313.00</td>\n",
       "      <td>0.146965</td>\n",
       "      <td>15.320921</td>\n",
       "    </tr>\n",
       "    <tr>\n",
       "      <th>95</th>\n",
       "      <td>2022-05-09</td>\n",
       "      <td>19</td>\n",
       "      <td>20220509</td>\n",
       "      <td>398.17</td>\n",
       "      <td>0.023859</td>\n",
       "      <td>12.459881</td>\n",
       "      <td>9922.301564</td>\n",
       "      <td>297.15</td>\n",
       "      <td>0.031970</td>\n",
       "      <td>15.352891</td>\n",
       "    </tr>\n",
       "    <tr>\n",
       "      <th>98</th>\n",
       "      <td>2022-05-12</td>\n",
       "      <td>122</td>\n",
       "      <td>20220512</td>\n",
       "      <td>392.34</td>\n",
       "      <td>0.155477</td>\n",
       "      <td>12.615358</td>\n",
       "      <td>9899.019352</td>\n",
       "      <td>291.15</td>\n",
       "      <td>0.209514</td>\n",
       "      <td>15.562405</td>\n",
       "    </tr>\n",
       "    <tr>\n",
       "      <th>96</th>\n",
       "      <td>2022-05-16</td>\n",
       "      <td>20</td>\n",
       "      <td>20220516</td>\n",
       "      <td>400.09</td>\n",
       "      <td>0.024994</td>\n",
       "      <td>12.640353</td>\n",
       "      <td>10114.557406</td>\n",
       "      <td>298.44</td>\n",
       "      <td>0.033508</td>\n",
       "      <td>15.595913</td>\n",
       "    </tr>\n",
       "  </tbody>\n",
       "</table>\n",
       "<p>99 rows × 10 columns</p>\n",
       "</div>"
      ],
      "text/plain": [
       "        Dates  Deposits DatesString  SpyPrice  SpyUnitsBought  \\\n",
       "1  2020-06-09       200    20200609    320.79        0.311730   \n",
       "2  2020-06-09       200    20200609    320.79        0.311730   \n",
       "3  2020-06-10       100    20200610    319.00        0.156740   \n",
       "4  2020-06-29       250    20200629    304.46        0.410563   \n",
       "5  2020-07-20       250    20200720    324.32        0.385422   \n",
       "..        ...       ...         ...       ...             ...   \n",
       "93 2022-05-02        25    20220502    414.48        0.030158   \n",
       "94 2022-05-05        92    20220505    413.81        0.111162   \n",
       "95 2022-05-09        19    20220509    398.17        0.023859   \n",
       "98 2022-05-12       122    20220512    392.34        0.155477   \n",
       "96 2022-05-16        20    20220516    400.09        0.024994   \n",
       "\n",
       "    SpyUnitsCumulative  PortfolioValue  QQQPrice  QQQUnitsBought  \\\n",
       "1             0.311730      200.000000    243.30        0.411015   \n",
       "2             0.623461      400.000000    243.30        0.411015   \n",
       "3             0.780201      497.768010    246.22        0.203070   \n",
       "4             1.190764      725.079776    242.84        0.514742   \n",
       "5             1.576185     1022.376906    266.78        0.468551   \n",
       "..                 ...             ...       ...             ...   \n",
       "93           12.324860    10216.815636    318.48        0.039249   \n",
       "94           12.436022    10292.300324    313.00        0.146965   \n",
       "95           12.459881     9922.301564    297.15        0.031970   \n",
       "98           12.615358     9899.019352    291.15        0.209514   \n",
       "96           12.640353    10114.557406    298.44        0.033508   \n",
       "\n",
       "    QQQUnitsCumulative  \n",
       "1             0.411015  \n",
       "2             0.822030  \n",
       "3             1.025101  \n",
       "4             1.539843  \n",
       "5             2.008394  \n",
       "..                 ...  \n",
       "93           15.173956  \n",
       "94           15.320921  \n",
       "95           15.352891  \n",
       "98           15.562405  \n",
       "96           15.595913  \n",
       "\n",
       "[99 rows x 10 columns]"
      ]
     },
     "execution_count": 307,
     "metadata": {},
     "output_type": "execute_result"
    }
   ],
   "source": [
    "df_new[\"QQQPrice\"] = hist_prices\n",
    "df_new.sort_values(by=\"Dates\",inplace=True)\n",
    "df_new[\"QQQUnitsBought\"] = df_new[\"Deposits\"] / df_new[\"QQQPrice\"]/2\n",
    "df_new[\"QQQUnitsCumulative\"] = df_new[\"QQQUnitsBought\"].cumsum()\n",
    "df_new.head()"
   ]
  },
  {
   "cell_type": "code",
   "execution_count": null,
   "metadata": {
    "ExecuteTime": {
     "end_time": "2022-05-21T23:42:24.822972Z",
     "start_time": "2022-05-21T23:42:24.805981Z"
    },
    "hidden": true
   },
   "outputs": [
    {
     "data": {
      "text/html": [
       "<div>\n",
       "<style scoped>\n",
       "    .dataframe tbody tr th:only-of-type {\n",
       "        vertical-align: middle;\n",
       "    }\n",
       "\n",
       "    .dataframe tbody tr th {\n",
       "        vertical-align: top;\n",
       "    }\n",
       "\n",
       "    .dataframe thead th {\n",
       "        text-align: right;\n",
       "    }\n",
       "</style>\n",
       "<table border=\"1\" class=\"dataframe\">\n",
       "  <thead>\n",
       "    <tr style=\"text-align: right;\">\n",
       "      <th></th>\n",
       "      <th>Dates</th>\n",
       "      <th>Deposits</th>\n",
       "      <th>DatesString</th>\n",
       "      <th>SpyPrice</th>\n",
       "      <th>SpyUnitsBought</th>\n",
       "      <th>SpyUnitsCumulative</th>\n",
       "      <th>PortfolioValue</th>\n",
       "      <th>QQQPrice</th>\n",
       "      <th>QQQUnitsBought</th>\n",
       "      <th>QQQUnitsCumulative</th>\n",
       "    </tr>\n",
       "  </thead>\n",
       "  <tbody>\n",
       "    <tr>\n",
       "      <th>1</th>\n",
       "      <td>2020-06-09</td>\n",
       "      <td>200</td>\n",
       "      <td>20200609</td>\n",
       "      <td>320.79</td>\n",
       "      <td>0.311730</td>\n",
       "      <td>0.311730</td>\n",
       "      <td>200.000000</td>\n",
       "      <td>243.30</td>\n",
       "      <td>0.411015</td>\n",
       "      <td>0.411015</td>\n",
       "    </tr>\n",
       "    <tr>\n",
       "      <th>2</th>\n",
       "      <td>2020-06-09</td>\n",
       "      <td>200</td>\n",
       "      <td>20200609</td>\n",
       "      <td>320.79</td>\n",
       "      <td>0.311730</td>\n",
       "      <td>0.623461</td>\n",
       "      <td>400.000000</td>\n",
       "      <td>243.30</td>\n",
       "      <td>0.411015</td>\n",
       "      <td>0.822030</td>\n",
       "    </tr>\n",
       "    <tr>\n",
       "      <th>3</th>\n",
       "      <td>2020-06-10</td>\n",
       "      <td>100</td>\n",
       "      <td>20200610</td>\n",
       "      <td>319.00</td>\n",
       "      <td>0.156740</td>\n",
       "      <td>0.780201</td>\n",
       "      <td>501.284334</td>\n",
       "      <td>246.22</td>\n",
       "      <td>0.203070</td>\n",
       "      <td>1.025101</td>\n",
       "    </tr>\n",
       "    <tr>\n",
       "      <th>4</th>\n",
       "      <td>2020-06-29</td>\n",
       "      <td>250</td>\n",
       "      <td>20200629</td>\n",
       "      <td>304.46</td>\n",
       "      <td>0.410563</td>\n",
       "      <td>1.190764</td>\n",
       "      <td>736.475376</td>\n",
       "      <td>242.84</td>\n",
       "      <td>0.514742</td>\n",
       "      <td>1.539843</td>\n",
       "    </tr>\n",
       "    <tr>\n",
       "      <th>5</th>\n",
       "      <td>2020-07-20</td>\n",
       "      <td>250</td>\n",
       "      <td>20200720</td>\n",
       "      <td>324.32</td>\n",
       "      <td>0.385422</td>\n",
       "      <td>1.576185</td>\n",
       "      <td>1046.987784</td>\n",
       "      <td>266.78</td>\n",
       "      <td>0.468551</td>\n",
       "      <td>2.008394</td>\n",
       "    </tr>\n",
       "    <tr>\n",
       "      <th>...</th>\n",
       "      <td>...</td>\n",
       "      <td>...</td>\n",
       "      <td>...</td>\n",
       "      <td>...</td>\n",
       "      <td>...</td>\n",
       "      <td>...</td>\n",
       "      <td>...</td>\n",
       "      <td>...</td>\n",
       "      <td>...</td>\n",
       "      <td>...</td>\n",
       "    </tr>\n",
       "    <tr>\n",
       "      <th>93</th>\n",
       "      <td>2022-05-02</td>\n",
       "      <td>25</td>\n",
       "      <td>20220502</td>\n",
       "      <td>414.48</td>\n",
       "      <td>0.030158</td>\n",
       "      <td>12.324860</td>\n",
       "      <td>9941.009230</td>\n",
       "      <td>318.48</td>\n",
       "      <td>0.039249</td>\n",
       "      <td>15.173956</td>\n",
       "    </tr>\n",
       "    <tr>\n",
       "      <th>94</th>\n",
       "      <td>2022-05-05</td>\n",
       "      <td>92</td>\n",
       "      <td>20220505</td>\n",
       "      <td>413.81</td>\n",
       "      <td>0.111162</td>\n",
       "      <td>12.436022</td>\n",
       "      <td>9941.598297</td>\n",
       "      <td>313.00</td>\n",
       "      <td>0.146965</td>\n",
       "      <td>15.320921</td>\n",
       "    </tr>\n",
       "    <tr>\n",
       "      <th>95</th>\n",
       "      <td>2022-05-09</td>\n",
       "      <td>19</td>\n",
       "      <td>20220509</td>\n",
       "      <td>398.17</td>\n",
       "      <td>0.023859</td>\n",
       "      <td>12.459881</td>\n",
       "      <td>9523.262326</td>\n",
       "      <td>297.15</td>\n",
       "      <td>0.031970</td>\n",
       "      <td>15.352891</td>\n",
       "    </tr>\n",
       "    <tr>\n",
       "      <th>98</th>\n",
       "      <td>2022-05-12</td>\n",
       "      <td>122</td>\n",
       "      <td>20220512</td>\n",
       "      <td>392.34</td>\n",
       "      <td>0.155477</td>\n",
       "      <td>12.615358</td>\n",
       "      <td>9480.503874</td>\n",
       "      <td>291.15</td>\n",
       "      <td>0.209514</td>\n",
       "      <td>15.562405</td>\n",
       "    </tr>\n",
       "    <tr>\n",
       "      <th>96</th>\n",
       "      <td>2022-05-16</td>\n",
       "      <td>20</td>\n",
       "      <td>20220516</td>\n",
       "      <td>400.09</td>\n",
       "      <td>0.024994</td>\n",
       "      <td>12.640353</td>\n",
       "      <td>9711.722833</td>\n",
       "      <td>298.44</td>\n",
       "      <td>0.033508</td>\n",
       "      <td>15.595913</td>\n",
       "    </tr>\n",
       "  </tbody>\n",
       "</table>\n",
       "<p>99 rows × 10 columns</p>\n",
       "</div>"
      ],
      "text/plain": [
       "        Dates  Deposits DatesString  SpyPrice  SpyUnitsBought  \\\n",
       "1  2020-06-09       200    20200609    320.79        0.311730   \n",
       "2  2020-06-09       200    20200609    320.79        0.311730   \n",
       "3  2020-06-10       100    20200610    319.00        0.156740   \n",
       "4  2020-06-29       250    20200629    304.46        0.410563   \n",
       "5  2020-07-20       250    20200720    324.32        0.385422   \n",
       "..        ...       ...         ...       ...             ...   \n",
       "93 2022-05-02        25    20220502    414.48        0.030158   \n",
       "94 2022-05-05        92    20220505    413.81        0.111162   \n",
       "95 2022-05-09        19    20220509    398.17        0.023859   \n",
       "98 2022-05-12       122    20220512    392.34        0.155477   \n",
       "96 2022-05-16        20    20220516    400.09        0.024994   \n",
       "\n",
       "    SpyUnitsCumulative  PortfolioValue  QQQPrice  QQQUnitsBought  \\\n",
       "1             0.311730      200.000000    243.30        0.411015   \n",
       "2             0.623461      400.000000    243.30        0.411015   \n",
       "3             0.780201      501.284334    246.22        0.203070   \n",
       "4             1.190764      736.475376    242.84        0.514742   \n",
       "5             1.576185     1046.987784    266.78        0.468551   \n",
       "..                 ...             ...       ...             ...   \n",
       "93           12.324860     9941.009230    318.48        0.039249   \n",
       "94           12.436022     9941.598297    313.00        0.146965   \n",
       "95           12.459881     9523.262326    297.15        0.031970   \n",
       "98           12.615358     9480.503874    291.15        0.209514   \n",
       "96           12.640353     9711.722833    298.44        0.033508   \n",
       "\n",
       "    QQQUnitsCumulative  \n",
       "1             0.411015  \n",
       "2             0.822030  \n",
       "3             1.025101  \n",
       "4             1.539843  \n",
       "5             2.008394  \n",
       "..                 ...  \n",
       "93           15.173956  \n",
       "94           15.320921  \n",
       "95           15.352891  \n",
       "98           15.562405  \n",
       "96           15.595913  \n",
       "\n",
       "[99 rows x 10 columns]"
      ]
     },
     "execution_count": 308,
     "metadata": {},
     "output_type": "execute_result"
    }
   ],
   "source": [
    "df_new[\"PortfolioValue\"] = df_new.SpyUnitsCumulative * df_new.SpyPrice + df_new.QQQUnitsCumulative * df_new.QQQPrice\n",
    "df_new.head()"
   ]
  },
  {
   "cell_type": "markdown",
   "metadata": {
    "hidden": true
   },
   "source": [
    "#### Calculate Current Value"
   ]
  },
  {
   "cell_type": "code",
   "execution_count": null,
   "metadata": {
    "ExecuteTime": {
     "end_time": "2022-05-21T23:43:01.660502Z",
     "start_time": "2022-05-21T23:43:00.710915Z"
    },
    "hidden": true
   },
   "outputs": [
    {
     "data": {
      "text/plain": [
       "9427.288637934453"
      ]
     },
     "execution_count": 310,
     "metadata": {},
     "output_type": "execute_result"
    }
   ],
   "source": [
    "current_value = get_current_price(\"spy\")*df_new.iloc[-1,5] + get_current_price(\"qqq\")*df_new.iloc[-1,9]\n",
    "current_value"
   ]
  },
  {
   "cell_type": "markdown",
   "metadata": {
    "hidden": true
   },
   "source": [
    "### Add up to date date as final datapoint and plot"
   ]
  },
  {
   "cell_type": "code",
   "execution_count": null,
   "metadata": {
    "hidden": true
   },
   "outputs": [],
   "source": [
    "new_row = {\"Dates\": datetime.datetime(2022,05,20), 'Last Name': 'Aruchamy', 'Country': 'India'}\n",
    "\n",
    "df = df.append(df2, ignore_index = True)"
   ]
  },
  {
   "cell_type": "code",
   "execution_count": null,
   "metadata": {
    "ExecuteTime": {
     "end_time": "2022-05-22T15:50:35.875761Z",
     "start_time": "2022-05-22T15:50:35.856764Z"
    },
    "hidden": true
   },
   "outputs": [
    {
     "data": {
      "text/html": [
       "<div>\n",
       "<style scoped>\n",
       "    .dataframe tbody tr th:only-of-type {\n",
       "        vertical-align: middle;\n",
       "    }\n",
       "\n",
       "    .dataframe tbody tr th {\n",
       "        vertical-align: top;\n",
       "    }\n",
       "\n",
       "    .dataframe thead th {\n",
       "        text-align: right;\n",
       "    }\n",
       "</style>\n",
       "<table border=\"1\" class=\"dataframe\">\n",
       "  <thead>\n",
       "    <tr style=\"text-align: right;\">\n",
       "      <th></th>\n",
       "      <th>Dates</th>\n",
       "      <th>Deposits</th>\n",
       "      <th>DatesString</th>\n",
       "      <th>SpyPrice</th>\n",
       "      <th>SpyUnitsBought</th>\n",
       "      <th>SpyUnitsCumulative</th>\n",
       "      <th>PortfolioValue</th>\n",
       "      <th>QQQPrice</th>\n",
       "      <th>QQQUnitsBought</th>\n",
       "      <th>QQQUnitsCumulative</th>\n",
       "    </tr>\n",
       "  </thead>\n",
       "  <tbody>\n",
       "    <tr>\n",
       "      <th>0</th>\n",
       "      <td>2020-06-09</td>\n",
       "      <td>200.0</td>\n",
       "      <td>20200609</td>\n",
       "      <td>320.79</td>\n",
       "      <td>0.311730</td>\n",
       "      <td>0.311730</td>\n",
       "      <td>200.000000</td>\n",
       "      <td>243.30</td>\n",
       "      <td>0.411015</td>\n",
       "      <td>0.411015</td>\n",
       "    </tr>\n",
       "    <tr>\n",
       "      <th>1</th>\n",
       "      <td>2020-06-09</td>\n",
       "      <td>200.0</td>\n",
       "      <td>20200609</td>\n",
       "      <td>320.79</td>\n",
       "      <td>0.311730</td>\n",
       "      <td>0.623461</td>\n",
       "      <td>400.000000</td>\n",
       "      <td>243.30</td>\n",
       "      <td>0.411015</td>\n",
       "      <td>0.822030</td>\n",
       "    </tr>\n",
       "    <tr>\n",
       "      <th>2</th>\n",
       "      <td>2020-06-10</td>\n",
       "      <td>100.0</td>\n",
       "      <td>20200610</td>\n",
       "      <td>319.00</td>\n",
       "      <td>0.156740</td>\n",
       "      <td>0.780201</td>\n",
       "      <td>501.284334</td>\n",
       "      <td>246.22</td>\n",
       "      <td>0.203070</td>\n",
       "      <td>1.025101</td>\n",
       "    </tr>\n",
       "    <tr>\n",
       "      <th>3</th>\n",
       "      <td>2020-06-29</td>\n",
       "      <td>250.0</td>\n",
       "      <td>20200629</td>\n",
       "      <td>304.46</td>\n",
       "      <td>0.410563</td>\n",
       "      <td>1.190764</td>\n",
       "      <td>736.475376</td>\n",
       "      <td>242.84</td>\n",
       "      <td>0.514742</td>\n",
       "      <td>1.539843</td>\n",
       "    </tr>\n",
       "    <tr>\n",
       "      <th>4</th>\n",
       "      <td>2020-07-20</td>\n",
       "      <td>250.0</td>\n",
       "      <td>20200720</td>\n",
       "      <td>324.32</td>\n",
       "      <td>0.385422</td>\n",
       "      <td>1.576185</td>\n",
       "      <td>1046.987784</td>\n",
       "      <td>266.78</td>\n",
       "      <td>0.468551</td>\n",
       "      <td>2.008394</td>\n",
       "    </tr>\n",
       "    <tr>\n",
       "      <th>...</th>\n",
       "      <td>...</td>\n",
       "      <td>...</td>\n",
       "      <td>...</td>\n",
       "      <td>...</td>\n",
       "      <td>...</td>\n",
       "      <td>...</td>\n",
       "      <td>...</td>\n",
       "      <td>...</td>\n",
       "      <td>...</td>\n",
       "      <td>...</td>\n",
       "    </tr>\n",
       "    <tr>\n",
       "      <th>95</th>\n",
       "      <td>2022-05-05</td>\n",
       "      <td>92.0</td>\n",
       "      <td>20220505</td>\n",
       "      <td>413.81</td>\n",
       "      <td>0.111162</td>\n",
       "      <td>12.436022</td>\n",
       "      <td>9941.598297</td>\n",
       "      <td>313.00</td>\n",
       "      <td>0.146965</td>\n",
       "      <td>15.320921</td>\n",
       "    </tr>\n",
       "    <tr>\n",
       "      <th>96</th>\n",
       "      <td>2022-05-09</td>\n",
       "      <td>19.0</td>\n",
       "      <td>20220509</td>\n",
       "      <td>398.17</td>\n",
       "      <td>0.023859</td>\n",
       "      <td>12.459881</td>\n",
       "      <td>9523.262326</td>\n",
       "      <td>297.15</td>\n",
       "      <td>0.031970</td>\n",
       "      <td>15.352891</td>\n",
       "    </tr>\n",
       "    <tr>\n",
       "      <th>97</th>\n",
       "      <td>2022-05-12</td>\n",
       "      <td>122.0</td>\n",
       "      <td>20220512</td>\n",
       "      <td>392.34</td>\n",
       "      <td>0.155477</td>\n",
       "      <td>12.615358</td>\n",
       "      <td>9480.503874</td>\n",
       "      <td>291.15</td>\n",
       "      <td>0.209514</td>\n",
       "      <td>15.562405</td>\n",
       "    </tr>\n",
       "    <tr>\n",
       "      <th>98</th>\n",
       "      <td>2022-05-16</td>\n",
       "      <td>20.0</td>\n",
       "      <td>20220516</td>\n",
       "      <td>400.09</td>\n",
       "      <td>0.024994</td>\n",
       "      <td>12.640353</td>\n",
       "      <td>9711.722833</td>\n",
       "      <td>298.44</td>\n",
       "      <td>0.033508</td>\n",
       "      <td>15.595913</td>\n",
       "    </tr>\n",
       "    <tr>\n",
       "      <th>99</th>\n",
       "      <td>2022-05-20</td>\n",
       "      <td>NaN</td>\n",
       "      <td>NaN</td>\n",
       "      <td>NaN</td>\n",
       "      <td>NaN</td>\n",
       "      <td>NaN</td>\n",
       "      <td>9427.288638</td>\n",
       "      <td>NaN</td>\n",
       "      <td>NaN</td>\n",
       "      <td>NaN</td>\n",
       "    </tr>\n",
       "  </tbody>\n",
       "</table>\n",
       "<p>100 rows × 10 columns</p>\n",
       "</div>"
      ],
      "text/plain": [
       "        Dates  Deposits DatesString  SpyPrice  SpyUnitsBought  \\\n",
       "0  2020-06-09     200.0    20200609    320.79        0.311730   \n",
       "1  2020-06-09     200.0    20200609    320.79        0.311730   \n",
       "2  2020-06-10     100.0    20200610    319.00        0.156740   \n",
       "3  2020-06-29     250.0    20200629    304.46        0.410563   \n",
       "4  2020-07-20     250.0    20200720    324.32        0.385422   \n",
       "..        ...       ...         ...       ...             ...   \n",
       "95 2022-05-05      92.0    20220505    413.81        0.111162   \n",
       "96 2022-05-09      19.0    20220509    398.17        0.023859   \n",
       "97 2022-05-12     122.0    20220512    392.34        0.155477   \n",
       "98 2022-05-16      20.0    20220516    400.09        0.024994   \n",
       "99 2022-05-20       NaN         NaN       NaN             NaN   \n",
       "\n",
       "    SpyUnitsCumulative  PortfolioValue  QQQPrice  QQQUnitsBought  \\\n",
       "0             0.311730      200.000000    243.30        0.411015   \n",
       "1             0.623461      400.000000    243.30        0.411015   \n",
       "2             0.780201      501.284334    246.22        0.203070   \n",
       "3             1.190764      736.475376    242.84        0.514742   \n",
       "4             1.576185     1046.987784    266.78        0.468551   \n",
       "..                 ...             ...       ...             ...   \n",
       "95           12.436022     9941.598297    313.00        0.146965   \n",
       "96           12.459881     9523.262326    297.15        0.031970   \n",
       "97           12.615358     9480.503874    291.15        0.209514   \n",
       "98           12.640353     9711.722833    298.44        0.033508   \n",
       "99                 NaN     9427.288638       NaN             NaN   \n",
       "\n",
       "    QQQUnitsCumulative  \n",
       "0             0.411015  \n",
       "1             0.822030  \n",
       "2             1.025101  \n",
       "3             1.539843  \n",
       "4             2.008394  \n",
       "..                 ...  \n",
       "95           15.320921  \n",
       "96           15.352891  \n",
       "97           15.562405  \n",
       "98           15.595913  \n",
       "99                 NaN  \n",
       "\n",
       "[100 rows x 10 columns]"
      ]
     },
     "execution_count": 371,
     "metadata": {},
     "output_type": "execute_result"
    }
   ],
   "source": [
    "last_date = datetime.datetime(2022 , 5, 20)\n",
    "new_row = pd.DataFrame({\"Dates\": [last_date], \"PortfolioValue\" : [current_value]})\n",
    "\n",
    "df_temp = pd.concat([df_new,new_row,], axis=0, ignore_index=True)\n",
    "df_temp"
   ]
  },
  {
   "cell_type": "markdown",
   "metadata": {
    "heading_collapsed": true,
    "hidden": true
   },
   "source": [
    "###  Load Data from CSV - so as not to repeat API Calls"
   ]
  },
  {
   "cell_type": "markdown",
   "metadata": {},
   "source": [
    "## 2- Use Yfinance to get historical prices "
   ]
  },
  {
   "cell_type": "markdown",
   "metadata": {},
   "source": [
    "Define products and purchase weighings"
   ]
  },
  {
   "cell_type": "code",
   "execution_count": 10,
   "metadata": {
    "ExecuteTime": {
     "end_time": "2022-08-22T16:24:22.963287Z",
     "start_time": "2022-08-22T16:24:22.950289Z"
    }
   },
   "outputs": [],
   "source": [
    "products = {'SPY':0.3,\n",
    "           'QQQ':0.3,\n",
    "           'AGG' : 0.3,\n",
    "           'BIL':0.1} \n",
    "\n",
    "products_use = sorted([key for key,value in products.items() if value != 0])\n",
    "\n"
   ]
  },
  {
   "cell_type": "code",
   "execution_count": 11,
   "metadata": {},
   "outputs": [
    {
     "data": {
      "text/plain": [
       "['AGG', 'BIL', 'QQQ', 'SPY']"
      ]
     },
     "execution_count": 11,
     "metadata": {},
     "output_type": "execute_result"
    }
   ],
   "source": [
    "products_use"
   ]
  },
  {
   "cell_type": "markdown",
   "metadata": {},
   "source": [
    "##### Download data and merge"
   ]
  },
  {
   "cell_type": "code",
   "execution_count": 12,
   "metadata": {
    "ExecuteTime": {
     "end_time": "2022-08-22T16:24:23.754197Z",
     "start_time": "2022-08-22T16:24:23.354287Z"
    }
   },
   "outputs": [
    {
     "name": "stdout",
     "output_type": "stream",
     "text": [
      "[*********************100%***********************]  4 of 4 completed\n"
     ]
    }
   ],
   "source": [
    "data = yf.download(' '.join(products_use), start=\"2020-06-01\", end=\"2022-08-12\")\n",
    "\n",
    "data = pd.DataFrame(data['Adj Close'])\n",
    "data.reset_index(inplace=True)"
   ]
  },
  {
   "cell_type": "code",
   "execution_count": 13,
   "metadata": {
    "ExecuteTime": {
     "end_time": "2022-08-22T16:24:23.769501Z",
     "start_time": "2022-08-22T16:24:23.755502Z"
    }
   },
   "outputs": [],
   "source": [
    "new_df = df.merge(how='left', right=data,left_on='Date', right_on = 'Date')"
   ]
  },
  {
   "cell_type": "markdown",
   "metadata": {
    "ExecuteTime": {
     "end_time": "2022-08-13T16:31:39.500002Z",
     "start_time": "2022-08-13T16:31:39.483847Z"
    }
   },
   "source": [
    "### Calculate amount of each instrument bought according to weighing"
   ]
  },
  {
   "cell_type": "markdown",
   "metadata": {},
   "source": [
    "TODO: Put this into function so it works with any number of assets, and Risk free asset as well"
   ]
  },
  {
   "cell_type": "code",
   "execution_count": 14,
   "metadata": {
    "ExecuteTime": {
     "end_time": "2022-08-22T16:24:24.202502Z",
     "start_time": "2022-08-22T16:24:24.194502Z"
    }
   },
   "outputs": [],
   "source": [
    "units_bought = [f'{i}_units_bought' for i in data.columns.tolist()[1:] ]\n",
    "units_cum = [f'{i}_units_cum' for i in data.columns.tolist()[1:] ]\n",
    "units_value = [f'{i}_value' for i in data.columns.tolist()[1:] ]\n",
    "\n",
    "for i in range(len(units_bought)):\n",
    "    p = products_use[i]\n",
    "    weight = products[p] \n",
    "    new_df[units_bought[i]] =  new_df.Deposit * weight / new_df[products_use[i]]\n",
    "    \n",
    "    "
   ]
  },
  {
   "cell_type": "code",
   "execution_count": 19,
   "metadata": {},
   "outputs": [
    {
     "data": {
      "text/plain": [
       "['Date', 'AGG', 'BIL', 'QQQ', 'SPY']"
      ]
     },
     "execution_count": 19,
     "metadata": {},
     "output_type": "execute_result"
    }
   ],
   "source": [
    "data.columns.tolist()"
   ]
  },
  {
   "cell_type": "markdown",
   "metadata": {},
   "source": [
    "##### Add cumulative sums"
   ]
  },
  {
   "cell_type": "code",
   "execution_count": null,
   "metadata": {
    "ExecuteTime": {
     "end_time": "2022-08-22T16:24:24.702518Z",
     "start_time": "2022-08-22T16:24:24.680663Z"
    }
   },
   "outputs": [],
   "source": [
    "for i in range(len(units_cum)):\n",
    "    new_df[units_cum[i]] = new_df[units_bought[i]].cumsum()\n",
    "    \n",
    "for i in range(len(units_value)):\n",
    "    p = products_use[i]\n",
    "    weight = products[p] \n",
    "    new_df[units_value[i]] =  new_df[products_use[i]] * new_df[units_cum[i]]\n",
    "    \n"
   ]
  },
  {
   "cell_type": "code",
   "execution_count": null,
   "metadata": {
    "ExecuteTime": {
     "end_time": "2022-08-22T16:24:24.967690Z",
     "start_time": "2022-08-22T16:24:24.961518Z"
    }
   },
   "outputs": [],
   "source": [
    "new_df['Portfolio_Value'] = new_df[units_value].sum(axis=1)\n",
    "new_df['Deposits_cum'] = new_df.Deposit.cumsum()"
   ]
  },
  {
   "cell_type": "code",
   "execution_count": null,
   "metadata": {
    "ExecuteTime": {
     "end_time": "2022-08-22T16:24:25.215914Z",
     "start_time": "2022-08-22T16:24:25.203097Z"
    }
   },
   "outputs": [
    {
     "data": {
      "text/html": [
       "<div>\n",
       "<style scoped>\n",
       "    .dataframe tbody tr th:only-of-type {\n",
       "        vertical-align: middle;\n",
       "    }\n",
       "\n",
       "    .dataframe tbody tr th {\n",
       "        vertical-align: top;\n",
       "    }\n",
       "\n",
       "    .dataframe thead th {\n",
       "        text-align: right;\n",
       "    }\n",
       "</style>\n",
       "<table border=\"1\" class=\"dataframe\">\n",
       "  <thead>\n",
       "    <tr style=\"text-align: right;\">\n",
       "      <th></th>\n",
       "      <th>Deposit</th>\n",
       "      <th>Date</th>\n",
       "      <th>AGG</th>\n",
       "      <th>BIL</th>\n",
       "      <th>QQQ</th>\n",
       "      <th>SPY</th>\n",
       "      <th>AGG_units_bought</th>\n",
       "      <th>BIL_units_bought</th>\n",
       "      <th>QQQ_units_bought</th>\n",
       "      <th>SPY_units_bought</th>\n",
       "      <th>AGG_units_cum</th>\n",
       "      <th>BIL_units_cum</th>\n",
       "      <th>QQQ_units_cum</th>\n",
       "      <th>SPY_units_cum</th>\n",
       "      <th>AGG_value</th>\n",
       "      <th>BIL_value</th>\n",
       "      <th>QQQ_value</th>\n",
       "      <th>SPY_value</th>\n",
       "      <th>Portfolio_Value</th>\n",
       "      <th>Deposits_cum</th>\n",
       "    </tr>\n",
       "  </thead>\n",
       "  <tbody>\n",
       "    <tr>\n",
       "      <th>0</th>\n",
       "      <td>400.0</td>\n",
       "      <td>2020-06-09</td>\n",
       "      <td>112.505486</td>\n",
       "      <td>91.324013</td>\n",
       "      <td>240.515579</td>\n",
       "      <td>310.285675</td>\n",
       "      <td>1.066615</td>\n",
       "      <td>0.438001</td>\n",
       "      <td>0.498928</td>\n",
       "      <td>0.38674</td>\n",
       "      <td>1.066615</td>\n",
       "      <td>0.438001</td>\n",
       "      <td>0.498928</td>\n",
       "      <td>0.38674</td>\n",
       "      <td>120.0</td>\n",
       "      <td>40.0</td>\n",
       "      <td>120.0</td>\n",
       "      <td>120.0</td>\n",
       "      <td>400.0</td>\n",
       "      <td>400.0</td>\n",
       "    </tr>\n",
       "  </tbody>\n",
       "</table>\n",
       "</div>"
      ],
      "text/plain": [
       "   Deposit       Date         AGG        BIL         QQQ         SPY  \\\n",
       "0    400.0 2020-06-09  112.505486  91.324013  240.515579  310.285675   \n",
       "\n",
       "   AGG_units_bought  BIL_units_bought  QQQ_units_bought  SPY_units_bought  \\\n",
       "0          1.066615          0.438001          0.498928           0.38674   \n",
       "\n",
       "   AGG_units_cum  BIL_units_cum  QQQ_units_cum  SPY_units_cum  AGG_value  \\\n",
       "0       1.066615       0.438001       0.498928        0.38674      120.0   \n",
       "\n",
       "   BIL_value  QQQ_value  SPY_value  Portfolio_Value  Deposits_cum  \n",
       "0       40.0      120.0      120.0            400.0         400.0  "
      ]
     },
     "execution_count": 55,
     "metadata": {},
     "output_type": "execute_result"
    }
   ],
   "source": [
    "new_df.head(1)"
   ]
  },
  {
   "cell_type": "code",
   "execution_count": null,
   "metadata": {
    "ExecuteTime": {
     "end_time": "2022-08-22T16:24:25.699240Z",
     "start_time": "2022-08-22T16:24:25.674244Z"
    }
   },
   "outputs": [
    {
     "data": {
      "text/html": [
       "<div>\n",
       "<style scoped>\n",
       "    .dataframe tbody tr th:only-of-type {\n",
       "        vertical-align: middle;\n",
       "    }\n",
       "\n",
       "    .dataframe tbody tr th {\n",
       "        vertical-align: top;\n",
       "    }\n",
       "\n",
       "    .dataframe thead th {\n",
       "        text-align: right;\n",
       "    }\n",
       "</style>\n",
       "<table border=\"1\" class=\"dataframe\">\n",
       "  <thead>\n",
       "    <tr style=\"text-align: right;\">\n",
       "      <th></th>\n",
       "      <th>Deposit</th>\n",
       "      <th>Date</th>\n",
       "      <th>AGG</th>\n",
       "      <th>BIL</th>\n",
       "      <th>QQQ</th>\n",
       "      <th>SPY</th>\n",
       "      <th>AGG_units_bought</th>\n",
       "      <th>BIL_units_bought</th>\n",
       "      <th>QQQ_units_bought</th>\n",
       "      <th>SPY_units_bought</th>\n",
       "      <th>AGG_units_cum</th>\n",
       "      <th>BIL_units_cum</th>\n",
       "      <th>QQQ_units_cum</th>\n",
       "      <th>SPY_units_cum</th>\n",
       "      <th>AGG_value</th>\n",
       "      <th>BIL_value</th>\n",
       "      <th>QQQ_value</th>\n",
       "      <th>SPY_value</th>\n",
       "      <th>Portfolio_Value</th>\n",
       "      <th>Deposits_cum</th>\n",
       "    </tr>\n",
       "  </thead>\n",
       "  <tbody>\n",
       "    <tr>\n",
       "      <th>0</th>\n",
       "      <td>400.00</td>\n",
       "      <td>2020-06-09</td>\n",
       "      <td>112.505486</td>\n",
       "      <td>91.324013</td>\n",
       "      <td>240.515579</td>\n",
       "      <td>310.285675</td>\n",
       "      <td>1.066615</td>\n",
       "      <td>0.438001</td>\n",
       "      <td>0.498928</td>\n",
       "      <td>0.386740</td>\n",
       "      <td>1.066615</td>\n",
       "      <td>0.438001</td>\n",
       "      <td>0.498928</td>\n",
       "      <td>0.386740</td>\n",
       "      <td>120.000000</td>\n",
       "      <td>40.000000</td>\n",
       "      <td>120.000000</td>\n",
       "      <td>120.000000</td>\n",
       "      <td>400.000000</td>\n",
       "      <td>400.00</td>\n",
       "    </tr>\n",
       "    <tr>\n",
       "      <th>1</th>\n",
       "      <td>100.00</td>\n",
       "      <td>2020-06-10</td>\n",
       "      <td>112.966362</td>\n",
       "      <td>91.333992</td>\n",
       "      <td>243.402161</td>\n",
       "      <td>308.554260</td>\n",
       "      <td>0.265566</td>\n",
       "      <td>0.109488</td>\n",
       "      <td>0.123253</td>\n",
       "      <td>0.097228</td>\n",
       "      <td>1.332180</td>\n",
       "      <td>0.547489</td>\n",
       "      <td>0.622181</td>\n",
       "      <td>0.483968</td>\n",
       "      <td>150.491578</td>\n",
       "      <td>50.004371</td>\n",
       "      <td>151.440197</td>\n",
       "      <td>149.330392</td>\n",
       "      <td>501.266537</td>\n",
       "      <td>500.00</td>\n",
       "    </tr>\n",
       "    <tr>\n",
       "      <th>2</th>\n",
       "      <td>250.00</td>\n",
       "      <td>2020-06-29</td>\n",
       "      <td>113.398438</td>\n",
       "      <td>91.324013</td>\n",
       "      <td>240.478302</td>\n",
       "      <td>295.786285</td>\n",
       "      <td>0.661385</td>\n",
       "      <td>0.273751</td>\n",
       "      <td>0.311878</td>\n",
       "      <td>0.253561</td>\n",
       "      <td>1.993565</td>\n",
       "      <td>0.821240</td>\n",
       "      <td>0.934059</td>\n",
       "      <td>0.737529</td>\n",
       "      <td>226.067180</td>\n",
       "      <td>74.998907</td>\n",
       "      <td>224.621028</td>\n",
       "      <td>218.151101</td>\n",
       "      <td>743.838216</td>\n",
       "      <td>750.00</td>\n",
       "    </tr>\n",
       "    <tr>\n",
       "      <th>3</th>\n",
       "      <td>250.00</td>\n",
       "      <td>2020-07-20</td>\n",
       "      <td>114.478462</td>\n",
       "      <td>91.333992</td>\n",
       "      <td>264.185455</td>\n",
       "      <td>315.080536</td>\n",
       "      <td>0.655145</td>\n",
       "      <td>0.273721</td>\n",
       "      <td>0.283891</td>\n",
       "      <td>0.238034</td>\n",
       "      <td>2.648710</td>\n",
       "      <td>1.094960</td>\n",
       "      <td>1.217951</td>\n",
       "      <td>0.975564</td>\n",
       "      <td>303.220280</td>\n",
       "      <td>100.007103</td>\n",
       "      <td>321.764918</td>\n",
       "      <td>307.381179</td>\n",
       "      <td>1032.373479</td>\n",
       "      <td>1000.00</td>\n",
       "    </tr>\n",
       "    <tr>\n",
       "      <th>4</th>\n",
       "      <td>50.00</td>\n",
       "      <td>2020-08-04</td>\n",
       "      <td>115.274460</td>\n",
       "      <td>91.333992</td>\n",
       "      <td>267.750488</td>\n",
       "      <td>320.656952</td>\n",
       "      <td>0.130124</td>\n",
       "      <td>0.054744</td>\n",
       "      <td>0.056022</td>\n",
       "      <td>0.046779</td>\n",
       "      <td>2.778835</td>\n",
       "      <td>1.149705</td>\n",
       "      <td>1.273973</td>\n",
       "      <td>1.022343</td>\n",
       "      <td>320.328647</td>\n",
       "      <td>105.007103</td>\n",
       "      <td>341.106953</td>\n",
       "      <td>327.821329</td>\n",
       "      <td>1094.264031</td>\n",
       "      <td>1050.00</td>\n",
       "    </tr>\n",
       "    <tr>\n",
       "      <th>...</th>\n",
       "      <td>...</td>\n",
       "      <td>...</td>\n",
       "      <td>...</td>\n",
       "      <td>...</td>\n",
       "      <td>...</td>\n",
       "      <td>...</td>\n",
       "      <td>...</td>\n",
       "      <td>...</td>\n",
       "      <td>...</td>\n",
       "      <td>...</td>\n",
       "      <td>...</td>\n",
       "      <td>...</td>\n",
       "      <td>...</td>\n",
       "      <td>...</td>\n",
       "      <td>...</td>\n",
       "      <td>...</td>\n",
       "      <td>...</td>\n",
       "      <td>...</td>\n",
       "      <td>...</td>\n",
       "      <td>...</td>\n",
       "    </tr>\n",
       "    <tr>\n",
       "      <th>100</th>\n",
       "      <td>177.00</td>\n",
       "      <td>2022-07-15</td>\n",
       "      <td>102.053497</td>\n",
       "      <td>91.323051</td>\n",
       "      <td>291.869995</td>\n",
       "      <td>385.130005</td>\n",
       "      <td>0.520315</td>\n",
       "      <td>0.193817</td>\n",
       "      <td>0.181930</td>\n",
       "      <td>0.137876</td>\n",
       "      <td>28.509836</td>\n",
       "      <td>11.507024</td>\n",
       "      <td>9.701223</td>\n",
       "      <td>7.887476</td>\n",
       "      <td>2909.528426</td>\n",
       "      <td>1050.856514</td>\n",
       "      <td>2831.495802</td>\n",
       "      <td>3037.703862</td>\n",
       "      <td>9829.584603</td>\n",
       "      <td>10502.75</td>\n",
       "    </tr>\n",
       "    <tr>\n",
       "      <th>101</th>\n",
       "      <td>89.52</td>\n",
       "      <td>2022-07-18</td>\n",
       "      <td>101.724129</td>\n",
       "      <td>91.323051</td>\n",
       "      <td>289.399994</td>\n",
       "      <td>381.950012</td>\n",
       "      <td>0.264008</td>\n",
       "      <td>0.098026</td>\n",
       "      <td>0.092799</td>\n",
       "      <td>0.070313</td>\n",
       "      <td>28.773844</td>\n",
       "      <td>11.605049</td>\n",
       "      <td>9.794022</td>\n",
       "      <td>7.957789</td>\n",
       "      <td>2926.994181</td>\n",
       "      <td>1059.808514</td>\n",
       "      <td>2834.389770</td>\n",
       "      <td>3039.477744</td>\n",
       "      <td>9860.670209</td>\n",
       "      <td>10592.27</td>\n",
       "    </tr>\n",
       "    <tr>\n",
       "      <th>102</th>\n",
       "      <td>84.33</td>\n",
       "      <td>2022-07-25</td>\n",
       "      <td>102.782097</td>\n",
       "      <td>91.353012</td>\n",
       "      <td>300.269989</td>\n",
       "      <td>395.570007</td>\n",
       "      <td>0.246142</td>\n",
       "      <td>0.092312</td>\n",
       "      <td>0.084254</td>\n",
       "      <td>0.063956</td>\n",
       "      <td>29.019986</td>\n",
       "      <td>11.697362</td>\n",
       "      <td>9.878276</td>\n",
       "      <td>8.021745</td>\n",
       "      <td>2982.734991</td>\n",
       "      <td>1068.589209</td>\n",
       "      <td>2966.149736</td>\n",
       "      <td>3173.161796</td>\n",
       "      <td>10190.635732</td>\n",
       "      <td>10676.60</td>\n",
       "    </tr>\n",
       "    <tr>\n",
       "      <th>103</th>\n",
       "      <td>91.41</td>\n",
       "      <td>2022-08-01</td>\n",
       "      <td>104.230003</td>\n",
       "      <td>91.379997</td>\n",
       "      <td>315.269989</td>\n",
       "      <td>410.769989</td>\n",
       "      <td>0.263101</td>\n",
       "      <td>0.100033</td>\n",
       "      <td>0.086983</td>\n",
       "      <td>0.066760</td>\n",
       "      <td>29.283087</td>\n",
       "      <td>11.797394</td>\n",
       "      <td>9.965258</td>\n",
       "      <td>8.088505</td>\n",
       "      <td>3052.176217</td>\n",
       "      <td>1078.045864</td>\n",
       "      <td>3141.746872</td>\n",
       "      <td>3322.515176</td>\n",
       "      <td>10594.484129</td>\n",
       "      <td>10768.01</td>\n",
       "    </tr>\n",
       "    <tr>\n",
       "      <th>104</th>\n",
       "      <td>90.58</td>\n",
       "      <td>2022-08-08</td>\n",
       "      <td>103.180000</td>\n",
       "      <td>91.430000</td>\n",
       "      <td>320.709991</td>\n",
       "      <td>412.989990</td>\n",
       "      <td>0.263365</td>\n",
       "      <td>0.099070</td>\n",
       "      <td>0.084731</td>\n",
       "      <td>0.065798</td>\n",
       "      <td>29.546452</td>\n",
       "      <td>11.896465</td>\n",
       "      <td>10.049989</td>\n",
       "      <td>8.154303</td>\n",
       "      <td>3048.602887</td>\n",
       "      <td>1087.693770</td>\n",
       "      <td>3223.131901</td>\n",
       "      <td>3367.645667</td>\n",
       "      <td>10727.074225</td>\n",
       "      <td>10858.59</td>\n",
       "    </tr>\n",
       "  </tbody>\n",
       "</table>\n",
       "<p>105 rows × 20 columns</p>\n",
       "</div>"
      ],
      "text/plain": [
       "     Deposit       Date         AGG        BIL         QQQ         SPY  \\\n",
       "0     400.00 2020-06-09  112.505486  91.324013  240.515579  310.285675   \n",
       "1     100.00 2020-06-10  112.966362  91.333992  243.402161  308.554260   \n",
       "2     250.00 2020-06-29  113.398438  91.324013  240.478302  295.786285   \n",
       "3     250.00 2020-07-20  114.478462  91.333992  264.185455  315.080536   \n",
       "4      50.00 2020-08-04  115.274460  91.333992  267.750488  320.656952   \n",
       "..       ...        ...         ...        ...         ...         ...   \n",
       "100   177.00 2022-07-15  102.053497  91.323051  291.869995  385.130005   \n",
       "101    89.52 2022-07-18  101.724129  91.323051  289.399994  381.950012   \n",
       "102    84.33 2022-07-25  102.782097  91.353012  300.269989  395.570007   \n",
       "103    91.41 2022-08-01  104.230003  91.379997  315.269989  410.769989   \n",
       "104    90.58 2022-08-08  103.180000  91.430000  320.709991  412.989990   \n",
       "\n",
       "     AGG_units_bought  BIL_units_bought  QQQ_units_bought  SPY_units_bought  \\\n",
       "0            1.066615          0.438001          0.498928          0.386740   \n",
       "1            0.265566          0.109488          0.123253          0.097228   \n",
       "2            0.661385          0.273751          0.311878          0.253561   \n",
       "3            0.655145          0.273721          0.283891          0.238034   \n",
       "4            0.130124          0.054744          0.056022          0.046779   \n",
       "..                ...               ...               ...               ...   \n",
       "100          0.520315          0.193817          0.181930          0.137876   \n",
       "101          0.264008          0.098026          0.092799          0.070313   \n",
       "102          0.246142          0.092312          0.084254          0.063956   \n",
       "103          0.263101          0.100033          0.086983          0.066760   \n",
       "104          0.263365          0.099070          0.084731          0.065798   \n",
       "\n",
       "     AGG_units_cum  BIL_units_cum  QQQ_units_cum  SPY_units_cum    AGG_value  \\\n",
       "0         1.066615       0.438001       0.498928       0.386740   120.000000   \n",
       "1         1.332180       0.547489       0.622181       0.483968   150.491578   \n",
       "2         1.993565       0.821240       0.934059       0.737529   226.067180   \n",
       "3         2.648710       1.094960       1.217951       0.975564   303.220280   \n",
       "4         2.778835       1.149705       1.273973       1.022343   320.328647   \n",
       "..             ...            ...            ...            ...          ...   \n",
       "100      28.509836      11.507024       9.701223       7.887476  2909.528426   \n",
       "101      28.773844      11.605049       9.794022       7.957789  2926.994181   \n",
       "102      29.019986      11.697362       9.878276       8.021745  2982.734991   \n",
       "103      29.283087      11.797394       9.965258       8.088505  3052.176217   \n",
       "104      29.546452      11.896465      10.049989       8.154303  3048.602887   \n",
       "\n",
       "       BIL_value    QQQ_value    SPY_value  Portfolio_Value  Deposits_cum  \n",
       "0      40.000000   120.000000   120.000000       400.000000        400.00  \n",
       "1      50.004371   151.440197   149.330392       501.266537        500.00  \n",
       "2      74.998907   224.621028   218.151101       743.838216        750.00  \n",
       "3     100.007103   321.764918   307.381179      1032.373479       1000.00  \n",
       "4     105.007103   341.106953   327.821329      1094.264031       1050.00  \n",
       "..           ...          ...          ...              ...           ...  \n",
       "100  1050.856514  2831.495802  3037.703862      9829.584603      10502.75  \n",
       "101  1059.808514  2834.389770  3039.477744      9860.670209      10592.27  \n",
       "102  1068.589209  2966.149736  3173.161796     10190.635732      10676.60  \n",
       "103  1078.045864  3141.746872  3322.515176     10594.484129      10768.01  \n",
       "104  1087.693770  3223.131901  3367.645667     10727.074225      10858.59  \n",
       "\n",
       "[105 rows x 20 columns]"
      ]
     },
     "execution_count": 56,
     "metadata": {},
     "output_type": "execute_result"
    }
   ],
   "source": [
    "new_df"
   ]
  },
  {
   "cell_type": "markdown",
   "metadata": {},
   "source": [
    "####  Create dataframe for the risk free asset"
   ]
  },
  {
   "cell_type": "code",
   "execution_count": null,
   "metadata": {
    "ExecuteTime": {
     "end_time": "2022-08-22T16:24:31.266139Z",
     "start_time": "2022-08-22T16:24:30.881314Z"
    }
   },
   "outputs": [
    {
     "name": "stdout",
     "output_type": "stream",
     "text": [
      "[*********************100%***********************]  1 of 1 completed\n"
     ]
    }
   ],
   "source": [
    "rf_ticker = 'BIL'\n",
    "data = yf.download(rf_ticker, start=\"2020-06-01\", end=\"2022-08-12\")\n",
    "\n",
    "data = pd.DataFrame(data['Adj Close'])\n",
    "data.reset_index(inplace=True)"
   ]
  },
  {
   "cell_type": "code",
   "execution_count": null,
   "metadata": {
    "ExecuteTime": {
     "end_time": "2022-08-22T16:24:31.282138Z",
     "start_time": "2022-08-22T16:24:31.267137Z"
    }
   },
   "outputs": [],
   "source": [
    "data.columns = ['Date', rf_ticker]\n",
    "rf_df = df.merge(how='left', right=data,left_on='Date', right_on = 'Date')"
   ]
  },
  {
   "cell_type": "code",
   "execution_count": null,
   "metadata": {
    "ExecuteTime": {
     "end_time": "2022-08-22T16:24:31.529489Z",
     "start_time": "2022-08-22T16:24:31.521139Z"
    },
    "scrolled": true
   },
   "outputs": [
    {
     "data": {
      "text/plain": [
       "Deposit                               90.58\n",
       "Date                    2022-08-08 00:00:00\n",
       "BIL                                   91.43\n",
       "BIL_Units_Bought                   0.990703\n",
       "BIL_Units_Bought_Cum             118.964646\n",
       "Portfolio_Value                10876.937625\n",
       "Deposits_cum                       10858.59\n",
       "Name: 104, dtype: object"
      ]
     },
     "execution_count": 59,
     "metadata": {},
     "output_type": "execute_result"
    }
   ],
   "source": [
    "rf_df[f'{rf_ticker}_Units_Bought'] = rf_df.Deposit / rf_df[rf_ticker]\n",
    "rf_df[f'{rf_ticker}_Units_Bought_Cum'] = rf_df[f'{rf_ticker}_Units_Bought'].cumsum()\n",
    "rf_df['Portfolio_Value'] = rf_df[f'{rf_ticker}_Units_Bought_Cum'] * rf_df[rf_ticker]\n",
    "rf_df['Deposits_cum'] = rf_df.Deposit.cumsum()\n",
    "rf_df.iloc[-1,:]"
   ]
  },
  {
   "cell_type": "markdown",
   "metadata": {},
   "source": [
    "#### Save data to csv "
   ]
  },
  {
   "cell_type": "code",
   "execution_count": null,
   "metadata": {
    "ExecuteTime": {
     "end_time": "2022-08-22T16:24:32.773511Z",
     "start_time": "2022-08-22T16:24:32.757738Z"
    }
   },
   "outputs": [],
   "source": [
    "new_df.to_csv(\"Model_Portfolio_df.csv\",index=False)\n",
    "rf_df.to_csv('Risk_Free_Portfolio_df.csv',index=False)"
   ]
  },
  {
   "cell_type": "code",
   "execution_count": null,
   "metadata": {
    "ExecuteTime": {
     "end_time": "2022-08-22T16:27:39.279330Z",
     "start_time": "2022-08-22T16:27:39.267254Z"
    }
   },
   "outputs": [
    {
     "data": {
      "text/plain": [
       "Deposit                           90.58\n",
       "Date                2022-08-08 00:00:00\n",
       "AGG                              103.18\n",
       "BIL                               91.43\n",
       "QQQ                          320.709991\n",
       "SPY                           412.98999\n",
       "AGG_units_bought               0.263365\n",
       "BIL_units_bought                0.09907\n",
       "QQQ_units_bought               0.084731\n",
       "SPY_units_bought               0.065798\n",
       "AGG_units_cum                 29.546452\n",
       "BIL_units_cum                 11.896465\n",
       "QQQ_units_cum                 10.049989\n",
       "SPY_units_cum                  8.154303\n",
       "AGG_value                   3048.602887\n",
       "BIL_value                    1087.69377\n",
       "QQQ_value                   3223.131901\n",
       "SPY_value                   3367.645667\n",
       "Portfolio_Value            10727.074225\n",
       "Deposits_cum                   10858.59\n",
       "Name: 104, dtype: object"
      ]
     },
     "execution_count": 65,
     "metadata": {},
     "output_type": "execute_result"
    },
    {
     "name": "stderr",
     "output_type": "stream",
     "text": [
      "Exception in callback BaseSelectorEventLoop._read_from_self()\n",
      "handle: <Handle BaseSelectorEventLoop._read_from_self()>\n",
      "Traceback (most recent call last):\n",
      "  File \"C:\\ProgramData\\Anaconda3\\lib\\asyncio\\events.py\", line 81, in _run\n",
      "    self._context.run(self._callback, *self._args)\n",
      "  File \"C:\\ProgramData\\Anaconda3\\lib\\asyncio\\selector_events.py\", line 120, in _read_from_self\n",
      "    data = self._ssock.recv(4096)\n",
      "ConnectionResetError: [WinError 10054] An existing connection was forcibly closed by the remote host\n",
      "Exception in callback BaseSelectorEventLoop._read_from_self()\n",
      "handle: <Handle BaseSelectorEventLoop._read_from_self()>\n",
      "Traceback (most recent call last):\n",
      "  File \"C:\\ProgramData\\Anaconda3\\lib\\asyncio\\events.py\", line 81, in _run\n",
      "    self._context.run(self._callback, *self._args)\n",
      "  File \"C:\\ProgramData\\Anaconda3\\lib\\asyncio\\selector_events.py\", line 120, in _read_from_self\n",
      "    data = self._ssock.recv(4096)\n",
      "ConnectionResetError: [WinError 10054] An existing connection was forcibly closed by the remote host\n",
      "Exception in callback BaseSelectorEventLoop._read_from_self()\n",
      "handle: <Handle BaseSelectorEventLoop._read_from_self()>\n",
      "Traceback (most recent call last):\n",
      "  File \"C:\\ProgramData\\Anaconda3\\lib\\asyncio\\events.py\", line 81, in _run\n",
      "    self._context.run(self._callback, *self._args)\n",
      "  File \"C:\\ProgramData\\Anaconda3\\lib\\asyncio\\selector_events.py\", line 120, in _read_from_self\n",
      "    data = self._ssock.recv(4096)\n",
      "ConnectionResetError: [WinError 10054] An existing connection was forcibly closed by the remote host\n",
      "Exception in callback BaseSelectorEventLoop._read_from_self()\n",
      "handle: <Handle BaseSelectorEventLoop._read_from_self()>\n",
      "Traceback (most recent call last):\n",
      "  File \"C:\\ProgramData\\Anaconda3\\lib\\asyncio\\events.py\", line 81, in _run\n",
      "    self._context.run(self._callback, *self._args)\n",
      "  File \"C:\\ProgramData\\Anaconda3\\lib\\asyncio\\selector_events.py\", line 120, in _read_from_self\n",
      "    data = self._ssock.recv(4096)\n",
      "ConnectionResetError: [WinError 10054] An existing connection was forcibly closed by the remote host\n",
      "Exception in callback BaseSelectorEventLoop._read_from_self()\n",
      "handle: <Handle BaseSelectorEventLoop._read_from_self()>\n",
      "Traceback (most recent call last):\n",
      "  File \"C:\\ProgramData\\Anaconda3\\lib\\asyncio\\events.py\", line 81, in _run\n",
      "    self._context.run(self._callback, *self._args)\n",
      "  File \"C:\\ProgramData\\Anaconda3\\lib\\asyncio\\selector_events.py\", line 120, in _read_from_self\n",
      "    data = self._ssock.recv(4096)\n",
      "ConnectionResetError: [WinError 10054] An existing connection was forcibly closed by the remote host\n"
     ]
    }
   ],
   "source": [
    "new_df.iloc[-1,:]"
   ]
  },
  {
   "cell_type": "markdown",
   "metadata": {},
   "source": [
    "## Make Fancy Plots and Evaluate Performance"
   ]
  },
  {
   "cell_type": "code",
   "execution_count": null,
   "metadata": {
    "ExecuteTime": {
     "end_time": "2022-08-22T16:20:21.528358Z",
     "start_time": "2022-08-22T16:20:21.267203Z"
    },
    "scrolled": true
   },
   "outputs": [
    {
     "data": {
      "image/png": "[encoded data removed]",
      "text/plain": [
       "<Figure size 2160x1440 with 1 Axes>"
      ]
     },
     "metadata": {
      "needs_background": "light"
     },
     "output_type": "display_data"
    }
   ],
   "source": [
    "fig = plt.gcf()\n",
    "fig.set_size_inches(30, 20)\n",
    "\n",
    "label = str(products.items())[10:]\n",
    "\n",
    "ax = plt.axis()\n",
    "plt.plot(new_df.Date,new_df.Portfolio_Value, color='blue', label=f'Ideal Portfolio: {label}')\n",
    "plt.xlabel('Date')\n",
    "plt.ylabel('Portfolio($)')\n",
    "plt.plot(new_df.Date,rf_df.Portfolio_Value,'r', label='Risk Free Portfolio')\n",
    "\n",
    "plt.legend()\n",
    "plt.xticks(rotation = 45)\n",
    "plt.grid()\n",
    "plt.show()"
   ]
  },
  {
   "cell_type": "markdown",
   "metadata": {},
   "source": [
    "### Useful performance metrics\n",
    "- Max drawdown (as % of deposits)\n",
    "- Risk adjusted return\n",
    "- Create df of continuous day to day data and portfolio price evolution"
   ]
  },
  {
   "cell_type": "code",
   "execution_count": null,
   "metadata": {},
   "outputs": [],
   "source": []
  },
  {
   "cell_type": "markdown",
   "metadata": {},
   "source": [
    "### Imporvements to script "
   ]
  },
  {
   "cell_type": "code",
   "execution_count": null,
   "metadata": {},
   "outputs": [],
   "source": []
  },
  {
   "cell_type": "code",
   "execution_count": null,
   "metadata": {},
   "outputs": [],
   "source": []
  },
  {
   "cell_type": "code",
   "execution_count": null,
   "metadata": {},
   "outputs": [],
   "source": []
  },
  {
   "cell_type": "markdown",
   "metadata": {},
   "source": [
    "#  Extra parts to delete"
   ]
  },
  {
   "cell_type": "markdown",
   "metadata": {},
   "source": [
    "##### Convert weekends to mondays"
   ]
  },
  {
   "cell_type": "code",
   "execution_count": null,
   "metadata": {
    "scrolled": true
   },
   "outputs": [],
   "source": [
    "import datetime\n",
    "\n",
    "# check if date is a saturday or sunday, if so update the dates list by rounding these to the next monday\n",
    "for i in range(0,len(dates)):\n",
    "    this_date = dates[i]\n",
    "    dayno = this_date.weekday()\n",
    "    \n",
    "    if (dayno == 5): \n",
    "        dates[i] = dates[i] + datetime.timedelta(days=2)\n",
    "    if (dayno == 6):\n",
    "        dates[i] = dates[i] + datetime.timedelta(days=1)\n",
    "    \n",
    "\n",
    "# market closed on may 31 2021, nov 26 2020 (index 39, 15)\n",
    "index1 = 39\n",
    "index2 = 15\n",
    "# manually adjust for this\n",
    "dates[index1] = dates[index1] + datetime.timedelta(days=1)\n",
    "dates[index2] = dates[index2] + datetime.timedelta(days=1)"
   ]
  },
  {
   "cell_type": "code",
   "execution_count": null,
   "metadata": {},
   "outputs": [],
   "source": [
    "#convert datetime objects to strings\n",
    "dates_strings = [dates[i].strftime(\"%Y%m%d\") for i in range(0, len(dates))]\n"
   ]
  },
  {
   "cell_type": "code",
   "execution_count": null,
   "metadata": {},
   "outputs": [],
   "source": []
  }
 ],
 "metadata": {
  "kernelspec": {
   "display_name": "Python 3.8.13 ('base')",
   "language": "python",
   "name": "python3"
  },
  "language_info": {
   "codemirror_mode": {
    "name": "ipython",
    "version": 3
   },
   "file_extension": ".py",
   "mimetype": "text/x-python",
   "name": "python",
   "nbconvert_exporter": "python",
   "pygments_lexer": "ipython3",
   "version": "3.8.13"
  },
  "vscode": {
   "interpreter": {
    "hash": "ad2bdc8ecc057115af97d19610ffacc2b4e99fae6737bb82f5d7fb13d2f2c186"
   }
  }
 },
 "nbformat": 4,
 "nbformat_minor": 4
}
