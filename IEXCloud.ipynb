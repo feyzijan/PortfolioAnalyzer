{
 "cells": [
  {
   "cell_type": "markdown",
   "metadata": {},
   "source": [
    "- Use below code if you want to get prices from IEX CloudApi"
   ]
  },
  {
   "cell_type": "code",
   "execution_count": 6,
   "metadata": {},
   "outputs": [],
   "source": [
    "import requests"
   ]
  },
  {
   "cell_type": "markdown",
   "metadata": {},
   "source": [
    "Parameters"
   ]
  },
  {
   "cell_type": "code",
   "execution_count": 4,
   "metadata": {},
   "outputs": [],
   "source": [
    "#import ApiKey\n",
    "#secret_key = ApiKey.secret_api_key\n",
    "\n",
    "secret_key = 1234\n",
    "test_key = \"Tpk_cbb93367d90f48b295ecf0f6dccd8b6c\"\n",
    "\n",
    "base_url = \"https://cloud.iexapis.com/stable/\"\n",
    "base_url_sandbox = \"https://sandbox.iexapis.com/stable/\"\n",
    "\n",
    "sandbox_token = f\"?token={test_key}\"\n",
    "token = f\"?token={secret_key}\""
   ]
  },
  {
   "cell_type": "markdown",
   "metadata": {},
   "source": [
    "Test request with sandbox\n",
    "- Note that if you pass in a weekend date/market holiday you get no result\n",
    "- Take adjusted close prices only, hence assumption is I always buy the thing right before close"
   ]
  },
  {
   "cell_type": "code",
   "execution_count": 8,
   "metadata": {},
   "outputs": [
    {
     "data": {
      "text/plain": [
       "[]"
      ]
     },
     "execution_count": 8,
     "metadata": {},
     "output_type": "execute_result"
    }
   ],
   "source": [
    "symbol = \"spy\"\n",
    "date = '20120101'\n",
    "\n",
    "\n",
    "endpoint = f\"stock/{symbol}/chart/date/{date}\"\n",
    "query = \"&chartByDay=true&chartCloseOnly=true\"\n",
    "req_url = base_url_sandbox + endpoint + sandbox_token + query\n",
    "\n",
    "\n",
    "test = requests.get(req_url).json()\n",
    "test"
   ]
  },
  {
   "cell_type": "markdown",
   "metadata": {},
   "source": [
    "### Function to get adjusted closing prices for list of ticker"
   ]
  },
  {
   "cell_type": "code",
   "execution_count": 9,
   "metadata": {},
   "outputs": [],
   "source": [
    "def get_price_by_date(date_list, symbol, sandbox=True):\n",
    "    # initialize lists to return\n",
    "    hist_prices = []\n",
    "    \n",
    "    if sandbox:\n",
    "        key = sandbox_token\n",
    "        base = base_url_sandbox\n",
    "    else:\n",
    "        key = token\n",
    "        base = base_url\n",
    "        \n",
    "        \n",
    "    queryParameter = \"&chartByDay=true&chartCloseOnly=true\"\n",
    "    \n",
    "    for current_date in date_list:    \n",
    "        endpoint = f\"stock/{symbol}/chart/date/{current_date}\"        \n",
    "        req_url = base + endpoint + key + query\n",
    "        data = requests.get(req_url).json()\n",
    "        hist_prices += [data[0][\"close\"]]\n",
    "        \n",
    "        print(current_date, \"\\n\", data)\n",
    "        \n",
    "    \n",
    "    return hist_prices\n",
    "\n",
    "# Check with Sandbox=True to ensure all dates are valid\n",
    "#hist_prices_mock = get_price_by_date(df[\"DatesString\"], symbol,sandbox=True)\n",
    "\n",
    "# ACTUAL CALL - Execute Rarely  \n",
    "#hist_prices = get_price_by_date(df[\"DatesString\"], symbol,sandbox=False)"
   ]
  },
  {
   "cell_type": "markdown",
   "metadata": {},
   "source": [
    "Function to get current spy price"
   ]
  },
  {
   "cell_type": "code",
   "execution_count": 11,
   "metadata": {},
   "outputs": [],
   "source": [
    "def get_current_price(symbol):\n",
    "    endpoint = f\"/stock/{symbol}/previous\"\n",
    "    query = \"&chartByDay=true&chartCloseOnly=true\"\n",
    "\n",
    "    req_url = base_url + endpoint + token + query\n",
    "\n",
    "    return requests.get(req_url).json()[\"fClose\"]"
   ]
  },
  {
   "cell_type": "code",
   "execution_count": null,
   "metadata": {},
   "outputs": [],
   "source": []
  }
 ],
 "metadata": {
  "kernelspec": {
   "display_name": "Python 3.8.13 ('base')",
   "language": "python",
   "name": "python3"
  },
  "language_info": {
   "codemirror_mode": {
    "name": "ipython",
    "version": 3
   },
   "file_extension": ".py",
   "mimetype": "text/x-python",
   "name": "python",
   "nbconvert_exporter": "python",
   "pygments_lexer": "ipython3",
   "version": "3.8.13"
  },
  "orig_nbformat": 4,
  "vscode": {
   "interpreter": {
    "hash": "ad2bdc8ecc057115af97d19610ffacc2b4e99fae6737bb82f5d7fb13d2f2c186"
   }
  }
 },
 "nbformat": 4,
 "nbformat_minor": 2
}
